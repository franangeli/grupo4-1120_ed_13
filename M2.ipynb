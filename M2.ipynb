{
 "cells": [
  {
   "cell_type": "markdown",
   "metadata": {},
   "source": [
    "<u><b>Desafio n° 1:</b></u>\n",
    "<b>Analisis Exploratorio de Dataset de precios de propiedades</b>\n",
    "\n",
    "<b>Grupo 4</b>\n",
    "\n",
    "<b>Integrantes</b>\n",
    "<ul>\n",
    "<li>Angeli, Francesco</li>\n",
    "<li>Brandan, Gabriel</li>\n",
    "<li>Cubric, Walter</li>\n",
    "<li>Giusti, Patricio Daniel</li>\n",
    "<li>Morelli, Francisco</li>\n",
    "<li>Sanchez, Hernán</li>\n",
    "</ul>\n",
    "<b>Imports</b>"
   ]
  },
  {
   "cell_type": "code",
   "execution_count": 153,
   "metadata": {},
   "outputs": [],
   "source": [
    "#importamos pandas\n",
    "import pandas as pd\n",
    "#importamos numpy\n",
    "import numpy as np\n",
    "#importamos Expresiones Regulares\n",
    "import re\n",
    "\n",
    "import plotly.express as px\n",
    "\n",
    "import seaborn as sns\n"
   ]
  },
  {
   "cell_type": "markdown",
   "metadata": {},
   "source": [
    "<u><b>Base de datos</b></u> inmobiliaria Prosperati año 2017"
   ]
  },
  {
   "cell_type": "code",
   "execution_count": 2,
   "metadata": {},
   "outputs": [
    {
     "name": "stdout",
     "output_type": "stream",
     "text": [
      "Unnamed: 0                      int64\n",
      "operation                      object\n",
      "property_type                  object\n",
      "place_name                     object\n",
      "place_with_parent_names        object\n",
      "country_name                   object\n",
      "state_name                     object\n",
      "geonames_id                   float64\n",
      "lat-lon                        object\n",
      "lat                           float64\n",
      "lon                           float64\n",
      "price                         float64\n",
      "currency                       object\n",
      "price_aprox_local_currency    float64\n",
      "price_aprox_usd               float64\n",
      "surface_total_in_m2           float64\n",
      "surface_covered_in_m2         float64\n",
      "price_usd_per_m2              float64\n",
      "price_per_m2                  float64\n",
      "floor                         float64\n",
      "rooms                         float64\n",
      "expenses                      float64\n",
      "properati_url                  object\n",
      "description                    object\n",
      "title                          object\n",
      "image_thumbnail                object\n",
      "dtype: object\n"
     ]
    },
    {
     "data": {
      "text/html": [
       "<div>\n",
       "<style scoped>\n",
       "    .dataframe tbody tr th:only-of-type {\n",
       "        vertical-align: middle;\n",
       "    }\n",
       "\n",
       "    .dataframe tbody tr th {\n",
       "        vertical-align: top;\n",
       "    }\n",
       "\n",
       "    .dataframe thead th {\n",
       "        text-align: right;\n",
       "    }\n",
       "</style>\n",
       "<table border=\"1\" class=\"dataframe\">\n",
       "  <thead>\n",
       "    <tr style=\"text-align: right;\">\n",
       "      <th></th>\n",
       "      <th>Unnamed: 0</th>\n",
       "      <th>operation</th>\n",
       "      <th>property_type</th>\n",
       "      <th>place_name</th>\n",
       "      <th>place_with_parent_names</th>\n",
       "      <th>country_name</th>\n",
       "      <th>state_name</th>\n",
       "      <th>geonames_id</th>\n",
       "      <th>lat-lon</th>\n",
       "      <th>lat</th>\n",
       "      <th>...</th>\n",
       "      <th>surface_covered_in_m2</th>\n",
       "      <th>price_usd_per_m2</th>\n",
       "      <th>price_per_m2</th>\n",
       "      <th>floor</th>\n",
       "      <th>rooms</th>\n",
       "      <th>expenses</th>\n",
       "      <th>properati_url</th>\n",
       "      <th>description</th>\n",
       "      <th>title</th>\n",
       "      <th>image_thumbnail</th>\n",
       "    </tr>\n",
       "  </thead>\n",
       "  <tbody>\n",
       "    <tr>\n",
       "      <th>0</th>\n",
       "      <td>0</td>\n",
       "      <td>sell</td>\n",
       "      <td>PH</td>\n",
       "      <td>Mataderos</td>\n",
       "      <td>|Argentina|Capital Federal|Mataderos|</td>\n",
       "      <td>Argentina</td>\n",
       "      <td>Capital Federal</td>\n",
       "      <td>3430787.0</td>\n",
       "      <td>-34.6618237,-58.5088387</td>\n",
       "      <td>-34.661824</td>\n",
       "      <td>...</td>\n",
       "      <td>40.0</td>\n",
       "      <td>1127.272727</td>\n",
       "      <td>1550.000000</td>\n",
       "      <td>NaN</td>\n",
       "      <td>NaN</td>\n",
       "      <td>NaN</td>\n",
       "      <td>http://www.properati.com.ar/15bo8_venta_ph_mat...</td>\n",
       "      <td>2 AMBIENTES TIPO CASA PLANTA BAJA POR PASILLO,...</td>\n",
       "      <td>2 AMB TIPO CASA SIN EXPENSAS EN PB</td>\n",
       "      <td>https://thumbs4.properati.com/8/BluUYiHJLhgIIK...</td>\n",
       "    </tr>\n",
       "    <tr>\n",
       "      <th>1</th>\n",
       "      <td>1</td>\n",
       "      <td>sell</td>\n",
       "      <td>apartment</td>\n",
       "      <td>La Plata</td>\n",
       "      <td>|Argentina|Bs.As. G.B.A. Zona Sur|La Plata|</td>\n",
       "      <td>Argentina</td>\n",
       "      <td>Bs.As. G.B.A. Zona Sur</td>\n",
       "      <td>3432039.0</td>\n",
       "      <td>-34.9038831,-57.9643295</td>\n",
       "      <td>-34.903883</td>\n",
       "      <td>...</td>\n",
       "      <td>NaN</td>\n",
       "      <td>NaN</td>\n",
       "      <td>NaN</td>\n",
       "      <td>NaN</td>\n",
       "      <td>NaN</td>\n",
       "      <td>NaN</td>\n",
       "      <td>http://www.properati.com.ar/15bob_venta_depart...</td>\n",
       "      <td>Venta de departamento en décimo piso al frente...</td>\n",
       "      <td>VENTA Depto 2 dorm. a estrenar 7 e/ 36 y 37   ...</td>\n",
       "      <td>https://thumbs4.properati.com/7/ikpVBu2ztHA7jv...</td>\n",
       "    </tr>\n",
       "    <tr>\n",
       "      <th>2</th>\n",
       "      <td>2</td>\n",
       "      <td>sell</td>\n",
       "      <td>apartment</td>\n",
       "      <td>Mataderos</td>\n",
       "      <td>|Argentina|Capital Federal|Mataderos|</td>\n",
       "      <td>Argentina</td>\n",
       "      <td>Capital Federal</td>\n",
       "      <td>3430787.0</td>\n",
       "      <td>-34.6522615,-58.5229825</td>\n",
       "      <td>-34.652262</td>\n",
       "      <td>...</td>\n",
       "      <td>55.0</td>\n",
       "      <td>1309.090909</td>\n",
       "      <td>1309.090909</td>\n",
       "      <td>NaN</td>\n",
       "      <td>NaN</td>\n",
       "      <td>NaN</td>\n",
       "      <td>http://www.properati.com.ar/15bod_venta_depart...</td>\n",
       "      <td>2 AMBIENTES 3ER PISO LATERAL LIVING COMEDOR AM...</td>\n",
       "      <td>2 AMB 3ER PISO CON ASCENSOR APTO CREDITO</td>\n",
       "      <td>https://thumbs4.properati.com/5/SXKr34F_IwG3W_...</td>\n",
       "    </tr>\n",
       "  </tbody>\n",
       "</table>\n",
       "<p>3 rows × 26 columns</p>\n",
       "</div>"
      ],
      "text/plain": [
       "   Unnamed: 0 operation property_type place_name  \\\n",
       "0           0      sell            PH  Mataderos   \n",
       "1           1      sell     apartment   La Plata   \n",
       "2           2      sell     apartment  Mataderos   \n",
       "\n",
       "                       place_with_parent_names country_name  \\\n",
       "0        |Argentina|Capital Federal|Mataderos|    Argentina   \n",
       "1  |Argentina|Bs.As. G.B.A. Zona Sur|La Plata|    Argentina   \n",
       "2        |Argentina|Capital Federal|Mataderos|    Argentina   \n",
       "\n",
       "               state_name  geonames_id                  lat-lon        lat  \\\n",
       "0         Capital Federal    3430787.0  -34.6618237,-58.5088387 -34.661824   \n",
       "1  Bs.As. G.B.A. Zona Sur    3432039.0  -34.9038831,-57.9643295 -34.903883   \n",
       "2         Capital Federal    3430787.0  -34.6522615,-58.5229825 -34.652262   \n",
       "\n",
       "   ...  surface_covered_in_m2  price_usd_per_m2 price_per_m2  floor  rooms  \\\n",
       "0  ...                   40.0       1127.272727  1550.000000    NaN    NaN   \n",
       "1  ...                    NaN               NaN          NaN    NaN    NaN   \n",
       "2  ...                   55.0       1309.090909  1309.090909    NaN    NaN   \n",
       "\n",
       "   expenses                                      properati_url  \\\n",
       "0       NaN  http://www.properati.com.ar/15bo8_venta_ph_mat...   \n",
       "1       NaN  http://www.properati.com.ar/15bob_venta_depart...   \n",
       "2       NaN  http://www.properati.com.ar/15bod_venta_depart...   \n",
       "\n",
       "                                         description  \\\n",
       "0  2 AMBIENTES TIPO CASA PLANTA BAJA POR PASILLO,...   \n",
       "1  Venta de departamento en décimo piso al frente...   \n",
       "2  2 AMBIENTES 3ER PISO LATERAL LIVING COMEDOR AM...   \n",
       "\n",
       "                                               title  \\\n",
       "0                 2 AMB TIPO CASA SIN EXPENSAS EN PB   \n",
       "1  VENTA Depto 2 dorm. a estrenar 7 e/ 36 y 37   ...   \n",
       "2           2 AMB 3ER PISO CON ASCENSOR APTO CREDITO   \n",
       "\n",
       "                                     image_thumbnail  \n",
       "0  https://thumbs4.properati.com/8/BluUYiHJLhgIIK...  \n",
       "1  https://thumbs4.properati.com/7/ikpVBu2ztHA7jv...  \n",
       "2  https://thumbs4.properati.com/5/SXKr34F_IwG3W_...  \n",
       "\n",
       "[3 rows x 26 columns]"
      ]
     },
     "execution_count": 2,
     "metadata": {},
     "output_type": "execute_result"
    }
   ],
   "source": [
    "#importacion base de datos#\n",
    "\n",
    "data = pd.read_csv(\"Data/properati.csv\", sep=\",\")\n",
    "\n",
    "#print tipo de datos\n",
    "print(data.dtypes)\n",
    "\n",
    "#ejemplo primeros tres\n",
    "data.head(3)\n"
   ]
  },
  {
   "cell_type": "code",
   "execution_count": 3,
   "metadata": {},
   "outputs": [
    {
     "name": "stdout",
     "output_type": "stream",
     "text": [
      "Unnamed: 0                         0\n",
      "operation                          0\n",
      "property_type                      0\n",
      "place_name                        23\n",
      "place_with_parent_names            0\n",
      "country_name                       0\n",
      "state_name                         0\n",
      "geonames_id                    18717\n",
      "lat-lon                        51550\n",
      "lat                            51550\n",
      "lon                            51550\n",
      "price                          20410\n",
      "currency                       20411\n",
      "price_aprox_local_currency     20410\n",
      "price_aprox_usd                20410\n",
      "surface_total_in_m2            39328\n",
      "surface_covered_in_m2          19907\n",
      "price_usd_per_m2               52603\n",
      "price_per_m2                   33562\n",
      "floor                         113321\n",
      "rooms                          73830\n",
      "expenses                      106958\n",
      "properati_url                      0\n",
      "description                        2\n",
      "title                              0\n",
      "image_thumbnail                 3112\n",
      "dtype: int64\n",
      "121220\n",
      "Unnamed: 0                     0.000000\n",
      "operation                      0.000000\n",
      "property_type                  0.000000\n",
      "place_name                     0.018974\n",
      "place_with_parent_names        0.000000\n",
      "country_name                   0.000000\n",
      "state_name                     0.000000\n",
      "geonames_id                   15.440521\n",
      "lat-lon                       42.525986\n",
      "lat                           42.525986\n",
      "lon                           42.525986\n",
      "price                         16.837156\n",
      "currency                      16.837981\n",
      "price_aprox_local_currency    16.837156\n",
      "price_aprox_usd               16.837156\n",
      "surface_total_in_m2           32.443491\n",
      "surface_covered_in_m2         16.422208\n",
      "price_usd_per_m2              43.394654\n",
      "price_per_m2                  27.686850\n",
      "floor                         93.483749\n",
      "rooms                         60.905791\n",
      "expenses                      88.234615\n",
      "properati_url                  0.000000\n",
      "description                    0.001650\n",
      "title                          0.000000\n",
      "image_thumbnail                2.567233\n",
      "dtype: float64\n"
     ]
    }
   ],
   "source": [
    "#revisamos los campos nulos en el dataframe\n",
    "cant_nulos_por_campo = data.apply(lambda x: x.isnull().sum(), axis=0)\n",
    "print(cant_nulos_por_campo)\n",
    "\n",
    "#estimamos cuanto representa esa informacion faltante sobre el total de los datos que tenemos\n",
    "\n",
    "cant_registros = data.shape[0]\n",
    "print(cant_registros)\n",
    "\n",
    "porc_nulos_por_campo = 100 * cant_nulos_por_campo / cant_registros\n",
    "print(porc_nulos_por_campo)"
   ]
  },
  {
   "cell_type": "markdown",
   "metadata": {},
   "source": [
    "<b>Importante</b>\n",
    "<p>Las columnas <b>price</b>, <b>currency</b>, <b>price_aprox_local_currency</b> y <b>price_aprox_usd</b> presentan la misma cantidad de datos faltantes. \n"
   ]
  },
  {
   "cell_type": "code",
   "execution_count": 4,
   "metadata": {},
   "outputs": [],
   "source": [
    "#creamos 3 variables que almacenan las columnas nulas de  price_usd_null , price_aprox_local_null y price_null\n",
    "mask_price_usd_null = data['price_aprox_usd'].isnull()\n",
    "mask_price_null = data['price'].isnull() \n",
    "mask_price_aprox_local_null = data['price_aprox_local_currency'].isnull()\n",
    "\n"
   ]
  },
  {
   "cell_type": "code",
   "execution_count": 5,
   "metadata": {},
   "outputs": [
    {
     "data": {
      "text/plain": [
       "True"
      ]
     },
     "execution_count": 5,
     "metadata": {},
     "output_type": "execute_result"
    }
   ],
   "source": [
    "#comprobamos que la columna price_usd_null es identica a price_aprox_local_null  \n",
    "any(data[mask_price_usd_null] == data[mask_price_aprox_local_null])"
   ]
  },
  {
   "cell_type": "code",
   "execution_count": 6,
   "metadata": {},
   "outputs": [
    {
     "data": {
      "text/plain": [
       "True"
      ]
     },
     "execution_count": 6,
     "metadata": {},
     "output_type": "execute_result"
    }
   ],
   "source": [
    "#comprobamos que la columna price_usd_null es identica a price_null  \n",
    "any(data[mask_price_usd_null] == data[mask_price_null])"
   ]
  },
  {
   "cell_type": "markdown",
   "metadata": {},
   "source": [
    "<b>Importante</b>\n",
    "\n",
    "Al comparar las 3 columnas, sabemos que los indices de los datos faltantes son identicos en los 3. Podemos decir que si eliminamos esos valores nulos o vacios, nos quedamos con datos completos en las columnas <b>price</b>, <b>price_aprox_local_currency</b> y <b>price_aprox_usd</b>"
   ]
  },
  {
   "cell_type": "code",
   "execution_count": 7,
   "metadata": {},
   "outputs": [
    {
     "data": {
      "text/html": [
       "<div>\n",
       "<style scoped>\n",
       "    .dataframe tbody tr th:only-of-type {\n",
       "        vertical-align: middle;\n",
       "    }\n",
       "\n",
       "    .dataframe tbody tr th {\n",
       "        vertical-align: top;\n",
       "    }\n",
       "\n",
       "    .dataframe thead th {\n",
       "        text-align: right;\n",
       "    }\n",
       "</style>\n",
       "<table border=\"1\" class=\"dataframe\">\n",
       "  <thead>\n",
       "    <tr style=\"text-align: right;\">\n",
       "      <th></th>\n",
       "      <th>Unnamed: 0</th>\n",
       "      <th>operation</th>\n",
       "      <th>property_type</th>\n",
       "      <th>place_name</th>\n",
       "      <th>place_with_parent_names</th>\n",
       "      <th>country_name</th>\n",
       "      <th>state_name</th>\n",
       "      <th>geonames_id</th>\n",
       "      <th>lat-lon</th>\n",
       "      <th>lat</th>\n",
       "      <th>...</th>\n",
       "      <th>surface_covered_in_m2</th>\n",
       "      <th>price_usd_per_m2</th>\n",
       "      <th>price_per_m2</th>\n",
       "      <th>floor</th>\n",
       "      <th>rooms</th>\n",
       "      <th>expenses</th>\n",
       "      <th>properati_url</th>\n",
       "      <th>description</th>\n",
       "      <th>title</th>\n",
       "      <th>image_thumbnail</th>\n",
       "    </tr>\n",
       "  </thead>\n",
       "  <tbody>\n",
       "    <tr>\n",
       "      <th>0</th>\n",
       "      <td>0</td>\n",
       "      <td>sell</td>\n",
       "      <td>PH</td>\n",
       "      <td>Mataderos</td>\n",
       "      <td>|Argentina|Capital Federal|Mataderos|</td>\n",
       "      <td>Argentina</td>\n",
       "      <td>Capital Federal</td>\n",
       "      <td>3430787.0</td>\n",
       "      <td>-34.6618237,-58.5088387</td>\n",
       "      <td>-34.661824</td>\n",
       "      <td>...</td>\n",
       "      <td>40.0</td>\n",
       "      <td>1127.272727</td>\n",
       "      <td>1550.000000</td>\n",
       "      <td>NaN</td>\n",
       "      <td>NaN</td>\n",
       "      <td>NaN</td>\n",
       "      <td>http://www.properati.com.ar/15bo8_venta_ph_mat...</td>\n",
       "      <td>2 AMBIENTES TIPO CASA PLANTA BAJA POR PASILLO,...</td>\n",
       "      <td>2 AMB TIPO CASA SIN EXPENSAS EN PB</td>\n",
       "      <td>https://thumbs4.properati.com/8/BluUYiHJLhgIIK...</td>\n",
       "    </tr>\n",
       "    <tr>\n",
       "      <th>1</th>\n",
       "      <td>1</td>\n",
       "      <td>sell</td>\n",
       "      <td>apartment</td>\n",
       "      <td>La Plata</td>\n",
       "      <td>|Argentina|Bs.As. G.B.A. Zona Sur|La Plata|</td>\n",
       "      <td>Argentina</td>\n",
       "      <td>Bs.As. G.B.A. Zona Sur</td>\n",
       "      <td>3432039.0</td>\n",
       "      <td>-34.9038831,-57.9643295</td>\n",
       "      <td>-34.903883</td>\n",
       "      <td>...</td>\n",
       "      <td>NaN</td>\n",
       "      <td>NaN</td>\n",
       "      <td>NaN</td>\n",
       "      <td>NaN</td>\n",
       "      <td>NaN</td>\n",
       "      <td>NaN</td>\n",
       "      <td>http://www.properati.com.ar/15bob_venta_depart...</td>\n",
       "      <td>Venta de departamento en décimo piso al frente...</td>\n",
       "      <td>VENTA Depto 2 dorm. a estrenar 7 e/ 36 y 37   ...</td>\n",
       "      <td>https://thumbs4.properati.com/7/ikpVBu2ztHA7jv...</td>\n",
       "    </tr>\n",
       "    <tr>\n",
       "      <th>2</th>\n",
       "      <td>2</td>\n",
       "      <td>sell</td>\n",
       "      <td>apartment</td>\n",
       "      <td>Mataderos</td>\n",
       "      <td>|Argentina|Capital Federal|Mataderos|</td>\n",
       "      <td>Argentina</td>\n",
       "      <td>Capital Federal</td>\n",
       "      <td>3430787.0</td>\n",
       "      <td>-34.6522615,-58.5229825</td>\n",
       "      <td>-34.652262</td>\n",
       "      <td>...</td>\n",
       "      <td>55.0</td>\n",
       "      <td>1309.090909</td>\n",
       "      <td>1309.090909</td>\n",
       "      <td>NaN</td>\n",
       "      <td>NaN</td>\n",
       "      <td>NaN</td>\n",
       "      <td>http://www.properati.com.ar/15bod_venta_depart...</td>\n",
       "      <td>2 AMBIENTES 3ER PISO LATERAL LIVING COMEDOR AM...</td>\n",
       "      <td>2 AMB 3ER PISO CON ASCENSOR APTO CREDITO</td>\n",
       "      <td>https://thumbs4.properati.com/5/SXKr34F_IwG3W_...</td>\n",
       "    </tr>\n",
       "    <tr>\n",
       "      <th>3</th>\n",
       "      <td>3</td>\n",
       "      <td>sell</td>\n",
       "      <td>PH</td>\n",
       "      <td>Liniers</td>\n",
       "      <td>|Argentina|Capital Federal|Liniers|</td>\n",
       "      <td>Argentina</td>\n",
       "      <td>Capital Federal</td>\n",
       "      <td>3431333.0</td>\n",
       "      <td>-34.6477969,-58.5164244</td>\n",
       "      <td>-34.647797</td>\n",
       "      <td>...</td>\n",
       "      <td>NaN</td>\n",
       "      <td>NaN</td>\n",
       "      <td>NaN</td>\n",
       "      <td>NaN</td>\n",
       "      <td>NaN</td>\n",
       "      <td>NaN</td>\n",
       "      <td>http://www.properati.com.ar/15boh_venta_ph_lin...</td>\n",
       "      <td>PH 3 ambientes con patio. Hay 3 deptos en lote...</td>\n",
       "      <td>PH 3 amb. cfte. reciclado</td>\n",
       "      <td>https://thumbs4.properati.com/3/DgIfX-85Mog5SP...</td>\n",
       "    </tr>\n",
       "    <tr>\n",
       "      <th>4</th>\n",
       "      <td>4</td>\n",
       "      <td>sell</td>\n",
       "      <td>apartment</td>\n",
       "      <td>Centro</td>\n",
       "      <td>|Argentina|Buenos Aires Costa Atlántica|Mar de...</td>\n",
       "      <td>Argentina</td>\n",
       "      <td>Buenos Aires Costa Atlántica</td>\n",
       "      <td>3435548.0</td>\n",
       "      <td>-38.0026256,-57.5494468</td>\n",
       "      <td>-38.002626</td>\n",
       "      <td>...</td>\n",
       "      <td>35.0</td>\n",
       "      <td>1828.571429</td>\n",
       "      <td>1828.571429</td>\n",
       "      <td>NaN</td>\n",
       "      <td>NaN</td>\n",
       "      <td>NaN</td>\n",
       "      <td>http://www.properati.com.ar/15bok_venta_depart...</td>\n",
       "      <td>DEPARTAMENTO CON FANTÁSTICA ILUMINACIÓN NATURA...</td>\n",
       "      <td>DEPTO 2 AMB AL CONTRAFRENTE ZONA CENTRO/PLAZA ...</td>\n",
       "      <td>https://thumbs4.properati.com/5/xrRqlNcSI_vs-f...</td>\n",
       "    </tr>\n",
       "    <tr>\n",
       "      <th>6</th>\n",
       "      <td>6</td>\n",
       "      <td>sell</td>\n",
       "      <td>PH</td>\n",
       "      <td>Munro</td>\n",
       "      <td>|Argentina|Bs.As. G.B.A. Zona Norte|Vicente Ló...</td>\n",
       "      <td>Argentina</td>\n",
       "      <td>Bs.As. G.B.A. Zona Norte</td>\n",
       "      <td>3430511.0</td>\n",
       "      <td>-34.5329567,-58.5217825</td>\n",
       "      <td>-34.532957</td>\n",
       "      <td>...</td>\n",
       "      <td>78.0</td>\n",
       "      <td>1226.415094</td>\n",
       "      <td>1666.666667</td>\n",
       "      <td>NaN</td>\n",
       "      <td>NaN</td>\n",
       "      <td>NaN</td>\n",
       "      <td>http://www.properati.com.ar/15bor_venta_ph_mun...</td>\n",
       "      <td>MUY BUEN PH AL FRENTE CON ENTRADA INDEPENDIENT...</td>\n",
       "      <td>MUY BUEN PH AL FRENTE DOS DORMITORIOS , PATIO,...</td>\n",
       "      <td>https://thumbs4.properati.com/5/6GOXsHCyDu1aGx...</td>\n",
       "    </tr>\n",
       "  </tbody>\n",
       "</table>\n",
       "<p>6 rows × 26 columns</p>\n",
       "</div>"
      ],
      "text/plain": [
       "   Unnamed: 0 operation property_type place_name  \\\n",
       "0           0      sell            PH  Mataderos   \n",
       "1           1      sell     apartment   La Plata   \n",
       "2           2      sell     apartment  Mataderos   \n",
       "3           3      sell            PH    Liniers   \n",
       "4           4      sell     apartment     Centro   \n",
       "6           6      sell            PH      Munro   \n",
       "\n",
       "                             place_with_parent_names country_name  \\\n",
       "0              |Argentina|Capital Federal|Mataderos|    Argentina   \n",
       "1        |Argentina|Bs.As. G.B.A. Zona Sur|La Plata|    Argentina   \n",
       "2              |Argentina|Capital Federal|Mataderos|    Argentina   \n",
       "3                |Argentina|Capital Federal|Liniers|    Argentina   \n",
       "4  |Argentina|Buenos Aires Costa Atlántica|Mar de...    Argentina   \n",
       "6  |Argentina|Bs.As. G.B.A. Zona Norte|Vicente Ló...    Argentina   \n",
       "\n",
       "                     state_name  geonames_id                  lat-lon  \\\n",
       "0               Capital Federal    3430787.0  -34.6618237,-58.5088387   \n",
       "1        Bs.As. G.B.A. Zona Sur    3432039.0  -34.9038831,-57.9643295   \n",
       "2               Capital Federal    3430787.0  -34.6522615,-58.5229825   \n",
       "3               Capital Federal    3431333.0  -34.6477969,-58.5164244   \n",
       "4  Buenos Aires Costa Atlántica    3435548.0  -38.0026256,-57.5494468   \n",
       "6      Bs.As. G.B.A. Zona Norte    3430511.0  -34.5329567,-58.5217825   \n",
       "\n",
       "         lat  ...  surface_covered_in_m2  price_usd_per_m2 price_per_m2  \\\n",
       "0 -34.661824  ...                   40.0       1127.272727  1550.000000   \n",
       "1 -34.903883  ...                    NaN               NaN          NaN   \n",
       "2 -34.652262  ...                   55.0       1309.090909  1309.090909   \n",
       "3 -34.647797  ...                    NaN               NaN          NaN   \n",
       "4 -38.002626  ...                   35.0       1828.571429  1828.571429   \n",
       "6 -34.532957  ...                   78.0       1226.415094  1666.666667   \n",
       "\n",
       "   floor  rooms  expenses                                      properati_url  \\\n",
       "0    NaN    NaN       NaN  http://www.properati.com.ar/15bo8_venta_ph_mat...   \n",
       "1    NaN    NaN       NaN  http://www.properati.com.ar/15bob_venta_depart...   \n",
       "2    NaN    NaN       NaN  http://www.properati.com.ar/15bod_venta_depart...   \n",
       "3    NaN    NaN       NaN  http://www.properati.com.ar/15boh_venta_ph_lin...   \n",
       "4    NaN    NaN       NaN  http://www.properati.com.ar/15bok_venta_depart...   \n",
       "6    NaN    NaN       NaN  http://www.properati.com.ar/15bor_venta_ph_mun...   \n",
       "\n",
       "                                         description  \\\n",
       "0  2 AMBIENTES TIPO CASA PLANTA BAJA POR PASILLO,...   \n",
       "1  Venta de departamento en décimo piso al frente...   \n",
       "2  2 AMBIENTES 3ER PISO LATERAL LIVING COMEDOR AM...   \n",
       "3  PH 3 ambientes con patio. Hay 3 deptos en lote...   \n",
       "4  DEPARTAMENTO CON FANTÁSTICA ILUMINACIÓN NATURA...   \n",
       "6  MUY BUEN PH AL FRENTE CON ENTRADA INDEPENDIENT...   \n",
       "\n",
       "                                               title  \\\n",
       "0                 2 AMB TIPO CASA SIN EXPENSAS EN PB   \n",
       "1  VENTA Depto 2 dorm. a estrenar 7 e/ 36 y 37   ...   \n",
       "2           2 AMB 3ER PISO CON ASCENSOR APTO CREDITO   \n",
       "3                       PH 3 amb. cfte. reciclado      \n",
       "4  DEPTO 2 AMB AL CONTRAFRENTE ZONA CENTRO/PLAZA ...   \n",
       "6  MUY BUEN PH AL FRENTE DOS DORMITORIOS , PATIO,...   \n",
       "\n",
       "                                     image_thumbnail  \n",
       "0  https://thumbs4.properati.com/8/BluUYiHJLhgIIK...  \n",
       "1  https://thumbs4.properati.com/7/ikpVBu2ztHA7jv...  \n",
       "2  https://thumbs4.properati.com/5/SXKr34F_IwG3W_...  \n",
       "3  https://thumbs4.properati.com/3/DgIfX-85Mog5SP...  \n",
       "4  https://thumbs4.properati.com/5/xrRqlNcSI_vs-f...  \n",
       "6  https://thumbs4.properati.com/5/6GOXsHCyDu1aGx...  \n",
       "\n",
       "[6 rows x 26 columns]"
      ]
     },
     "execution_count": 7,
     "metadata": {},
     "output_type": "execute_result"
    }
   ],
   "source": [
    "#Debido a que las columnas nulas son identicas, por procederemos a limpiar los datos nulos de la columna price_aprox_usd. Entendemos que si el estudio busca saber cuanto\n",
    "#es el costo de una propiedad en un barrio de una ciudad/ provincia, la manera más razonable para poder calcular esto es tener\n",
    "#su valor en dólares que varía menos que su valor en $ (pesos argentinos) en el tiempo.\n",
    "\n",
    "price_usd_notnull = data['price_aprox_usd'].notnull()\n",
    "price_notnull = data['price'].notnull()\n",
    "price_aprox_local_notnull = data['price_aprox_local_currency'].notnull()\n",
    "\n",
    "\n",
    "data[price_usd_notnull].head(6)\n",
    "\n"
   ]
  },
  {
   "cell_type": "code",
   "execution_count": 8,
   "metadata": {},
   "outputs": [
    {
     "name": "stdout",
     "output_type": "stream",
     "text": [
      "provincias ['Capital Federal' 'Bs.As. G.B.A. Zona Sur' 'Buenos Aires Costa Atlántica'\n",
      " 'Entre Ríos' 'Bs.As. G.B.A. Zona Norte' 'Santa Fe' 'Córdoba'\n",
      " 'Bs.As. G.B.A. Zona Oeste' 'Misiones' 'Buenos Aires Interior' 'Salta'\n",
      " 'Neuquén' 'Río Negro' 'San Luis' 'Mendoza' 'Corrientes' 'Chubut'\n",
      " 'Tucumán' 'La Pampa' 'Chaco' 'San Juan' 'Santa Cruz' 'Tierra Del Fuego'\n",
      " 'Catamarca' 'Santiago Del Estero' 'Jujuy' 'La Rioja' 'Formosa']\n",
      "cantidad de provincias (28,)\n"
     ]
    }
   ],
   "source": [
    "#Segun ya vimos, los datos nulos dentro de  state_name(provincias), Place_Name(ciudad) y place_with_parent_names (pais, provincia, ciudad) \n",
    "# presentan datos nulos ni faltantes.  \n",
    "provincias = data['state_name']\n",
    "provincias_unicos = provincias.unique()\n",
    "\n",
    "print (\"provincias\", provincias_unicos)\n",
    "\n",
    "print ( \"cantidad de provincias\", provincias_unicos.shape)"
   ]
  },
  {
   "cell_type": "markdown",
   "metadata": {},
   "source": [
    "<b>Importante</b>\n",
    "<p>sabemos entonces que no hay datos repetidos ni faltantes de provincias, y que el numero total es 28 ( 22 provincias, CABA y la provincia de Buenos Aires Seccionada en 5 distritos)"
   ]
  },
  {
   "cell_type": "code",
   "execution_count": 9,
   "metadata": {},
   "outputs": [
    {
     "name": "stdout",
     "output_type": "stream",
     "text": [
      "cantidad de provincias (28,) cantidad de ciudades (1061,) cantidad de mixtos (1164,)\n"
     ]
    }
   ],
   "source": [
    "ciudades = data['place_name']\n",
    "ciudades_unicos = ciudades.unique()\n",
    "\n",
    "\n",
    "pais_provincia_ciudad = data['place_with_parent_names']\n",
    "pais_provincia_ciudad_unicos = data['place_with_parent_names'].unique()\n",
    "\n",
    "\n",
    "print ( \"cantidad de provincias\", provincias_unicos.shape, \"cantidad de ciudades\" ,ciudades_unicos.shape, \"cantidad de mixtos\", pais_provincia_ciudad_unicos.shape)"
   ]
  },
  {
   "cell_type": "markdown",
   "metadata": {},
   "source": [
    "<b>Importante</b>\n",
    "<p>sabemos por la columna <b>place_with_parent_names</b> que si utilizamos la combinación de provincias y ciudades, nos estariamos alcanzando el nivel de detalle en algunas ciudades para poder determinar el valor de cada barrio o ciudad especificamente. Por ejemplo Mar del Plata, posee 52 barrios acumulando los mismos 10006 valores.\n",
    "    Es necesario que toda la ciudad sea renombrada de igual manera para poder ser correctamente identificada"
   ]
  },
  {
   "cell_type": "code",
   "execution_count": 10,
   "metadata": {},
   "outputs": [
    {
     "data": {
      "text/html": [
       "<div>\n",
       "<style scoped>\n",
       "    .dataframe tbody tr th:only-of-type {\n",
       "        vertical-align: middle;\n",
       "    }\n",
       "\n",
       "    .dataframe tbody tr th {\n",
       "        vertical-align: top;\n",
       "    }\n",
       "\n",
       "    .dataframe thead th {\n",
       "        text-align: right;\n",
       "    }\n",
       "</style>\n",
       "<table border=\"1\" class=\"dataframe\">\n",
       "  <thead>\n",
       "    <tr style=\"text-align: right;\">\n",
       "      <th></th>\n",
       "      <th>Unnamed: 0</th>\n",
       "      <th>operation</th>\n",
       "      <th>property_type</th>\n",
       "      <th>place_name</th>\n",
       "      <th>place_with_parent_names</th>\n",
       "      <th>country_name</th>\n",
       "      <th>state_name</th>\n",
       "      <th>geonames_id</th>\n",
       "      <th>lat-lon</th>\n",
       "      <th>lat</th>\n",
       "      <th>...</th>\n",
       "      <th>price_usd_per_m2</th>\n",
       "      <th>price_per_m2</th>\n",
       "      <th>floor</th>\n",
       "      <th>rooms</th>\n",
       "      <th>expenses</th>\n",
       "      <th>properati_url</th>\n",
       "      <th>description</th>\n",
       "      <th>title</th>\n",
       "      <th>image_thumbnail</th>\n",
       "      <th>place_name_clean</th>\n",
       "    </tr>\n",
       "  </thead>\n",
       "  <tbody>\n",
       "    <tr>\n",
       "      <th>4</th>\n",
       "      <td>4</td>\n",
       "      <td>sell</td>\n",
       "      <td>apartment</td>\n",
       "      <td>Centro</td>\n",
       "      <td>|Argentina|Buenos Aires Costa Atlántica|Mar de...</td>\n",
       "      <td>Argentina</td>\n",
       "      <td>Buenos Aires Costa Atlántica</td>\n",
       "      <td>3435548.0</td>\n",
       "      <td>-38.0026256,-57.5494468</td>\n",
       "      <td>-38.002626</td>\n",
       "      <td>...</td>\n",
       "      <td>1828.571429</td>\n",
       "      <td>1828.571429</td>\n",
       "      <td>NaN</td>\n",
       "      <td>NaN</td>\n",
       "      <td>NaN</td>\n",
       "      <td>http://www.properati.com.ar/15bok_venta_depart...</td>\n",
       "      <td>DEPARTAMENTO CON FANTÁSTICA ILUMINACIÓN NATURA...</td>\n",
       "      <td>DEPTO 2 AMB AL CONTRAFRENTE ZONA CENTRO/PLAZA ...</td>\n",
       "      <td>https://thumbs4.properati.com/5/xrRqlNcSI_vs-f...</td>\n",
       "      <td>Centro</td>\n",
       "    </tr>\n",
       "    <tr>\n",
       "      <th>68</th>\n",
       "      <td>68</td>\n",
       "      <td>sell</td>\n",
       "      <td>apartment</td>\n",
       "      <td>Mar del Plata</td>\n",
       "      <td>|Argentina|Buenos Aires Costa Atlántica|Mar de...</td>\n",
       "      <td>Argentina</td>\n",
       "      <td>Buenos Aires Costa Atlántica</td>\n",
       "      <td>3430863.0</td>\n",
       "      <td>-38.034794,-57.5416872</td>\n",
       "      <td>-38.034794</td>\n",
       "      <td>...</td>\n",
       "      <td>NaN</td>\n",
       "      <td>3263.888889</td>\n",
       "      <td>NaN</td>\n",
       "      <td>2.0</td>\n",
       "      <td>NaN</td>\n",
       "      <td>http://www.properati.com.ar/15bx4_venta_depart...</td>\n",
       "      <td>Cocina integrada con barra ,  horno y anafe .T...</td>\n",
       "      <td>EXCELENTE DEPARTAMENTO CON VISTA AL MAR Y AL GOLF</td>\n",
       "      <td>https://thumbs4.properati.com/2/-WPR2ibAcpGmjF...</td>\n",
       "      <td>Mar del Plata</td>\n",
       "    </tr>\n",
       "    <tr>\n",
       "      <th>69</th>\n",
       "      <td>69</td>\n",
       "      <td>sell</td>\n",
       "      <td>house</td>\n",
       "      <td>Mar del Plata</td>\n",
       "      <td>|Argentina|Buenos Aires Costa Atlántica|Mar de...</td>\n",
       "      <td>Argentina</td>\n",
       "      <td>Buenos Aires Costa Atlántica</td>\n",
       "      <td>3430863.0</td>\n",
       "      <td>-38.0150119,-57.5341134</td>\n",
       "      <td>-38.015012</td>\n",
       "      <td>...</td>\n",
       "      <td>1054.216867</td>\n",
       "      <td>1690.821256</td>\n",
       "      <td>NaN</td>\n",
       "      <td>6.0</td>\n",
       "      <td>NaN</td>\n",
       "      <td>http://www.properati.com.ar/15bx5_venta_casa_m...</td>\n",
       "      <td>HERMOSO E IMPECABLE CHALET DE ESTILO CLÁSICO D...</td>\n",
       "      <td>IMPECABLE CHALET DE ESTILO CLASICO EN EL CORAZ...</td>\n",
       "      <td>https://thumbs4.properati.com/1/HBRWQTniQ6Z7IE...</td>\n",
       "      <td>Mar del Plata</td>\n",
       "    </tr>\n",
       "    <tr>\n",
       "      <th>70</th>\n",
       "      <td>70</td>\n",
       "      <td>sell</td>\n",
       "      <td>PH</td>\n",
       "      <td>Mar del Plata</td>\n",
       "      <td>|Argentina|Buenos Aires Costa Atlántica|Mar de...</td>\n",
       "      <td>Argentina</td>\n",
       "      <td>Buenos Aires Costa Atlántica</td>\n",
       "      <td>3430863.0</td>\n",
       "      <td>-37.9765072,-57.5695686</td>\n",
       "      <td>-37.976507</td>\n",
       "      <td>...</td>\n",
       "      <td>NaN</td>\n",
       "      <td>NaN</td>\n",
       "      <td>NaN</td>\n",
       "      <td>2.0</td>\n",
       "      <td>NaN</td>\n",
       "      <td>http://www.properati.com.ar/15bx8_venta_ph_mar...</td>\n",
       "      <td>COMPLETO DE DTOS. EN PH. TRES DTOS DE 2 AMB. E...</td>\n",
       "      <td>COMPLEJO DE DTOS. EN PH. - TRES DTOS DE 2 AMB....</td>\n",
       "      <td>https://thumbs4.properati.com/0/aoKEdCrsDgE28O...</td>\n",
       "      <td>Mar del Plata</td>\n",
       "    </tr>\n",
       "    <tr>\n",
       "      <th>71</th>\n",
       "      <td>71</td>\n",
       "      <td>sell</td>\n",
       "      <td>PH</td>\n",
       "      <td>Mar del Plata</td>\n",
       "      <td>|Argentina|Buenos Aires Costa Atlántica|Mar de...</td>\n",
       "      <td>Argentina</td>\n",
       "      <td>Buenos Aires Costa Atlántica</td>\n",
       "      <td>3430863.0</td>\n",
       "      <td>-37.9765072,-57.5695686</td>\n",
       "      <td>-37.976507</td>\n",
       "      <td>...</td>\n",
       "      <td>NaN</td>\n",
       "      <td>NaN</td>\n",
       "      <td>NaN</td>\n",
       "      <td>3.0</td>\n",
       "      <td>NaN</td>\n",
       "      <td>http://www.properati.com.ar/15bx9_venta_ph_mar...</td>\n",
       "      <td>COMPLEjO DE DTOS. EN PH. DOS DTOS DE 3 AMB. EN...</td>\n",
       "      <td>COMPLEJO DTOS. EN PH - DOS DTOS DE 3 AMB. CON ...</td>\n",
       "      <td>https://thumbs4.properati.com/0/fw0Vk3QO11ZiQZ...</td>\n",
       "      <td>Mar del Plata</td>\n",
       "    </tr>\n",
       "  </tbody>\n",
       "</table>\n",
       "<p>5 rows × 27 columns</p>\n",
       "</div>"
      ],
      "text/plain": [
       "    Unnamed: 0 operation property_type     place_name  \\\n",
       "4            4      sell     apartment         Centro   \n",
       "68          68      sell     apartment  Mar del Plata   \n",
       "69          69      sell         house  Mar del Plata   \n",
       "70          70      sell            PH  Mar del Plata   \n",
       "71          71      sell            PH  Mar del Plata   \n",
       "\n",
       "                              place_with_parent_names country_name  \\\n",
       "4   |Argentina|Buenos Aires Costa Atlántica|Mar de...    Argentina   \n",
       "68  |Argentina|Buenos Aires Costa Atlántica|Mar de...    Argentina   \n",
       "69  |Argentina|Buenos Aires Costa Atlántica|Mar de...    Argentina   \n",
       "70  |Argentina|Buenos Aires Costa Atlántica|Mar de...    Argentina   \n",
       "71  |Argentina|Buenos Aires Costa Atlántica|Mar de...    Argentina   \n",
       "\n",
       "                      state_name  geonames_id                  lat-lon  \\\n",
       "4   Buenos Aires Costa Atlántica    3435548.0  -38.0026256,-57.5494468   \n",
       "68  Buenos Aires Costa Atlántica    3430863.0   -38.034794,-57.5416872   \n",
       "69  Buenos Aires Costa Atlántica    3430863.0  -38.0150119,-57.5341134   \n",
       "70  Buenos Aires Costa Atlántica    3430863.0  -37.9765072,-57.5695686   \n",
       "71  Buenos Aires Costa Atlántica    3430863.0  -37.9765072,-57.5695686   \n",
       "\n",
       "          lat  ...  price_usd_per_m2  price_per_m2 floor  rooms  expenses  \\\n",
       "4  -38.002626  ...       1828.571429   1828.571429   NaN    NaN       NaN   \n",
       "68 -38.034794  ...               NaN   3263.888889   NaN    2.0       NaN   \n",
       "69 -38.015012  ...       1054.216867   1690.821256   NaN    6.0       NaN   \n",
       "70 -37.976507  ...               NaN           NaN   NaN    2.0       NaN   \n",
       "71 -37.976507  ...               NaN           NaN   NaN    3.0       NaN   \n",
       "\n",
       "                                        properati_url  \\\n",
       "4   http://www.properati.com.ar/15bok_venta_depart...   \n",
       "68  http://www.properati.com.ar/15bx4_venta_depart...   \n",
       "69  http://www.properati.com.ar/15bx5_venta_casa_m...   \n",
       "70  http://www.properati.com.ar/15bx8_venta_ph_mar...   \n",
       "71  http://www.properati.com.ar/15bx9_venta_ph_mar...   \n",
       "\n",
       "                                          description  \\\n",
       "4   DEPARTAMENTO CON FANTÁSTICA ILUMINACIÓN NATURA...   \n",
       "68  Cocina integrada con barra ,  horno y anafe .T...   \n",
       "69  HERMOSO E IMPECABLE CHALET DE ESTILO CLÁSICO D...   \n",
       "70  COMPLETO DE DTOS. EN PH. TRES DTOS DE 2 AMB. E...   \n",
       "71  COMPLEjO DE DTOS. EN PH. DOS DTOS DE 3 AMB. EN...   \n",
       "\n",
       "                                                title  \\\n",
       "4   DEPTO 2 AMB AL CONTRAFRENTE ZONA CENTRO/PLAZA ...   \n",
       "68  EXCELENTE DEPARTAMENTO CON VISTA AL MAR Y AL GOLF   \n",
       "69  IMPECABLE CHALET DE ESTILO CLASICO EN EL CORAZ...   \n",
       "70  COMPLEJO DE DTOS. EN PH. - TRES DTOS DE 2 AMB....   \n",
       "71  COMPLEJO DTOS. EN PH - DOS DTOS DE 3 AMB. CON ...   \n",
       "\n",
       "                                      image_thumbnail  place_name_clean  \n",
       "4   https://thumbs4.properati.com/5/xrRqlNcSI_vs-f...            Centro  \n",
       "68  https://thumbs4.properati.com/2/-WPR2ibAcpGmjF...     Mar del Plata  \n",
       "69  https://thumbs4.properati.com/1/HBRWQTniQ6Z7IE...     Mar del Plata  \n",
       "70  https://thumbs4.properati.com/0/aoKEdCrsDgE28O...     Mar del Plata  \n",
       "71  https://thumbs4.properati.com/0/fw0Vk3QO11ZiQZ...     Mar del Plata  \n",
       "\n",
       "[5 rows x 27 columns]"
      ]
     },
     "execution_count": 10,
     "metadata": {},
     "output_type": "execute_result"
    }
   ],
   "source": [
    "#Creamos una nueva columna de limpieza de ciudades\n",
    "data['place_name_clean'] = data['place_name']\n",
    "ciudades_limpieza = data['place_name_clean'].astype('str')\n",
    "ciudades_limpieza\n",
    "#filtramos solamente la costa atlantica\n",
    "bsas_costa_mask = provincias == 'Buenos Aires Costa Atlántica'\n",
    "#filtramos en el concatenado completo todas filas que contienen de Mar del Plata\n",
    "mdq_mask = ((data['place_with_parent_names'].str.contains('Mar del Plata')))\n",
    "\n",
    "data[mdq_mask].head()\n",
    "\n"
   ]
  },
  {
   "cell_type": "code",
   "execution_count": 16,
   "metadata": {
    "scrolled": true
   },
   "outputs": [
    {
     "data": {
      "text/html": [
       "<div>\n",
       "<style scoped>\n",
       "    .dataframe tbody tr th:only-of-type {\n",
       "        vertical-align: middle;\n",
       "    }\n",
       "\n",
       "    .dataframe tbody tr th {\n",
       "        vertical-align: top;\n",
       "    }\n",
       "\n",
       "    .dataframe thead th {\n",
       "        text-align: right;\n",
       "    }\n",
       "</style>\n",
       "<table border=\"1\" class=\"dataframe\">\n",
       "  <thead>\n",
       "    <tr style=\"text-align: right;\">\n",
       "      <th></th>\n",
       "      <th>Unnamed: 0</th>\n",
       "      <th>operation</th>\n",
       "      <th>property_type</th>\n",
       "      <th>place_name</th>\n",
       "      <th>place_with_parent_names</th>\n",
       "      <th>country_name</th>\n",
       "      <th>state_name</th>\n",
       "      <th>geonames_id</th>\n",
       "      <th>lat-lon</th>\n",
       "      <th>lat</th>\n",
       "      <th>...</th>\n",
       "      <th>price_usd_per_m2</th>\n",
       "      <th>price_per_m2</th>\n",
       "      <th>floor</th>\n",
       "      <th>rooms</th>\n",
       "      <th>expenses</th>\n",
       "      <th>properati_url</th>\n",
       "      <th>description</th>\n",
       "      <th>title</th>\n",
       "      <th>image_thumbnail</th>\n",
       "      <th>place_name_clean</th>\n",
       "    </tr>\n",
       "  </thead>\n",
       "  <tbody>\n",
       "    <tr>\n",
       "      <th>11010</th>\n",
       "      <td>11010</td>\n",
       "      <td>sell</td>\n",
       "      <td>apartment</td>\n",
       "      <td>Chauvín</td>\n",
       "      <td>|Argentina|Buenos Aires Costa Atlántica|Mar de...</td>\n",
       "      <td>Argentina</td>\n",
       "      <td>Buenos Aires Costa Atlántica</td>\n",
       "      <td>NaN</td>\n",
       "      <td>-38.0152554,-57.5666825</td>\n",
       "      <td>-38.015255</td>\n",
       "      <td>...</td>\n",
       "      <td>NaN</td>\n",
       "      <td>NaN</td>\n",
       "      <td>NaN</td>\n",
       "      <td>NaN</td>\n",
       "      <td>NaN</td>\n",
       "      <td>http://www.properati.com.ar/16a6z_venta_depart...</td>\n",
       "      <td>Semipiso de 3 ambientes a estrenar en Chauvin,...</td>\n",
       "      <td>SEMIPISO 3 AMB A ESTRENAR EN CHAUVIN</td>\n",
       "      <td>https://thumbs4.properati.com/8/n6-50fyOJmFEq-...</td>\n",
       "      <td>Mar del Plata Chauvín</td>\n",
       "    </tr>\n",
       "    <tr>\n",
       "      <th>12100</th>\n",
       "      <td>12100</td>\n",
       "      <td>sell</td>\n",
       "      <td>house</td>\n",
       "      <td>Chauvín</td>\n",
       "      <td>|Argentina|Buenos Aires Costa Atlántica|Mar de...</td>\n",
       "      <td>Argentina</td>\n",
       "      <td>Buenos Aires Costa Atlántica</td>\n",
       "      <td>NaN</td>\n",
       "      <td>NaN</td>\n",
       "      <td>NaN</td>\n",
       "      <td>...</td>\n",
       "      <td>NaN</td>\n",
       "      <td>NaN</td>\n",
       "      <td>NaN</td>\n",
       "      <td>NaN</td>\n",
       "      <td>NaN</td>\n",
       "      <td>http://www.properati.com.ar/16j6j_venta_casa_c...</td>\n",
       "      <td>VENTA CAHLET 5 AMBIENTES MAR DEL PLATAHALL DE ...</td>\n",
       "      <td>CASA EN VENTA</td>\n",
       "      <td>https://thumbs4.properati.com/2/cNKNXiuEYKo3oB...</td>\n",
       "      <td>Mar del Plata Chauvín</td>\n",
       "    </tr>\n",
       "    <tr>\n",
       "      <th>12120</th>\n",
       "      <td>12120</td>\n",
       "      <td>sell</td>\n",
       "      <td>store</td>\n",
       "      <td>Chauvín</td>\n",
       "      <td>|Argentina|Buenos Aires Costa Atlántica|Mar de...</td>\n",
       "      <td>Argentina</td>\n",
       "      <td>Buenos Aires Costa Atlántica</td>\n",
       "      <td>NaN</td>\n",
       "      <td>NaN</td>\n",
       "      <td>NaN</td>\n",
       "      <td>...</td>\n",
       "      <td>NaN</td>\n",
       "      <td>NaN</td>\n",
       "      <td>NaN</td>\n",
       "      <td>NaN</td>\n",
       "      <td>NaN</td>\n",
       "      <td>http://www.properati.com.ar/16j7d_venta_local_...</td>\n",
       "      <td>LOCALVENTA LOCAL EN MAR DEL PLATAJARDÍN AL FRE...</td>\n",
       "      <td>LOCAL EN VENTA</td>\n",
       "      <td>https://thumbs4.properati.com/6/5XOyln4Pht5eIz...</td>\n",
       "      <td>Mar del Plata Chauvín</td>\n",
       "    </tr>\n",
       "  </tbody>\n",
       "</table>\n",
       "<p>3 rows × 27 columns</p>\n",
       "</div>"
      ],
      "text/plain": [
       "       Unnamed: 0 operation property_type place_name  \\\n",
       "11010       11010      sell     apartment    Chauvín   \n",
       "12100       12100      sell         house    Chauvín   \n",
       "12120       12120      sell         store    Chauvín   \n",
       "\n",
       "                                 place_with_parent_names country_name  \\\n",
       "11010  |Argentina|Buenos Aires Costa Atlántica|Mar de...    Argentina   \n",
       "12100  |Argentina|Buenos Aires Costa Atlántica|Mar de...    Argentina   \n",
       "12120  |Argentina|Buenos Aires Costa Atlántica|Mar de...    Argentina   \n",
       "\n",
       "                         state_name  geonames_id                  lat-lon  \\\n",
       "11010  Buenos Aires Costa Atlántica          NaN  -38.0152554,-57.5666825   \n",
       "12100  Buenos Aires Costa Atlántica          NaN                      NaN   \n",
       "12120  Buenos Aires Costa Atlántica          NaN                      NaN   \n",
       "\n",
       "             lat  ...  price_usd_per_m2  price_per_m2 floor  rooms  expenses  \\\n",
       "11010 -38.015255  ...               NaN           NaN   NaN    NaN       NaN   \n",
       "12100        NaN  ...               NaN           NaN   NaN    NaN       NaN   \n",
       "12120        NaN  ...               NaN           NaN   NaN    NaN       NaN   \n",
       "\n",
       "                                           properati_url  \\\n",
       "11010  http://www.properati.com.ar/16a6z_venta_depart...   \n",
       "12100  http://www.properati.com.ar/16j6j_venta_casa_c...   \n",
       "12120  http://www.properati.com.ar/16j7d_venta_local_...   \n",
       "\n",
       "                                             description  \\\n",
       "11010  Semipiso de 3 ambientes a estrenar en Chauvin,...   \n",
       "12100  VENTA CAHLET 5 AMBIENTES MAR DEL PLATAHALL DE ...   \n",
       "12120  LOCALVENTA LOCAL EN MAR DEL PLATAJARDÍN AL FRE...   \n",
       "\n",
       "                                               title  \\\n",
       "11010  SEMIPISO 3 AMB A ESTRENAR EN CHAUVIN            \n",
       "12100                                  CASA EN VENTA   \n",
       "12120                                 LOCAL EN VENTA   \n",
       "\n",
       "                                         image_thumbnail  \\\n",
       "11010  https://thumbs4.properati.com/8/n6-50fyOJmFEq-...   \n",
       "12100  https://thumbs4.properati.com/2/cNKNXiuEYKo3oB...   \n",
       "12120  https://thumbs4.properati.com/6/5XOyln4Pht5eIz...   \n",
       "\n",
       "            place_name_clean  \n",
       "11010  Mar del Plata Chauvín  \n",
       "12100  Mar del Plata Chauvín  \n",
       "12120  Mar del Plata Chauvín  \n",
       "\n",
       "[3 rows x 27 columns]"
      ]
     },
     "execution_count": 16,
     "metadata": {},
     "output_type": "execute_result"
    }
   ],
   "source": [
    "mdq_la_perla_mask = data[\"place_with_parent_names\"] == \"|Argentina|Buenos Aires Costa Atlántica|Mar del Plata|La Perla|\"\n",
    "data.loc[mdq_la_perla_mask, \"place_name_clean\"] = \"Mar del Plata La Perla\"\n",
    "\n",
    "mdq_centro_mask = data[\"place_with_parent_names\"] ==\"|Argentina|Buenos Aires Costa Atlántica|Mar del Plata|Centro|\"\n",
    "data.loc[mdq_centro_mask, \"place_name_clean\"] = \"Mar del Plata Centro\"\n",
    "\n",
    "mdq_caisamar_mask = data[\"place_with_parent_names\"] ==\"|Argentina|Buenos Aires Costa Atlántica|Mar del Plata|Caisamar|\"\n",
    "data.loc[mdq_caisamar_mask, \"place_name_clean\"] = \"Mar del Plata Caisamar\"\n",
    "\n",
    "mdq_macrocentro_mask = data[\"place_with_parent_names\"] ==\"|Argentina|Buenos Aires Costa Atlántica|Mar del Plata|Macrocentro|\"\n",
    "data.loc[mdq_macrocentro_mask, \"place_name_clean\"] = \"Mar del Plata Macrocentro\"\n",
    "\n",
    "mdq_pcolon_mask = data[\"place_with_parent_names\"] ==\"|Argentina|Buenos Aires Costa Atlántica|Mar del Plata|Plaza Colón|\"\n",
    "data.loc[mdq_pcolon_mask, \"place_name_clean\"] = \"Mar del Plata Plaza Colón\"\n",
    "\n",
    "mdq_pompeya_mask = data[\"place_with_parent_names\"] ==\"|Argentina|Buenos Aires Costa Atlántica|Mar del Plata|Pompeya|\"\n",
    "data.loc[mdq_pompeya_mask, \"place_name_clean\"] = \"Mar del Plata Pompeya\"\n",
    "\n",
    "mdq_terminal_nueva_mask = data[\"place_with_parent_names\"] ==\"|Argentina|Buenos Aires Costa Atlántica|Mar del Plata|Terminal Nueva|\"\n",
    "data.loc[mdq_terminal_nueva_mask, \"place_name_clean\"] = \"Mar del Plata Terminal Nueva\"\n",
    "\n",
    "mdq_pinos_anchorena_mask = data[\"place_with_parent_names\"] ==\"|Argentina|Buenos Aires Costa Atlántica|Mar del Plata|Pinos de Anchorena|\"\n",
    "data.loc[mdq_pinos_anchorena_mask, \"place_name_clean\"] = \"Mar del Plata Pinos de Anchorena\"\n",
    "\n",
    "mdq_plaza_mitre_mask = data[\"place_with_parent_names\"] ==\"|Argentina|Buenos Aires Costa Atlántica|Mar del Plata|Plaza Mitre|\"\n",
    "data.loc[mdq_plaza_mitre_mask, \"place_name_clean\"] = \"Mar del Plata Plaza Mitre\"\n",
    "\n",
    "mdq_acantilados_mask = data[\"place_with_parent_names\"] ==\"|Argentina|Buenos Aires Costa Atlántica|Mar del Plata|Los Acantilados|\"\n",
    "data.loc[mdq_acantilados_mask, \"place_name_clean\"] = \"Mar del Plata Los Acantilados\"\n",
    "\n",
    "mdq_pchica_mask = data[\"place_with_parent_names\"] ==\"|Argentina|Buenos Aires Costa Atlántica|Mar del Plata|Playa Chica|\"\n",
    "data.loc[mdq_pchica_mask, \"place_name_clean\"] = \"Mar del Plata Playa Chica\"\n",
    "\n",
    "mdq_pgrande_mask = data[\"place_with_parent_names\"] ==\"|Argentina|Buenos Aires Costa Atlántica|Mar del Plata|Playa Grande|\"\n",
    "data.loc[mdq_pgrande_mask, \"place_name_clean\"] = \"Mar del Plata Playa Grande\"\n",
    "\n",
    "mdq_chauvin_mask = data[\"place_with_parent_names\"] ==\"|Argentina|Buenos Aires Costa Atlántica|Mar del Plata|Chauvín|\"\n",
    "data.loc[mdq_chauvin_mask, \"place_name_clean\"] = \"Mar del Plata Chauvín\"\n",
    "\n",
    "mdq_donbosco_mask = data[\"place_with_parent_names\"] ==\"|Argentina|Buenos Aires Costa Atlántica|Mar del Plata|Don Bosco|\"\n",
    "data.loc[mdq_donbosco_mask, \"place_name_clean\"] = \"Mar del Plata Don Bosco\"\n",
    "\n",
    "mdq_troncos_mask = data[\"place_with_parent_names\"] ==\"|Argentina|Buenos Aires Costa Atlántica|Mar del Plata|Los Troncos|\"\n",
    "data.loc[mdq_troncos_mask, \"place_name_clean\"] = \"Mar del Plata Los Troncos\"\n",
    "\n",
    "mdq_stellamaris_mask = data[\"place_with_parent_names\"] ==\"|Argentina|Buenos Aires Costa Atlántica|Mar del Plata|Stella Maris|\"\n",
    "data.loc[mdq_stellamaris_mask, \"place_name_clean\"] = \"Mar del Plata Stella Maris\"\n",
    "\n",
    "mdq_primerajunta_mask = data[\"place_with_parent_names\"] ==\"|Argentina|Buenos Aires Costa Atlántica|Mar del Plata|Primera Junta|\"\n",
    "data.loc[mdq_primerajunta_mask, \"place_name_clean\"] = \"Mar del Plata Primera Junta\"\n",
    "\n",
    "mdq_constitucion_mask = data[\"place_with_parent_names\"] ==\"|Argentina|Buenos Aires Costa Atlántica|Mar del Plata|Constitución|\"\n",
    "data.loc[mdq_constitucion_mask, \"place_name_clean\"] = \"Mar del Plata Constitución\"\n",
    "\n",
    "mdq_sancarlos_mask = data[\"place_with_parent_names\"] ==\"|Argentina|Buenos Aires Costa Atlántica|Mar del Plata|San Carlos|\"\n",
    "data.loc[mdq_sancarlos_mask, \"place_name_clean\"] = \"Mar del Plata San Carlos\"\n",
    "\n",
    "mdq_puerto_mask = data[\"place_with_parent_names\"] ==\"|Argentina|Buenos Aires Costa Atlántica|Mar del Plata|Puerto|\"\n",
    "data.loc[mdq_puerto_mask, \"place_name_clean\"] = \"Mar del Plata Puerto\"\n",
    "\n",
    "mdq_guemes_mask = data[\"place_with_parent_names\"] ==\"|Argentina|Buenos Aires Costa Atlántica|Mar del Plata|Güemes|\"\n",
    "data.loc[mdq_guemes_mask, \"place_name_clean\"] = \"Mar del Plata Güemes\"\n",
    "\n",
    "mdq_materno_mask = data[\"place_with_parent_names\"] ==\"|Argentina|Buenos Aires Costa Atlántica|Mar del Plata|Materno|\"\n",
    "data.loc[mdq_materno_mask, \"place_name_clean\"] = \"Mar del Plata Materno\"\n",
    "\n",
    "mdq_rumenco_mask = data[\"place_with_parent_names\"] ==\"|Argentina|Buenos Aires Costa Atlántica|Mar del Plata|Rumenco|\"\n",
    "data.loc[mdq_rumenco_mask, \"place_name_clean\"] = \"Mar del Plata Rumenco\"\n",
    "#\n",
    "mdq_varese_mask = data[\"place_with_parent_names\"] ==\"|Argentina|Buenos Aires Costa Atlántica|Mar del Plata|Playa Varese|\"\n",
    "data.loc[mdq_varese_mask, \"place_name_clean\"] = \"Mar del Plata Playa Varese\"\n",
    "\n",
    "mdq_luro_mask = data[\"place_with_parent_names\"] ==\"|Argentina|Buenos Aires Costa Atlántica|Mar del Plata|Parque Luro|\"\n",
    "data.loc[mdq_luro_mask, \"place_name_clean\"] = \"Mar del Plata Parque Luro\"\n",
    "\n",
    "mdq_pinares_mask = data[\"place_with_parent_names\"] ==\"|Argentina|Buenos Aires Costa Atlántica|Mar del Plata|Los Pinares|\"\n",
    "data.loc[mdq_pinares_mask, \"place_name_clean\"] = \"Mar del Plata Los Pinares\"\n",
    "\n",
    "mdq_sanjuan_mask = data[\"place_with_parent_names\"] ==\"|Argentina|Buenos Aires Costa Atlántica|Mar del Plata|San Juan|\"\n",
    "data.loc[mdq_sanjuan_mask, \"place_name_clean\"] = \"Mar del Plata San Juan\"\n",
    "\n",
    "mdq_bosque_mask = data[\"place_with_parent_names\"] ==\"|Argentina|Buenos Aires Costa Atlántica|Mar del Plata|Bosque Peralta Ramos|\"\n",
    "data.loc[mdq_bosque_mask, \"place_name_clean\"] = \"Mar del Plata Bosque Peralta Ramos\"\n",
    "#\n",
    "mdq_villaprimera_mask = data[\"place_with_parent_names\"] ==\"|Argentina|Buenos Aires Costa Atlántica|Mar del Plata|Villa Primera|\"\n",
    "data.loc[mdq_villaprimera_mask, \"place_name_clean\"] = \"Mar del Plata Villa Primera\"\n",
    "\n",
    "mdq_torreon_mask = data[\"place_with_parent_names\"] ==\"|Argentina|Buenos Aires Costa Atlántica|Mar del Plata|Torreón|\"\n",
    "data.loc[mdq_torreon_mask, \"place_name_clean\"] = \"Mar del Plata Torreón\"\n",
    "\n",
    "mdq_terminalvieja_mask = data[\"place_with_parent_names\"] ==\"|Argentina|Buenos Aires Costa Atlántica|Mar del Plata|Terminal Vieja|\"\n",
    "data.loc[mdq_terminalvieja_mask, \"place_name_clean\"] = \"Mar del Plata Terminal Vieja\"\n",
    "\n",
    "mdq_fortunato_mask = data[\"place_with_parent_names\"] ==\"|Argentina|Buenos Aires Costa Atlántica|Mar del Plata|Barrio Fortunato de La Plaza|\"\n",
    "data.loc[mdq_fortunato_mask, \"place_name_clean\"] = \"Mar del Plata Barrio Fortunato de La Plaza\"\n",
    "\n",
    "mdq_mogotes_mask = data[\"place_with_parent_names\"] ==\"|Argentina|Buenos Aires Costa Atlántica|Mar del Plata|Punta Mogotes|\"\n",
    "data.loc[mdq_mogotes_mask, \"place_name_clean\"] = \"Mar del Plata Punta Mogotes\"\n",
    "\n",
    "mdq_rocha_mask = data[\"place_with_parent_names\"] ==\"|Argentina|Buenos Aires Costa Atlántica|Mar del Plata|Plaza Rocha|\"\n",
    "data.loc[mdq_rocha_mask, \"place_name_clean\"] = \"Mar del Plata Plaza Rocha\"\n",
    "#\n",
    "mdq_baltocamet_mask = data[\"place_with_parent_names\"] ==\"|Argentina|Buenos Aires Costa Atlántica|Mar del Plata|Barrio Alto Camet|\"\n",
    "data.loc[mdq_baltocamet_mask, \"place_name_clean\"] = \"Mar del Plata Barrio Alto Camet\"\n",
    "\n",
    "mdq_bsanjuan_mask = data[\"place_with_parent_names\"] ==\"|Argentina|Buenos Aires Costa Atlántica|Mar del Plata|Barrio San Juan|\"\n",
    "data.loc[mdq_bsanjuan_mask, \"place_name_clean\"] = \"Mar del Plata Barrio San Juan\"\n",
    "\n",
    "mdq_alem_mask = data[\"place_with_parent_names\"] ==\"|Argentina|Buenos Aires Costa Atlántica|Mar del Plata|Alem|\"\n",
    "data.loc[mdq_alem_mask, \"place_name_clean\"] = \"Mar del Plata Alem\"\n",
    "\n",
    "mdq_cpramos_mask = data[\"place_with_parent_names\"] ==\"|Argentina|Buenos Aires Costa Atlántica|Mar del Plata|Colina de Peralta Ramos|\"\n",
    "data.loc[mdq_cpramos_mask, \"place_name_clean\"] = \"Mar del Plata Colina de Peralta Ramos\"\n",
    "\n",
    "mdq_bperlanorte_mask = data[\"place_with_parent_names\"] ==\"|Argentina|Buenos Aires Costa Atlántica|Mar del Plata|Barrio La Perla Norte|\"\n",
    "data.loc[mdq_bperlanorte_mask, \"place_name_clean\"] = \"Mar del Plata Barrio La Perla Norte\"\n",
    "#\n",
    "mdq_mundialista_mask = data[\"place_with_parent_names\"] ==\"|Argentina|Buenos Aires Costa Atlántica|Mar del Plata|Mundialista|\"\n",
    "data.loc[mdq_mundialista_mask, \"place_name_clean\"] = \"Mar del Plata Mundialista\"\n",
    "\n",
    "mdq_chapadmalal_mask = data[\"place_with_parent_names\"] ==\"|Argentina|Buenos Aires Costa Atlántica|Mar del Plata|Chapadmalal|\"\n",
    "data.loc[mdq_chapadmalal_mask, \"place_name_clean\"] = \"Mar del Plata Chapadmalal\"\n",
    "\n",
    "mdq_bernardinorivadavia_mask = data[\"place_with_parent_names\"] ==\"|Argentina|Buenos Aires Costa Atlántica|Mar del Plata|Bernardino Rivadavia|\"\n",
    "data.loc[mdq_bernardinorivadavia_mask, \"place_name_clean\"] = \"Mar del Plata Bernardino Rivadavia\"\n",
    "\n",
    "mdq_hermitage_mask = data[\"place_with_parent_names\"] ==\"|Argentina|Buenos Aires Costa Atlántica|Mar del Plata|Hermitage|\"\n",
    "data.loc[mdq_hermitage_mask, \"place_name_clean\"] = \"Mar del Plata Hermitage\"\n",
    "\n",
    "mdq_bsarmiento_mask = data[\"place_with_parent_names\"] ==\"|Argentina|Buenos Aires Costa Atlántica|Mar del Plata|Barrio Sarmiento|\"\n",
    "data.loc[mdq_bsarmiento_mask, \"place_name_clean\"] = \"Mar del Plata - Barrio Sarmiento\"\n",
    "#\n",
    "mdq_alfar_mask = data[\"place_with_parent_names\"] ==\"|Argentina|Buenos Aires Costa Atlántica|Mar del Plata|Alfar|\"\n",
    "data.loc[mdq_alfar_mask, \"place_name_clean\"] = \"Mar del Plata Alfar\"\n",
    "\n",
    "mdq_gsanmartin_mask = data[\"place_with_parent_names\"] ==\"|Argentina|Buenos Aires Costa Atlántica|Mar del Plata|Gral San Martin|\"\n",
    "data.loc[mdq_gsanmartin_mask, \"place_name_clean\"] = \"Mar del Plata Gral San Martin\"\n",
    "\n",
    "mdq_faronorte_mask = data[\"place_with_parent_names\"] ==\"|Argentina|Buenos Aires Costa Atlántica|Mar del Plata|Faro Norte|\"\n",
    "data.loc[mdq_faronorte_mask, \"place_name_clean\"] = \"Mar del Plata Faro Norte\"\n",
    "\n",
    "mdq_puntaiglesia_mask = data[\"place_with_parent_names\"] ==\"|Argentina|Buenos Aires Costa Atlántica|Mar del Plata|Punta Iglesia|\"\n",
    "data.loc[mdq_puntaiglesia_mask, \"place_name_clean\"] = \"Mar del Plata Punta Iglesia\"\n",
    "\n",
    "mdq_pserena_mask = data[\"place_with_parent_names\"] ==\"|Argentina|Buenos Aires Costa Atlántica|Mar del Plata|Playa Serena|\"\n",
    "data.loc[mdq_pserena_mask, \"place_name_clean\"] = \"Mar del Plata Playa Serena\"\n",
    "\n",
    "mdq_juramento_mask = data[\"place_with_parent_names\"] ==\"|Argentina|Buenos Aires Costa Atlántica|Mar del Plata|Juramento|\"\n",
    "data.loc[mdq_juramento_mask, \"place_name_clean\"] = \"Mar del Plata Juramento\"\n",
    "\n",
    "mdq_bcamet_mask = data[\"place_with_parent_names\"] ==\"|Argentina|Buenos Aires Costa Atlántica|Mar del Plata|Barrio Camet|\"\n",
    "data.loc[mdq_bcamet_mask, \"place_name_clean\"] = \"Mar del Plata Barrio Camet\"\n",
    "\n",
    "\n",
    "\n",
    "\n",
    "#prueba la perla\n",
    "placename_chauvin_mask = (data['place_name'] == \"Chauvín\")\n",
    "\n",
    "#print chauvin\n",
    "data[placename_chauvin_mask].head(3)"
   ]
  },
  {
   "cell_type": "code",
   "execution_count": 17,
   "metadata": {},
   "outputs": [
    {
     "data": {
      "text/plain": [
       "True"
      ]
     },
     "execution_count": 17,
     "metadata": {},
     "output_type": "execute_result"
    }
   ],
   "source": [
    "#corroboramos que todos que contienen mar del plata en la mascara Clean y en place_with_parent_names\n",
    "mdq_mask_clean = data['place_name_clean'].str.contains('Mar del Plata')\n",
    "any(mdq_mask == mdq_mask_clean)\n"
   ]
  },
  {
   "cell_type": "code",
   "execution_count": 18,
   "metadata": {},
   "outputs": [
    {
     "data": {
      "text/html": [
       "<div>\n",
       "<style scoped>\n",
       "    .dataframe tbody tr th:only-of-type {\n",
       "        vertical-align: middle;\n",
       "    }\n",
       "\n",
       "    .dataframe tbody tr th {\n",
       "        vertical-align: top;\n",
       "    }\n",
       "\n",
       "    .dataframe thead th {\n",
       "        text-align: right;\n",
       "    }\n",
       "</style>\n",
       "<table border=\"1\" class=\"dataframe\">\n",
       "  <thead>\n",
       "    <tr style=\"text-align: right;\">\n",
       "      <th></th>\n",
       "      <th>Unnamed: 0</th>\n",
       "      <th>operation</th>\n",
       "      <th>property_type</th>\n",
       "      <th>place_name</th>\n",
       "      <th>place_with_parent_names</th>\n",
       "      <th>country_name</th>\n",
       "      <th>state_name</th>\n",
       "      <th>geonames_id</th>\n",
       "      <th>lat-lon</th>\n",
       "      <th>lat</th>\n",
       "      <th>...</th>\n",
       "      <th>price_usd_per_m2</th>\n",
       "      <th>price_per_m2</th>\n",
       "      <th>floor</th>\n",
       "      <th>rooms</th>\n",
       "      <th>expenses</th>\n",
       "      <th>properati_url</th>\n",
       "      <th>description</th>\n",
       "      <th>title</th>\n",
       "      <th>image_thumbnail</th>\n",
       "      <th>place_name_clean</th>\n",
       "    </tr>\n",
       "  </thead>\n",
       "  <tbody>\n",
       "    <tr>\n",
       "      <th>6489</th>\n",
       "      <td>6489</td>\n",
       "      <td>sell</td>\n",
       "      <td>house</td>\n",
       "      <td>NaN</td>\n",
       "      <td>|Argentina|Bs.As. G.B.A. Zona Norte|Tigre||</td>\n",
       "      <td>Argentina</td>\n",
       "      <td>Bs.As. G.B.A. Zona Norte</td>\n",
       "      <td>NaN</td>\n",
       "      <td>-34.4008968545,-58.63809847</td>\n",
       "      <td>-34.400897</td>\n",
       "      <td>...</td>\n",
       "      <td>2708.333333</td>\n",
       "      <td>2708.333333</td>\n",
       "      <td>NaN</td>\n",
       "      <td>NaN</td>\n",
       "      <td>NaN</td>\n",
       "      <td>http://www.properati.com.ar/15ui7_venta_casa_t...</td>\n",
       "      <td>Espectacular casa moderna de una planta, con a...</td>\n",
       "      <td>Venta de casa en Santa María de Tigre</td>\n",
       "      <td>https://thumbs4.properati.com/7/vQjgbHSz1fKXxy...</td>\n",
       "      <td>Tigre</td>\n",
       "    </tr>\n",
       "    <tr>\n",
       "      <th>10201</th>\n",
       "      <td>10201</td>\n",
       "      <td>sell</td>\n",
       "      <td>house</td>\n",
       "      <td>NaN</td>\n",
       "      <td>|Argentina|Bs.As. G.B.A. Zona Norte|Tigre||</td>\n",
       "      <td>Argentina</td>\n",
       "      <td>Bs.As. G.B.A. Zona Norte</td>\n",
       "      <td>NaN</td>\n",
       "      <td>-34.400704,-58.638067</td>\n",
       "      <td>-34.400704</td>\n",
       "      <td>...</td>\n",
       "      <td>NaN</td>\n",
       "      <td>1783.333333</td>\n",
       "      <td>NaN</td>\n",
       "      <td>5.0</td>\n",
       "      <td>NaN</td>\n",
       "      <td>http://www.properati.com.ar/166p5_venta_casa_t...</td>\n",
       "      <td>Corredor Responsable: SABRINA COCCONI - CSI 62...</td>\n",
       "      <td>VENTA CASA SANTA MARÍA DE TIGRE COUNTRY BARRIO...</td>\n",
       "      <td>https://thumbs4.properati.com/1/FABpKIJMaoAO3t...</td>\n",
       "      <td>Tigre</td>\n",
       "    </tr>\n",
       "    <tr>\n",
       "      <th>11451</th>\n",
       "      <td>11451</td>\n",
       "      <td>sell</td>\n",
       "      <td>house</td>\n",
       "      <td>NaN</td>\n",
       "      <td>|Argentina|Bs.As. G.B.A. Zona Norte|Tigre||</td>\n",
       "      <td>Argentina</td>\n",
       "      <td>Bs.As. G.B.A. Zona Norte</td>\n",
       "      <td>NaN</td>\n",
       "      <td>-34.4026880384,-58.6262613379</td>\n",
       "      <td>-34.402688</td>\n",
       "      <td>...</td>\n",
       "      <td>253.456221</td>\n",
       "      <td>2037.037037</td>\n",
       "      <td>NaN</td>\n",
       "      <td>NaN</td>\n",
       "      <td>NaN</td>\n",
       "      <td>http://www.properati.com.ar/16bpd_venta_casa_t...</td>\n",
       "      <td>MUY LINDA CASA EN EXCELENTE UBICACION!! Superf...</td>\n",
       "      <td>SANTA MARIA DE TIGRE IMPECABLE</td>\n",
       "      <td>https://thumbs4.properati.com/5/fwH9L71hW2rW7V...</td>\n",
       "      <td>Tigre</td>\n",
       "    </tr>\n",
       "    <tr>\n",
       "      <th>14839</th>\n",
       "      <td>14839</td>\n",
       "      <td>sell</td>\n",
       "      <td>house</td>\n",
       "      <td>NaN</td>\n",
       "      <td>|Argentina|Bs.As. G.B.A. Zona Norte|Tigre||</td>\n",
       "      <td>Argentina</td>\n",
       "      <td>Bs.As. G.B.A. Zona Norte</td>\n",
       "      <td>NaN</td>\n",
       "      <td>-34.4007994779,-58.6381735719</td>\n",
       "      <td>-34.400799</td>\n",
       "      <td>...</td>\n",
       "      <td>2000.000000</td>\n",
       "      <td>2400.000000</td>\n",
       "      <td>NaN</td>\n",
       "      <td>NaN</td>\n",
       "      <td>NaN</td>\n",
       "      <td>http://www.properati.com.ar/16tal_venta_casa_b...</td>\n",
       "      <td>Muy linda casa de estilo clásico.-Planta baja;...</td>\n",
       "      <td>Venta de casa en Santa María de Tigre</td>\n",
       "      <td>https://thumbs4.properati.com/1/3ZbPSffTY38y7v...</td>\n",
       "      <td>Tigre</td>\n",
       "    </tr>\n",
       "    <tr>\n",
       "      <th>18622</th>\n",
       "      <td>18622</td>\n",
       "      <td>sell</td>\n",
       "      <td>house</td>\n",
       "      <td>NaN</td>\n",
       "      <td>|Argentina|Bs.As. G.B.A. Zona Norte|Tigre||</td>\n",
       "      <td>Argentina</td>\n",
       "      <td>Bs.As. G.B.A. Zona Norte</td>\n",
       "      <td>NaN</td>\n",
       "      <td>-34.4032781195,-58.6263503945</td>\n",
       "      <td>-34.403278</td>\n",
       "      <td>...</td>\n",
       "      <td>3814.705882</td>\n",
       "      <td>3814.705882</td>\n",
       "      <td>NaN</td>\n",
       "      <td>NaN</td>\n",
       "      <td>NaN</td>\n",
       "      <td>http://www.properati.com.ar/177ee_venta_casa_t...</td>\n",
       "      <td>Casa con increible vista al lago con playa de...</td>\n",
       "      <td>Casa con increible vista al lago con playa y m...</td>\n",
       "      <td>https://thumbs4.properati.com/0/52JCH1PKYCOMe6...</td>\n",
       "      <td>Tigre</td>\n",
       "    </tr>\n",
       "    <tr>\n",
       "      <th>21922</th>\n",
       "      <td>21922</td>\n",
       "      <td>sell</td>\n",
       "      <td>house</td>\n",
       "      <td>NaN</td>\n",
       "      <td>|Argentina|Bs.As. G.B.A. Zona Norte|Tigre||</td>\n",
       "      <td>Argentina</td>\n",
       "      <td>Bs.As. G.B.A. Zona Norte</td>\n",
       "      <td>NaN</td>\n",
       "      <td>-34.399704,-58.638405</td>\n",
       "      <td>-34.399704</td>\n",
       "      <td>...</td>\n",
       "      <td>NaN</td>\n",
       "      <td>2000.000000</td>\n",
       "      <td>NaN</td>\n",
       "      <td>5.0</td>\n",
       "      <td>NaN</td>\n",
       "      <td>http://www.properati.com.ar/17gy5_venta_casa_s...</td>\n",
       "      <td>Corredor Responsable: Matias Castelli - CUCICB...</td>\n",
       "      <td>Venta Casa - Barrio Santa Maria de Tigre</td>\n",
       "      <td>https://thumbs4.properati.com/8/oO7kmFPYNm8DYr...</td>\n",
       "      <td>Tigre</td>\n",
       "    </tr>\n",
       "    <tr>\n",
       "      <th>23664</th>\n",
       "      <td>23664</td>\n",
       "      <td>sell</td>\n",
       "      <td>house</td>\n",
       "      <td>NaN</td>\n",
       "      <td>|Argentina|Bs.As. G.B.A. Zona Norte|Tigre||</td>\n",
       "      <td>Argentina</td>\n",
       "      <td>Bs.As. G.B.A. Zona Norte</td>\n",
       "      <td>NaN</td>\n",
       "      <td>-34.4005161998,-58.6417999185</td>\n",
       "      <td>-34.400516</td>\n",
       "      <td>...</td>\n",
       "      <td>1632.653061</td>\n",
       "      <td>1632.653061</td>\n",
       "      <td>NaN</td>\n",
       "      <td>NaN</td>\n",
       "      <td>NaN</td>\n",
       "      <td>http://www.properati.com.ar/17mb5_venta_casa_t...</td>\n",
       "      <td>EXCELENTE CASA CLASICA con grandes ventanas y ...</td>\n",
       "      <td>CASA EN VENTA EN SANTA MARIA DE TIGRE CON RENTA</td>\n",
       "      <td>https://thumbs4.properati.com/2/LQCwH6txpFqetn...</td>\n",
       "      <td>Tigre</td>\n",
       "    </tr>\n",
       "    <tr>\n",
       "      <th>24722</th>\n",
       "      <td>24722</td>\n",
       "      <td>sell</td>\n",
       "      <td>house</td>\n",
       "      <td>NaN</td>\n",
       "      <td>|Argentina|Bs.As. G.B.A. Zona Norte|Tigre||</td>\n",
       "      <td>Argentina</td>\n",
       "      <td>Bs.As. G.B.A. Zona Norte</td>\n",
       "      <td>NaN</td>\n",
       "      <td>-34.4007292,-58.6377783</td>\n",
       "      <td>-34.400729</td>\n",
       "      <td>...</td>\n",
       "      <td>1677.215190</td>\n",
       "      <td>1962.962963</td>\n",
       "      <td>NaN</td>\n",
       "      <td>NaN</td>\n",
       "      <td>NaN</td>\n",
       "      <td>http://www.properati.com.ar/17oz1_venta_casa_t...</td>\n",
       "      <td>EN EXCLUSIVIDAD!!!!!!Lindísima casa, muy lumin...</td>\n",
       "      <td>Venta de casa en Santa María de Tigre</td>\n",
       "      <td>https://thumbs4.properati.com/0/Nhx4NejZaQACap...</td>\n",
       "      <td>Tigre</td>\n",
       "    </tr>\n",
       "    <tr>\n",
       "      <th>38856</th>\n",
       "      <td>38856</td>\n",
       "      <td>sell</td>\n",
       "      <td>house</td>\n",
       "      <td>NaN</td>\n",
       "      <td>|Argentina|Bs.As. G.B.A. Zona Norte|Tigre||</td>\n",
       "      <td>Argentina</td>\n",
       "      <td>Bs.As. G.B.A. Zona Norte</td>\n",
       "      <td>NaN</td>\n",
       "      <td>-34.425087,-58.5796585</td>\n",
       "      <td>-34.425087</td>\n",
       "      <td>...</td>\n",
       "      <td>NaN</td>\n",
       "      <td>2454.545455</td>\n",
       "      <td>NaN</td>\n",
       "      <td>NaN</td>\n",
       "      <td>NaN</td>\n",
       "      <td>http://www.properati.com.ar/18mcb_venta_casa_t...</td>\n",
       "      <td>SANTA MARIA DE TIGRE- AL RIO - ESPECTACULAR CA...</td>\n",
       "      <td>Casa (barrio cerrado), Venta</td>\n",
       "      <td>https://thumbs4.properati.com/2/Izq8d5o8ti3kJy...</td>\n",
       "      <td>Tigre</td>\n",
       "    </tr>\n",
       "    <tr>\n",
       "      <th>45970</th>\n",
       "      <td>45970</td>\n",
       "      <td>sell</td>\n",
       "      <td>apartment</td>\n",
       "      <td>NaN</td>\n",
       "      <td>|Argentina|Bs.As. G.B.A. Zona Norte|Tigre||</td>\n",
       "      <td>Argentina</td>\n",
       "      <td>Bs.As. G.B.A. Zona Norte</td>\n",
       "      <td>NaN</td>\n",
       "      <td>-34.396074,-58.63738</td>\n",
       "      <td>-34.396074</td>\n",
       "      <td>...</td>\n",
       "      <td>1727.272727</td>\n",
       "      <td>3518.518519</td>\n",
       "      <td>NaN</td>\n",
       "      <td>1.0</td>\n",
       "      <td>NaN</td>\n",
       "      <td>http://www.properati.com.ar/1958f_venta_depart...</td>\n",
       "      <td>EDIFICIO ZERENA – EL PALMAR, NORDELTA. Torre 2...</td>\n",
       "      <td>Excelente monoambiente. Barrio El Palmar.  Con...</td>\n",
       "      <td>https://thumbs4.properati.com/2/5yvU5E9wOAAzBa...</td>\n",
       "      <td>Tigre</td>\n",
       "    </tr>\n",
       "    <tr>\n",
       "      <th>46642</th>\n",
       "      <td>46642</td>\n",
       "      <td>sell</td>\n",
       "      <td>house</td>\n",
       "      <td>NaN</td>\n",
       "      <td>|Argentina|Bs.As. G.B.A. Zona Norte|Tigre||</td>\n",
       "      <td>Argentina</td>\n",
       "      <td>Bs.As. G.B.A. Zona Norte</td>\n",
       "      <td>NaN</td>\n",
       "      <td>-34.400749,-58.638754</td>\n",
       "      <td>-34.400749</td>\n",
       "      <td>...</td>\n",
       "      <td>NaN</td>\n",
       "      <td>73500.000000</td>\n",
       "      <td>NaN</td>\n",
       "      <td>6.0</td>\n",
       "      <td>NaN</td>\n",
       "      <td>http://www.properati.com.ar/196mk_venta_casa_t...</td>\n",
       "      <td>Corredor Responsable: Matias Castelli - CUCICB...</td>\n",
       "      <td>Venta de Casa al rio</td>\n",
       "      <td>https://thumbs4.properati.com/9/ACeODr7N9CYr9T...</td>\n",
       "      <td>Tigre</td>\n",
       "    </tr>\n",
       "    <tr>\n",
       "      <th>53130</th>\n",
       "      <td>53130</td>\n",
       "      <td>sell</td>\n",
       "      <td>house</td>\n",
       "      <td>NaN</td>\n",
       "      <td>|Argentina|Bs.As. G.B.A. Zona Norte|Tigre||</td>\n",
       "      <td>Argentina</td>\n",
       "      <td>Bs.As. G.B.A. Zona Norte</td>\n",
       "      <td>NaN</td>\n",
       "      <td>-34.400978,-58.637809</td>\n",
       "      <td>-34.400978</td>\n",
       "      <td>...</td>\n",
       "      <td>630.000000</td>\n",
       "      <td>1702.702703</td>\n",
       "      <td>NaN</td>\n",
       "      <td>NaN</td>\n",
       "      <td>NaN</td>\n",
       "      <td>http://www.properati.com.ar/19kkw_venta_casa_t...</td>\n",
       "      <td>Excelente casa en Venta en B° Santa Maria de T...</td>\n",
       "      <td>Casa en Venta</td>\n",
       "      <td>https://thumbs4.properati.com/0/3G0TgAjQbNN385...</td>\n",
       "      <td>Tigre</td>\n",
       "    </tr>\n",
       "    <tr>\n",
       "      <th>55306</th>\n",
       "      <td>55306</td>\n",
       "      <td>sell</td>\n",
       "      <td>house</td>\n",
       "      <td>NaN</td>\n",
       "      <td>|Argentina|Bs.As. G.B.A. Zona Norte|Tigre||</td>\n",
       "      <td>Argentina</td>\n",
       "      <td>Bs.As. G.B.A. Zona Norte</td>\n",
       "      <td>NaN</td>\n",
       "      <td>-34.3996311,-58.6433121</td>\n",
       "      <td>-34.399631</td>\n",
       "      <td>...</td>\n",
       "      <td>1850.393701</td>\n",
       "      <td>2303.921569</td>\n",
       "      <td>NaN</td>\n",
       "      <td>NaN</td>\n",
       "      <td>NaN</td>\n",
       "      <td>http://www.properati.com.ar/19ouh_venta_casa_t...</td>\n",
       "      <td>Muy linda casa de dos plantas en lote interno ...</td>\n",
       "      <td>Santa María de Tigre. Casa con amarra.</td>\n",
       "      <td>https://thumbs4.properati.com/7/6CoXZSzRyyYJBA...</td>\n",
       "      <td>Tigre</td>\n",
       "    </tr>\n",
       "    <tr>\n",
       "      <th>57703</th>\n",
       "      <td>57703</td>\n",
       "      <td>sell</td>\n",
       "      <td>house</td>\n",
       "      <td>NaN</td>\n",
       "      <td>|Argentina|Bs.As. G.B.A. Zona Norte|Tigre||</td>\n",
       "      <td>Argentina</td>\n",
       "      <td>Bs.As. G.B.A. Zona Norte</td>\n",
       "      <td>NaN</td>\n",
       "      <td>-34.39033749,-58.63368988</td>\n",
       "      <td>-34.390337</td>\n",
       "      <td>...</td>\n",
       "      <td>2826.086957</td>\n",
       "      <td>2826.086957</td>\n",
       "      <td>NaN</td>\n",
       "      <td>NaN</td>\n",
       "      <td>NaN</td>\n",
       "      <td>http://www.properati.com.ar/19ty5_venta_casa_s...</td>\n",
       "      <td>Espectacular casas moderna con amplio jardín s...</td>\n",
       "      <td>SANTA MARIA DE TIGRE 100</td>\n",
       "      <td>https://thumbs4.properati.com/3/3ax5piHfCls0gT...</td>\n",
       "      <td>Tigre</td>\n",
       "    </tr>\n",
       "    <tr>\n",
       "      <th>57759</th>\n",
       "      <td>57759</td>\n",
       "      <td>sell</td>\n",
       "      <td>house</td>\n",
       "      <td>NaN</td>\n",
       "      <td>|Argentina|Bs.As. G.B.A. Zona Norte|Tigre||</td>\n",
       "      <td>Argentina</td>\n",
       "      <td>Bs.As. G.B.A. Zona Norte</td>\n",
       "      <td>NaN</td>\n",
       "      <td>-34.39596815,-58.63077164</td>\n",
       "      <td>-34.395968</td>\n",
       "      <td>...</td>\n",
       "      <td>1611.111111</td>\n",
       "      <td>1611.111111</td>\n",
       "      <td>NaN</td>\n",
       "      <td>NaN</td>\n",
       "      <td>NaN</td>\n",
       "      <td>http://www.properati.com.ar/19u2a_venta_casa_b...</td>\n",
       "      <td>Incluye una amarra de U$S 30.000 con elevador ...</td>\n",
       "      <td>SANTA MARIA DE TIGRE 100</td>\n",
       "      <td>https://thumbs4.properati.com/8/H6gVgcPkk1wcQu...</td>\n",
       "      <td>Tigre</td>\n",
       "    </tr>\n",
       "    <tr>\n",
       "      <th>57764</th>\n",
       "      <td>57764</td>\n",
       "      <td>sell</td>\n",
       "      <td>house</td>\n",
       "      <td>NaN</td>\n",
       "      <td>|Argentina|Bs.As. G.B.A. Zona Norte|Tigre||</td>\n",
       "      <td>Argentina</td>\n",
       "      <td>Bs.As. G.B.A. Zona Norte</td>\n",
       "      <td>NaN</td>\n",
       "      <td>-34.39635767,-58.62613678</td>\n",
       "      <td>-34.396358</td>\n",
       "      <td>...</td>\n",
       "      <td>2282.352941</td>\n",
       "      <td>2480.818414</td>\n",
       "      <td>NaN</td>\n",
       "      <td>NaN</td>\n",
       "      <td>NaN</td>\n",
       "      <td>http://www.properati.com.ar/19u2n_venta_casa_s...</td>\n",
       "      <td>IMPECABLE ! Sobre la laguna con excelente orie...</td>\n",
       "      <td>SANTA MARIA DE TIGRE 100</td>\n",
       "      <td>https://thumbs4.properati.com/1/7lkC4GRTKV-2DS...</td>\n",
       "      <td>Tigre</td>\n",
       "    </tr>\n",
       "    <tr>\n",
       "      <th>57793</th>\n",
       "      <td>57793</td>\n",
       "      <td>sell</td>\n",
       "      <td>house</td>\n",
       "      <td>NaN</td>\n",
       "      <td>|Argentina|Bs.As. G.B.A. Zona Norte|Tigre||</td>\n",
       "      <td>Argentina</td>\n",
       "      <td>Bs.As. G.B.A. Zona Norte</td>\n",
       "      <td>NaN</td>\n",
       "      <td>-34.39628685,-58.62922668</td>\n",
       "      <td>-34.396287</td>\n",
       "      <td>...</td>\n",
       "      <td>3040.000000</td>\n",
       "      <td>3040.000000</td>\n",
       "      <td>NaN</td>\n",
       "      <td>NaN</td>\n",
       "      <td>NaN</td>\n",
       "      <td>http://www.properati.com.ar/19u4u_venta_casa_j...</td>\n",
       "      <td>Súper cálida y agradable. Ubicada en uno de lo...</td>\n",
       "      <td>SANTA MARIA DE TIGRE 100</td>\n",
       "      <td>https://thumbs4.properati.com/7/GbromikV5vgSHJ...</td>\n",
       "      <td>Tigre</td>\n",
       "    </tr>\n",
       "    <tr>\n",
       "      <th>58004</th>\n",
       "      <td>58004</td>\n",
       "      <td>sell</td>\n",
       "      <td>house</td>\n",
       "      <td>NaN</td>\n",
       "      <td>|Argentina|Bs.As. G.B.A. Zona Norte|Tigre||</td>\n",
       "      <td>Argentina</td>\n",
       "      <td>Bs.As. G.B.A. Zona Norte</td>\n",
       "      <td>NaN</td>\n",
       "      <td>-34.39104577,-58.63617897</td>\n",
       "      <td>-34.391046</td>\n",
       "      <td>...</td>\n",
       "      <td>2067.669173</td>\n",
       "      <td>2391.304348</td>\n",
       "      <td>NaN</td>\n",
       "      <td>NaN</td>\n",
       "      <td>NaN</td>\n",
       "      <td>http://www.properati.com.ar/19uld_venta_casa_s...</td>\n",
       "      <td>Casa clásica muy cómoda.PLANTA BAJA: Hall de e...</td>\n",
       "      <td>SANTA MARIA DE TIGRE 100</td>\n",
       "      <td>https://thumbs4.properati.com/7/1XfLGuboQb9HPW...</td>\n",
       "      <td>Tigre</td>\n",
       "    </tr>\n",
       "    <tr>\n",
       "      <th>58037</th>\n",
       "      <td>58037</td>\n",
       "      <td>sell</td>\n",
       "      <td>house</td>\n",
       "      <td>NaN</td>\n",
       "      <td>|Argentina|Bs.As. G.B.A. Zona Norte|Tigre||</td>\n",
       "      <td>Argentina</td>\n",
       "      <td>Bs.As. G.B.A. Zona Norte</td>\n",
       "      <td>NaN</td>\n",
       "      <td>-34.39315287,-58.63197327</td>\n",
       "      <td>-34.393153</td>\n",
       "      <td>...</td>\n",
       "      <td>1843.750000</td>\n",
       "      <td>1843.750000</td>\n",
       "      <td>NaN</td>\n",
       "      <td>NaN</td>\n",
       "      <td>NaN</td>\n",
       "      <td>http://www.properati.com.ar/19unl_venta_casa_s...</td>\n",
       "      <td>Excelente casa ubicada en uno de la a pocos ba...</td>\n",
       "      <td>SANTA MARIA DE TIGRE 100</td>\n",
       "      <td>https://thumbs4.properati.com/1/gnnv0Ek1OhlEIc...</td>\n",
       "      <td>Tigre</td>\n",
       "    </tr>\n",
       "    <tr>\n",
       "      <th>59069</th>\n",
       "      <td>59069</td>\n",
       "      <td>sell</td>\n",
       "      <td>house</td>\n",
       "      <td>NaN</td>\n",
       "      <td>|Argentina|Bs.As. G.B.A. Zona Norte|Tigre||</td>\n",
       "      <td>Argentina</td>\n",
       "      <td>Bs.As. G.B.A. Zona Norte</td>\n",
       "      <td>NaN</td>\n",
       "      <td>-34.400849,-58.638179</td>\n",
       "      <td>-34.400849</td>\n",
       "      <td>...</td>\n",
       "      <td>NaN</td>\n",
       "      <td>2580.645161</td>\n",
       "      <td>NaN</td>\n",
       "      <td>5.0</td>\n",
       "      <td>NaN</td>\n",
       "      <td>http://www.properati.com.ar/19wuj_venta_casa_b...</td>\n",
       "      <td>Corredor Responsable: Matias Castelli - CUCICB...</td>\n",
       "      <td>CASA EN VENTA AL AGUA EN SANTA MARIA DE TIGRE</td>\n",
       "      <td>https://thumbs4.properati.com/0/yQCPCJupzxW52v...</td>\n",
       "      <td>Tigre</td>\n",
       "    </tr>\n",
       "    <tr>\n",
       "      <th>62411</th>\n",
       "      <td>62411</td>\n",
       "      <td>sell</td>\n",
       "      <td>house</td>\n",
       "      <td>NaN</td>\n",
       "      <td>|Argentina|Bs.As. G.B.A. Zona Norte|Tigre||</td>\n",
       "      <td>Argentina</td>\n",
       "      <td>Bs.As. G.B.A. Zona Norte</td>\n",
       "      <td>NaN</td>\n",
       "      <td>-34.396485,-58.635878</td>\n",
       "      <td>-34.396485</td>\n",
       "      <td>...</td>\n",
       "      <td>2000.000000</td>\n",
       "      <td>2000.000000</td>\n",
       "      <td>NaN</td>\n",
       "      <td>4.0</td>\n",
       "      <td>NaN</td>\n",
       "      <td>http://www.properati.com.ar/1a71u_venta_casa_b...</td>\n",
       "      <td>Hermosa casa en lote perimetral, Excelente cal...</td>\n",
       "      <td>VENTA CASA A ESTRENAR EN LAS TIPAS NORDELTA</td>\n",
       "      <td>https://thumbs4.properati.com/8/6zjSdUPIdlsKSz...</td>\n",
       "      <td>Tigre</td>\n",
       "    </tr>\n",
       "    <tr>\n",
       "      <th>62413</th>\n",
       "      <td>62413</td>\n",
       "      <td>sell</td>\n",
       "      <td>house</td>\n",
       "      <td>NaN</td>\n",
       "      <td>|Argentina|Bs.As. G.B.A. Zona Norte|Tigre||</td>\n",
       "      <td>Argentina</td>\n",
       "      <td>Bs.As. G.B.A. Zona Norte</td>\n",
       "      <td>NaN</td>\n",
       "      <td>-34.396485,-58.635878</td>\n",
       "      <td>-34.396485</td>\n",
       "      <td>...</td>\n",
       "      <td>1676.000000</td>\n",
       "      <td>2095.000000</td>\n",
       "      <td>NaN</td>\n",
       "      <td>5.0</td>\n",
       "      <td>NaN</td>\n",
       "      <td>http://www.properati.com.ar/1a71w_venta_casa_s...</td>\n",
       "      <td>Muy linda casa a estrenar sobre lote perimetra...</td>\n",
       "      <td>Muy linda casa a estrenar en Las Tipas</td>\n",
       "      <td>https://thumbs4.properati.com/4/lp2Smi4s4ttX4a...</td>\n",
       "      <td>Tigre</td>\n",
       "    </tr>\n",
       "    <tr>\n",
       "      <th>63849</th>\n",
       "      <td>63849</td>\n",
       "      <td>sell</td>\n",
       "      <td>house</td>\n",
       "      <td>NaN</td>\n",
       "      <td>|Argentina|Bs.As. G.B.A. Zona Norte|Tigre||</td>\n",
       "      <td>Argentina</td>\n",
       "      <td>Bs.As. G.B.A. Zona Norte</td>\n",
       "      <td>NaN</td>\n",
       "      <td>-34.39452,-58.632501</td>\n",
       "      <td>-34.394520</td>\n",
       "      <td>...</td>\n",
       "      <td>2857.142857</td>\n",
       "      <td>2857.142857</td>\n",
       "      <td>NaN</td>\n",
       "      <td>5.0</td>\n",
       "      <td>NaN</td>\n",
       "      <td>http://www.properati.com.ar/1a9l0_venta_casa_s...</td>\n",
       "      <td>Casa estilo colonial de una planta sobre lote ...</td>\n",
       "      <td>Oportunidad! Casa en La Alameda</td>\n",
       "      <td>https://thumbs4.properati.com/3/0IZAiDfAhxDRhX...</td>\n",
       "      <td>Tigre</td>\n",
       "    </tr>\n",
       "  </tbody>\n",
       "</table>\n",
       "<p>23 rows × 27 columns</p>\n",
       "</div>"
      ],
      "text/plain": [
       "       Unnamed: 0 operation property_type place_name  \\\n",
       "6489         6489      sell         house        NaN   \n",
       "10201       10201      sell         house        NaN   \n",
       "11451       11451      sell         house        NaN   \n",
       "14839       14839      sell         house        NaN   \n",
       "18622       18622      sell         house        NaN   \n",
       "21922       21922      sell         house        NaN   \n",
       "23664       23664      sell         house        NaN   \n",
       "24722       24722      sell         house        NaN   \n",
       "38856       38856      sell         house        NaN   \n",
       "45970       45970      sell     apartment        NaN   \n",
       "46642       46642      sell         house        NaN   \n",
       "53130       53130      sell         house        NaN   \n",
       "55306       55306      sell         house        NaN   \n",
       "57703       57703      sell         house        NaN   \n",
       "57759       57759      sell         house        NaN   \n",
       "57764       57764      sell         house        NaN   \n",
       "57793       57793      sell         house        NaN   \n",
       "58004       58004      sell         house        NaN   \n",
       "58037       58037      sell         house        NaN   \n",
       "59069       59069      sell         house        NaN   \n",
       "62411       62411      sell         house        NaN   \n",
       "62413       62413      sell         house        NaN   \n",
       "63849       63849      sell         house        NaN   \n",
       "\n",
       "                           place_with_parent_names country_name  \\\n",
       "6489   |Argentina|Bs.As. G.B.A. Zona Norte|Tigre||    Argentina   \n",
       "10201  |Argentina|Bs.As. G.B.A. Zona Norte|Tigre||    Argentina   \n",
       "11451  |Argentina|Bs.As. G.B.A. Zona Norte|Tigre||    Argentina   \n",
       "14839  |Argentina|Bs.As. G.B.A. Zona Norte|Tigre||    Argentina   \n",
       "18622  |Argentina|Bs.As. G.B.A. Zona Norte|Tigre||    Argentina   \n",
       "21922  |Argentina|Bs.As. G.B.A. Zona Norte|Tigre||    Argentina   \n",
       "23664  |Argentina|Bs.As. G.B.A. Zona Norte|Tigre||    Argentina   \n",
       "24722  |Argentina|Bs.As. G.B.A. Zona Norte|Tigre||    Argentina   \n",
       "38856  |Argentina|Bs.As. G.B.A. Zona Norte|Tigre||    Argentina   \n",
       "45970  |Argentina|Bs.As. G.B.A. Zona Norte|Tigre||    Argentina   \n",
       "46642  |Argentina|Bs.As. G.B.A. Zona Norte|Tigre||    Argentina   \n",
       "53130  |Argentina|Bs.As. G.B.A. Zona Norte|Tigre||    Argentina   \n",
       "55306  |Argentina|Bs.As. G.B.A. Zona Norte|Tigre||    Argentina   \n",
       "57703  |Argentina|Bs.As. G.B.A. Zona Norte|Tigre||    Argentina   \n",
       "57759  |Argentina|Bs.As. G.B.A. Zona Norte|Tigre||    Argentina   \n",
       "57764  |Argentina|Bs.As. G.B.A. Zona Norte|Tigre||    Argentina   \n",
       "57793  |Argentina|Bs.As. G.B.A. Zona Norte|Tigre||    Argentina   \n",
       "58004  |Argentina|Bs.As. G.B.A. Zona Norte|Tigre||    Argentina   \n",
       "58037  |Argentina|Bs.As. G.B.A. Zona Norte|Tigre||    Argentina   \n",
       "59069  |Argentina|Bs.As. G.B.A. Zona Norte|Tigre||    Argentina   \n",
       "62411  |Argentina|Bs.As. G.B.A. Zona Norte|Tigre||    Argentina   \n",
       "62413  |Argentina|Bs.As. G.B.A. Zona Norte|Tigre||    Argentina   \n",
       "63849  |Argentina|Bs.As. G.B.A. Zona Norte|Tigre||    Argentina   \n",
       "\n",
       "                     state_name  geonames_id                        lat-lon  \\\n",
       "6489   Bs.As. G.B.A. Zona Norte          NaN    -34.4008968545,-58.63809847   \n",
       "10201  Bs.As. G.B.A. Zona Norte          NaN          -34.400704,-58.638067   \n",
       "11451  Bs.As. G.B.A. Zona Norte          NaN  -34.4026880384,-58.6262613379   \n",
       "14839  Bs.As. G.B.A. Zona Norte          NaN  -34.4007994779,-58.6381735719   \n",
       "18622  Bs.As. G.B.A. Zona Norte          NaN  -34.4032781195,-58.6263503945   \n",
       "21922  Bs.As. G.B.A. Zona Norte          NaN          -34.399704,-58.638405   \n",
       "23664  Bs.As. G.B.A. Zona Norte          NaN  -34.4005161998,-58.6417999185   \n",
       "24722  Bs.As. G.B.A. Zona Norte          NaN        -34.4007292,-58.6377783   \n",
       "38856  Bs.As. G.B.A. Zona Norte          NaN         -34.425087,-58.5796585   \n",
       "45970  Bs.As. G.B.A. Zona Norte          NaN           -34.396074,-58.63738   \n",
       "46642  Bs.As. G.B.A. Zona Norte          NaN          -34.400749,-58.638754   \n",
       "53130  Bs.As. G.B.A. Zona Norte          NaN          -34.400978,-58.637809   \n",
       "55306  Bs.As. G.B.A. Zona Norte          NaN        -34.3996311,-58.6433121   \n",
       "57703  Bs.As. G.B.A. Zona Norte          NaN      -34.39033749,-58.63368988   \n",
       "57759  Bs.As. G.B.A. Zona Norte          NaN      -34.39596815,-58.63077164   \n",
       "57764  Bs.As. G.B.A. Zona Norte          NaN      -34.39635767,-58.62613678   \n",
       "57793  Bs.As. G.B.A. Zona Norte          NaN      -34.39628685,-58.62922668   \n",
       "58004  Bs.As. G.B.A. Zona Norte          NaN      -34.39104577,-58.63617897   \n",
       "58037  Bs.As. G.B.A. Zona Norte          NaN      -34.39315287,-58.63197327   \n",
       "59069  Bs.As. G.B.A. Zona Norte          NaN          -34.400849,-58.638179   \n",
       "62411  Bs.As. G.B.A. Zona Norte          NaN          -34.396485,-58.635878   \n",
       "62413  Bs.As. G.B.A. Zona Norte          NaN          -34.396485,-58.635878   \n",
       "63849  Bs.As. G.B.A. Zona Norte          NaN           -34.39452,-58.632501   \n",
       "\n",
       "             lat  ...  price_usd_per_m2  price_per_m2 floor  rooms  expenses  \\\n",
       "6489  -34.400897  ...       2708.333333   2708.333333   NaN    NaN       NaN   \n",
       "10201 -34.400704  ...               NaN   1783.333333   NaN    5.0       NaN   \n",
       "11451 -34.402688  ...        253.456221   2037.037037   NaN    NaN       NaN   \n",
       "14839 -34.400799  ...       2000.000000   2400.000000   NaN    NaN       NaN   \n",
       "18622 -34.403278  ...       3814.705882   3814.705882   NaN    NaN       NaN   \n",
       "21922 -34.399704  ...               NaN   2000.000000   NaN    5.0       NaN   \n",
       "23664 -34.400516  ...       1632.653061   1632.653061   NaN    NaN       NaN   \n",
       "24722 -34.400729  ...       1677.215190   1962.962963   NaN    NaN       NaN   \n",
       "38856 -34.425087  ...               NaN   2454.545455   NaN    NaN       NaN   \n",
       "45970 -34.396074  ...       1727.272727   3518.518519   NaN    1.0       NaN   \n",
       "46642 -34.400749  ...               NaN  73500.000000   NaN    6.0       NaN   \n",
       "53130 -34.400978  ...        630.000000   1702.702703   NaN    NaN       NaN   \n",
       "55306 -34.399631  ...       1850.393701   2303.921569   NaN    NaN       NaN   \n",
       "57703 -34.390337  ...       2826.086957   2826.086957   NaN    NaN       NaN   \n",
       "57759 -34.395968  ...       1611.111111   1611.111111   NaN    NaN       NaN   \n",
       "57764 -34.396358  ...       2282.352941   2480.818414   NaN    NaN       NaN   \n",
       "57793 -34.396287  ...       3040.000000   3040.000000   NaN    NaN       NaN   \n",
       "58004 -34.391046  ...       2067.669173   2391.304348   NaN    NaN       NaN   \n",
       "58037 -34.393153  ...       1843.750000   1843.750000   NaN    NaN       NaN   \n",
       "59069 -34.400849  ...               NaN   2580.645161   NaN    5.0       NaN   \n",
       "62411 -34.396485  ...       2000.000000   2000.000000   NaN    4.0       NaN   \n",
       "62413 -34.396485  ...       1676.000000   2095.000000   NaN    5.0       NaN   \n",
       "63849 -34.394520  ...       2857.142857   2857.142857   NaN    5.0       NaN   \n",
       "\n",
       "                                           properati_url  \\\n",
       "6489   http://www.properati.com.ar/15ui7_venta_casa_t...   \n",
       "10201  http://www.properati.com.ar/166p5_venta_casa_t...   \n",
       "11451  http://www.properati.com.ar/16bpd_venta_casa_t...   \n",
       "14839  http://www.properati.com.ar/16tal_venta_casa_b...   \n",
       "18622  http://www.properati.com.ar/177ee_venta_casa_t...   \n",
       "21922  http://www.properati.com.ar/17gy5_venta_casa_s...   \n",
       "23664  http://www.properati.com.ar/17mb5_venta_casa_t...   \n",
       "24722  http://www.properati.com.ar/17oz1_venta_casa_t...   \n",
       "38856  http://www.properati.com.ar/18mcb_venta_casa_t...   \n",
       "45970  http://www.properati.com.ar/1958f_venta_depart...   \n",
       "46642  http://www.properati.com.ar/196mk_venta_casa_t...   \n",
       "53130  http://www.properati.com.ar/19kkw_venta_casa_t...   \n",
       "55306  http://www.properati.com.ar/19ouh_venta_casa_t...   \n",
       "57703  http://www.properati.com.ar/19ty5_venta_casa_s...   \n",
       "57759  http://www.properati.com.ar/19u2a_venta_casa_b...   \n",
       "57764  http://www.properati.com.ar/19u2n_venta_casa_s...   \n",
       "57793  http://www.properati.com.ar/19u4u_venta_casa_j...   \n",
       "58004  http://www.properati.com.ar/19uld_venta_casa_s...   \n",
       "58037  http://www.properati.com.ar/19unl_venta_casa_s...   \n",
       "59069  http://www.properati.com.ar/19wuj_venta_casa_b...   \n",
       "62411  http://www.properati.com.ar/1a71u_venta_casa_b...   \n",
       "62413  http://www.properati.com.ar/1a71w_venta_casa_s...   \n",
       "63849  http://www.properati.com.ar/1a9l0_venta_casa_s...   \n",
       "\n",
       "                                             description  \\\n",
       "6489   Espectacular casa moderna de una planta, con a...   \n",
       "10201  Corredor Responsable: SABRINA COCCONI - CSI 62...   \n",
       "11451  MUY LINDA CASA EN EXCELENTE UBICACION!! Superf...   \n",
       "14839  Muy linda casa de estilo clásico.-Planta baja;...   \n",
       "18622   Casa con increible vista al lago con playa de...   \n",
       "21922  Corredor Responsable: Matias Castelli - CUCICB...   \n",
       "23664  EXCELENTE CASA CLASICA con grandes ventanas y ...   \n",
       "24722  EN EXCLUSIVIDAD!!!!!!Lindísima casa, muy lumin...   \n",
       "38856  SANTA MARIA DE TIGRE- AL RIO - ESPECTACULAR CA...   \n",
       "45970  EDIFICIO ZERENA – EL PALMAR, NORDELTA. Torre 2...   \n",
       "46642  Corredor Responsable: Matias Castelli - CUCICB...   \n",
       "53130  Excelente casa en Venta en B° Santa Maria de T...   \n",
       "55306  Muy linda casa de dos plantas en lote interno ...   \n",
       "57703  Espectacular casas moderna con amplio jardín s...   \n",
       "57759  Incluye una amarra de U$S 30.000 con elevador ...   \n",
       "57764  IMPECABLE ! Sobre la laguna con excelente orie...   \n",
       "57793  Súper cálida y agradable. Ubicada en uno de lo...   \n",
       "58004  Casa clásica muy cómoda.PLANTA BAJA: Hall de e...   \n",
       "58037  Excelente casa ubicada en uno de la a pocos ba...   \n",
       "59069  Corredor Responsable: Matias Castelli - CUCICB...   \n",
       "62411  Hermosa casa en lote perimetral, Excelente cal...   \n",
       "62413  Muy linda casa a estrenar sobre lote perimetra...   \n",
       "63849  Casa estilo colonial de una planta sobre lote ...   \n",
       "\n",
       "                                                   title  \\\n",
       "6489               Venta de casa en Santa María de Tigre   \n",
       "10201  VENTA CASA SANTA MARÍA DE TIGRE COUNTRY BARRIO...   \n",
       "11451                     SANTA MARIA DE TIGRE IMPECABLE   \n",
       "14839              Venta de casa en Santa María de Tigre   \n",
       "18622  Casa con increible vista al lago con playa y m...   \n",
       "21922           Venta Casa - Barrio Santa Maria de Tigre   \n",
       "23664    CASA EN VENTA EN SANTA MARIA DE TIGRE CON RENTA   \n",
       "24722              Venta de casa en Santa María de Tigre   \n",
       "38856                       Casa (barrio cerrado), Venta   \n",
       "45970  Excelente monoambiente. Barrio El Palmar.  Con...   \n",
       "46642                               Venta de Casa al rio   \n",
       "53130                                      Casa en Venta   \n",
       "55306             Santa María de Tigre. Casa con amarra.   \n",
       "57703                           SANTA MARIA DE TIGRE 100   \n",
       "57759                           SANTA MARIA DE TIGRE 100   \n",
       "57764                           SANTA MARIA DE TIGRE 100   \n",
       "57793                           SANTA MARIA DE TIGRE 100   \n",
       "58004                           SANTA MARIA DE TIGRE 100   \n",
       "58037                           SANTA MARIA DE TIGRE 100   \n",
       "59069      CASA EN VENTA AL AGUA EN SANTA MARIA DE TIGRE   \n",
       "62411       VENTA CASA A ESTRENAR EN LAS TIPAS NORDELTA    \n",
       "62413             Muy linda casa a estrenar en Las Tipas   \n",
       "63849                    Oportunidad! Casa en La Alameda   \n",
       "\n",
       "                                         image_thumbnail  place_name_clean  \n",
       "6489   https://thumbs4.properati.com/7/vQjgbHSz1fKXxy...             Tigre  \n",
       "10201  https://thumbs4.properati.com/1/FABpKIJMaoAO3t...             Tigre  \n",
       "11451  https://thumbs4.properati.com/5/fwH9L71hW2rW7V...             Tigre  \n",
       "14839  https://thumbs4.properati.com/1/3ZbPSffTY38y7v...             Tigre  \n",
       "18622  https://thumbs4.properati.com/0/52JCH1PKYCOMe6...             Tigre  \n",
       "21922  https://thumbs4.properati.com/8/oO7kmFPYNm8DYr...             Tigre  \n",
       "23664  https://thumbs4.properati.com/2/LQCwH6txpFqetn...             Tigre  \n",
       "24722  https://thumbs4.properati.com/0/Nhx4NejZaQACap...             Tigre  \n",
       "38856  https://thumbs4.properati.com/2/Izq8d5o8ti3kJy...             Tigre  \n",
       "45970  https://thumbs4.properati.com/2/5yvU5E9wOAAzBa...             Tigre  \n",
       "46642  https://thumbs4.properati.com/9/ACeODr7N9CYr9T...             Tigre  \n",
       "53130  https://thumbs4.properati.com/0/3G0TgAjQbNN385...             Tigre  \n",
       "55306  https://thumbs4.properati.com/7/6CoXZSzRyyYJBA...             Tigre  \n",
       "57703  https://thumbs4.properati.com/3/3ax5piHfCls0gT...             Tigre  \n",
       "57759  https://thumbs4.properati.com/8/H6gVgcPkk1wcQu...             Tigre  \n",
       "57764  https://thumbs4.properati.com/1/7lkC4GRTKV-2DS...             Tigre  \n",
       "57793  https://thumbs4.properati.com/7/GbromikV5vgSHJ...             Tigre  \n",
       "58004  https://thumbs4.properati.com/7/1XfLGuboQb9HPW...             Tigre  \n",
       "58037  https://thumbs4.properati.com/1/gnnv0Ek1OhlEIc...             Tigre  \n",
       "59069  https://thumbs4.properati.com/0/yQCPCJupzxW52v...             Tigre  \n",
       "62411  https://thumbs4.properati.com/8/6zjSdUPIdlsKSz...             Tigre  \n",
       "62413  https://thumbs4.properati.com/4/lp2Smi4s4ttX4a...             Tigre  \n",
       "63849  https://thumbs4.properati.com/3/0IZAiDfAhxDRhX...             Tigre  \n",
       "\n",
       "[23 rows x 27 columns]"
      ]
     },
     "execution_count": 18,
     "metadata": {},
     "output_type": "execute_result"
    }
   ],
   "source": [
    "#buscamos todos los NaN\n",
    "nan_mask_clean = data['place_name'].isnull()\n",
    "data[nan_mask_clean]"
   ]
  },
  {
   "cell_type": "code",
   "execution_count": 70,
   "metadata": {},
   "outputs": [
    {
     "data": {
      "text/plain": [
       "True"
      ]
     },
     "execution_count": 70,
     "metadata": {},
     "output_type": "execute_result"
    }
   ],
   "source": [
    "#detectamos que todos los nulos son de Tigre\n",
    "\n",
    "#reemplazamos NaN por Tigre \n",
    "nan_tigre_mask = nan_mask_clean \n",
    "data.loc[nan_tigre_mask, \"place_name_clean\"] = \"Tigre\"\n",
    "data.head(5)\n",
    "\n",
    "#detectamos que en La plata sucede algo similar que en mar del plata\n",
    "\n",
    "\n",
    "lp_abasto_mask = data[\"place_with_parent_names\"] ==\"|Argentina|Bs.As. G.B.A. Zona Sur|La Plata|Abasto|\"\n",
    "data.loc[lp_abasto_mask, \"place_name_clean\"] = \"La Plata Abasto\"\n",
    "\n",
    "lp_arturosegui_mask = data[\"place_with_parent_names\"] ==\"|Argentina|Bs.As. G.B.A. Zona Sur|La Plata|Arturo Seguí|\"\n",
    "data.loc[lp_arturosegui_mask, \"place_name_clean\"] = \"La Plata Arturo Seguí\"\n",
    "#\n",
    "lp_citybell_mask = data[\"place_with_parent_names\"] ==\"|Argentina|Bs.As. G.B.A. Zona Sur|La Plata|City Bell|\"\n",
    "data.loc[lp_citybell_mask, \"place_name_clean\"] = \"La Plata Arturo City Bell\"\n",
    "\n",
    "lp_etcheve_mask = data[\"place_with_parent_names\"] ==\"|Argentina|Bs.As. G.B.A. Zona Sur|La Plata|Etcheverry|\"\n",
    "data.loc[lp_etcheve_mask, \"place_name_clean\"] = \"La Plata Etcheverry\"\n",
    "\n",
    "lp_gorina_mask = data[\"place_with_parent_names\"] ==\"|Argentina|Bs.As. G.B.A. Zona Sur|La Plata|Gorina|\"\n",
    "data.loc[lp_gorina_mask, \"place_name_clean\"] = \"La Plata Gorina\"\n",
    "\n",
    "lp_grandbell_mask = data[\"place_with_parent_names\"] ==\"|Argentina|Bs.As. G.B.A. Zona Sur|La Plata|Grand Bell|\"\n",
    "data.loc[lp_grandbell_mask, \"place_name_clean\"] = \"La Plata Grand Bell\"\n",
    "\n",
    "lp_haras1_mask = data[\"place_with_parent_names\"] ==\"|Argentina|Bs.As. G.B.A. Zona Sur|La Plata|Haras del Sur I|\"\n",
    "data.loc[lp_haras1_mask, \"place_name_clean\"] = \"La Plata Haras del Sur I\"\n",
    "\n",
    "#\n",
    "lp_jhernandez_mask = data[\"place_with_parent_names\"] ==\"|Argentina|Bs.As. G.B.A. Zona Sur|La Plata|José Hernández|\"\n",
    "data.loc[lp_jhernandez_mask, \"place_name_clean\"] = \"La Plata José Hernández\"\n",
    "\n",
    "lp_lolmos_mask = data[\"place_with_parent_names\"] ==\"|Argentina|Bs.As. G.B.A. Zona Sur|La Plata|Lisandro Olmos|\"\n",
    "data.loc[lp_lolmos_mask, \"place_name_clean\"] = \"La Plata Lisandro Olmos\"\n",
    "\n",
    "lp_hornos_mask = data[\"place_with_parent_names\"] ==\"|Argentina|Bs.As. G.B.A. Zona Sur|La Plata|Los Hornos|\"\n",
    "data.loc[lp_hornos_mask, \"place_name_clean\"] = \"La Plata Los Hornos\"\n",
    "\n",
    "lp_gonnet_mask = data[\"place_with_parent_names\"] ==\"|Argentina|Bs.As. G.B.A. Zona Sur|La Plata|Manuel B Gonnet|\"\n",
    "data.loc[lp_gonnet_mask, \"place_name_clean\"] = \"La Plata Manuel B Gonnet\"\n",
    "\n",
    "lp_mromero_mask = data[\"place_with_parent_names\"] ==\"|Argentina|Bs.As. G.B.A. Zona Sur|La Plata|Melchor Romero|\"\n",
    "data.loc[lp_mromero_mask, \"place_name_clean\"] = \"La Plata Melchor Romero\"\n",
    "\n",
    "lp_ringuelet_mask = data[\"place_with_parent_names\"] ==\"|Argentina|Bs.As. G.B.A. Zona Sur|La Plata|Ringuelet|\"\n",
    "data.loc[lp_ringuelet_mask, \"place_name_clean\"] = \"La Plata Ringuelet\"\n",
    "\n",
    "lp_scarlos_mask = data[\"place_with_parent_names\"] ==\"|Argentina|Bs.As. G.B.A. Zona Sur|La Plata|San Carlos|\"\n",
    "data.loc[lp_scarlos_mask, \"place_name_clean\"] = \"La Plata San Carlos\"\n",
    "#\n",
    "lp_slorenzo_mask = data[\"place_with_parent_names\"] ==\"|Argentina|Bs.As. G.B.A. Zona Sur|La Plata|San Lorenzo|\"\n",
    "data.loc[lp_slorenzo_mask, \"place_name_clean\"] = \"La Plata San Lorenzo\"\n",
    "\n",
    "lp_tolosa_mask = data[\"place_with_parent_names\"] ==\"|Argentina|Bs.As. G.B.A. Zona Sur|La Plata|Tolosa|\"\n",
    "data.loc[lp_tolosa_mask, \"place_name_clean\"] = \"La Plata Tolosa\"\n",
    "\n",
    "lp_velisa_mask = data[\"place_with_parent_names\"] ==\"|Argentina|Bs.As. G.B.A. Zona Sur|La Plata|Villa Elisa|\"\n",
    "data.loc[lp_velisa_mask, \"place_name_clean\"] = \"La Plata Villa Elisa\"\n",
    "\n",
    "lp_velvira_mask = data[\"place_with_parent_names\"] ==\"|Argentina|Bs.As. G.B.A. Zona Sur|La Plata|Villa Elvira|\"\n",
    "data.loc[lp_velvira_mask, \"place_name_clean\"] = \"La Plata Villa Elvira\"\n",
    "\n",
    "#corroboramos que la mascara que contiene en place_with_parent_names y nuestra mascara_clean contienen los mismos elementos \n",
    "lp_mask = data['place_with_parent_names'].str.contains('La Plata')\n",
    "lp_mask_clean = data['place_name_clean'].str.contains('La Plata')\n",
    "any(lp_mask == lp_mask_clean)"
   ]
  },
  {
   "cell_type": "code",
   "execution_count": 44,
   "metadata": {},
   "outputs": [
    {
     "data": {
      "text/html": [
       "<div>\n",
       "<style scoped>\n",
       "    .dataframe tbody tr th:only-of-type {\n",
       "        vertical-align: middle;\n",
       "    }\n",
       "\n",
       "    .dataframe tbody tr th {\n",
       "        vertical-align: top;\n",
       "    }\n",
       "\n",
       "    .dataframe thead th {\n",
       "        text-align: right;\n",
       "    }\n",
       "</style>\n",
       "<table border=\"1\" class=\"dataframe\">\n",
       "  <thead>\n",
       "    <tr style=\"text-align: right;\">\n",
       "      <th></th>\n",
       "      <th>Unnamed: 0</th>\n",
       "      <th>operation</th>\n",
       "      <th>property_type</th>\n",
       "      <th>place_name</th>\n",
       "      <th>place_with_parent_names</th>\n",
       "      <th>country_name</th>\n",
       "      <th>state_name</th>\n",
       "      <th>geonames_id</th>\n",
       "      <th>lat-lon</th>\n",
       "      <th>lat</th>\n",
       "      <th>...</th>\n",
       "      <th>price_usd_per_m2</th>\n",
       "      <th>price_per_m2</th>\n",
       "      <th>floor</th>\n",
       "      <th>rooms</th>\n",
       "      <th>expenses</th>\n",
       "      <th>properati_url</th>\n",
       "      <th>description</th>\n",
       "      <th>title</th>\n",
       "      <th>image_thumbnail</th>\n",
       "      <th>place_name_clean</th>\n",
       "    </tr>\n",
       "  </thead>\n",
       "  <tbody>\n",
       "    <tr>\n",
       "      <th>1085</th>\n",
       "      <td>1085</td>\n",
       "      <td>sell</td>\n",
       "      <td>house</td>\n",
       "      <td>Villa Elvira</td>\n",
       "      <td>|Argentina|Bs.As. G.B.A. Zona Sur|La Plata|Vil...</td>\n",
       "      <td>Argentina</td>\n",
       "      <td>Bs.As. G.B.A. Zona Sur</td>\n",
       "      <td>3832749.0</td>\n",
       "      <td>-34.9590503,-57.8945986</td>\n",
       "      <td>-34.959050</td>\n",
       "      <td>...</td>\n",
       "      <td>NaN</td>\n",
       "      <td>NaN</td>\n",
       "      <td>NaN</td>\n",
       "      <td>NaN</td>\n",
       "      <td>NaN</td>\n",
       "      <td>http://www.properati.com.ar/15h7k_venta_casa_m...</td>\n",
       "      <td>Casa desarollada sobre lote de 17x30, metros c...</td>\n",
       "      <td>Calle 9  2366 (e/ 80y 81)  00</td>\n",
       "      <td>https://thumbs4.properati.com/5/h9rnlnP7OlqKUu...</td>\n",
       "      <td>La Plata Villa Elvira</td>\n",
       "    </tr>\n",
       "    <tr>\n",
       "      <th>26877</th>\n",
       "      <td>26877</td>\n",
       "      <td>sell</td>\n",
       "      <td>apartment</td>\n",
       "      <td>Villa Elvira</td>\n",
       "      <td>|Argentina|Bs.As. G.B.A. Zona Sur|La Plata|Vil...</td>\n",
       "      <td>Argentina</td>\n",
       "      <td>Bs.As. G.B.A. Zona Sur</td>\n",
       "      <td>3832749.0</td>\n",
       "      <td>-34.9507670816,-57.8804613654</td>\n",
       "      <td>-34.950767</td>\n",
       "      <td>...</td>\n",
       "      <td>5542.168675</td>\n",
       "      <td>5542.168675</td>\n",
       "      <td>NaN</td>\n",
       "      <td>5.0</td>\n",
       "      <td>NaN</td>\n",
       "      <td>http://www.properati.com.ar/17rnb_venta_depart...</td>\n",
       "      <td>Dueo VENDE departamento en la plata, 4 e/ 612 ...</td>\n",
       "      <td>Departamento 3 Dor LA PLATA Brio Aeropuerto</td>\n",
       "      <td>https://thumbs4.properati.com/0/MvCdAJSxZ8gOTX...</td>\n",
       "      <td>La Plata Villa Elvira</td>\n",
       "    </tr>\n",
       "    <tr>\n",
       "      <th>26914</th>\n",
       "      <td>26914</td>\n",
       "      <td>sell</td>\n",
       "      <td>house</td>\n",
       "      <td>Villa Elvira</td>\n",
       "      <td>|Argentina|Bs.As. G.B.A. Zona Sur|La Plata|Vil...</td>\n",
       "      <td>Argentina</td>\n",
       "      <td>Bs.As. G.B.A. Zona Sur</td>\n",
       "      <td>3832749.0</td>\n",
       "      <td>-34.9623171274,-57.8869057638</td>\n",
       "      <td>-34.962317</td>\n",
       "      <td>...</td>\n",
       "      <td>933.333333</td>\n",
       "      <td>2028.985507</td>\n",
       "      <td>NaN</td>\n",
       "      <td>3.0</td>\n",
       "      <td>NaN</td>\n",
       "      <td>http://www.properati.com.ar/17rpl_venta_casa_l...</td>\n",
       "      <td>PLATA, 7 e/ 617 Y 618 BRIO AEROPUERTO.Los tres...</td>\n",
       "      <td>3 Dptos En Block C/exc Renta Ideal Inversor</td>\n",
       "      <td>https://thumbs4.properati.com/3/Ball1kpkPSMmjz...</td>\n",
       "      <td>La Plata Villa Elvira</td>\n",
       "    </tr>\n",
       "  </tbody>\n",
       "</table>\n",
       "<p>3 rows × 27 columns</p>\n",
       "</div>"
      ],
      "text/plain": [
       "       Unnamed: 0 operation property_type    place_name  \\\n",
       "1085         1085      sell         house  Villa Elvira   \n",
       "26877       26877      sell     apartment  Villa Elvira   \n",
       "26914       26914      sell         house  Villa Elvira   \n",
       "\n",
       "                                 place_with_parent_names country_name  \\\n",
       "1085   |Argentina|Bs.As. G.B.A. Zona Sur|La Plata|Vil...    Argentina   \n",
       "26877  |Argentina|Bs.As. G.B.A. Zona Sur|La Plata|Vil...    Argentina   \n",
       "26914  |Argentina|Bs.As. G.B.A. Zona Sur|La Plata|Vil...    Argentina   \n",
       "\n",
       "                   state_name  geonames_id                        lat-lon  \\\n",
       "1085   Bs.As. G.B.A. Zona Sur    3832749.0        -34.9590503,-57.8945986   \n",
       "26877  Bs.As. G.B.A. Zona Sur    3832749.0  -34.9507670816,-57.8804613654   \n",
       "26914  Bs.As. G.B.A. Zona Sur    3832749.0  -34.9623171274,-57.8869057638   \n",
       "\n",
       "             lat  ...  price_usd_per_m2  price_per_m2 floor  rooms  expenses  \\\n",
       "1085  -34.959050  ...               NaN           NaN   NaN    NaN       NaN   \n",
       "26877 -34.950767  ...       5542.168675   5542.168675   NaN    5.0       NaN   \n",
       "26914 -34.962317  ...        933.333333   2028.985507   NaN    3.0       NaN   \n",
       "\n",
       "                                           properati_url  \\\n",
       "1085   http://www.properati.com.ar/15h7k_venta_casa_m...   \n",
       "26877  http://www.properati.com.ar/17rnb_venta_depart...   \n",
       "26914  http://www.properati.com.ar/17rpl_venta_casa_l...   \n",
       "\n",
       "                                             description  \\\n",
       "1085   Casa desarollada sobre lote de 17x30, metros c...   \n",
       "26877  Dueo VENDE departamento en la plata, 4 e/ 612 ...   \n",
       "26914  PLATA, 7 e/ 617 Y 618 BRIO AEROPUERTO.Los tres...   \n",
       "\n",
       "                                             title  \\\n",
       "1085                 Calle 9  2366 (e/ 80y 81)  00   \n",
       "26877  Departamento 3 Dor LA PLATA Brio Aeropuerto   \n",
       "26914  3 Dptos En Block C/exc Renta Ideal Inversor   \n",
       "\n",
       "                                         image_thumbnail  \\\n",
       "1085   https://thumbs4.properati.com/5/h9rnlnP7OlqKUu...   \n",
       "26877  https://thumbs4.properati.com/0/MvCdAJSxZ8gOTX...   \n",
       "26914  https://thumbs4.properati.com/3/Ball1kpkPSMmjz...   \n",
       "\n",
       "            place_name_clean  \n",
       "1085   La Plata Villa Elvira  \n",
       "26877  La Plata Villa Elvira  \n",
       "26914  La Plata Villa Elvira  \n",
       "\n",
       "[3 rows x 27 columns]"
      ]
     },
     "execution_count": 44,
     "metadata": {},
     "output_type": "execute_result"
    }
   ],
   "source": [
    "mask_dataclean = data['place_name_clean'].astype('str')\n",
    "prueba_lp = data['place_name'] == \"Villa Elvira\"\n",
    "data[prueba_lp].head(3)"
   ]
  },
  {
   "cell_type": "code",
   "execution_count": 135,
   "metadata": {},
   "outputs": [
    {
     "name": "stdout",
     "output_type": "stream",
     "text": [
      "metros2 nulos original (39328, 30) metroscuadrados nulos clean (12369, 30)\n"
     ]
    }
   ],
   "source": [
    "data['surface_total_in_m2_clean'] = data['surface_total_in_m2']\n",
    "data_suptotal_nulos_mask = data['surface_total_in_m2'].isnull()\n",
    "data.loc[data_suptotal_nulos_mask, \"surface_total_in_m2_clean\"] = data['surface_covered_in_m2']\n",
    "data_suptotal_clean_nulos_mask = data['surface_total_in_m2_clean'].isnull()\n",
    "print(\"metros2 nulos original\",data[data_suptotal_nulos_mask].shape, \"metroscuadrados nulos clean\", data[data_suptotal_clean_nulos_mask].shape)\n"
   ]
  },
  {
   "cell_type": "code",
   "execution_count": 136,
   "metadata": {},
   "outputs": [
    {
     "data": {
      "text/html": [
       "<div>\n",
       "<style scoped>\n",
       "    .dataframe tbody tr th:only-of-type {\n",
       "        vertical-align: middle;\n",
       "    }\n",
       "\n",
       "    .dataframe tbody tr th {\n",
       "        vertical-align: top;\n",
       "    }\n",
       "\n",
       "    .dataframe thead th {\n",
       "        text-align: right;\n",
       "    }\n",
       "</style>\n",
       "<table border=\"1\" class=\"dataframe\">\n",
       "  <thead>\n",
       "    <tr style=\"text-align: right;\">\n",
       "      <th></th>\n",
       "      <th>Unnamed: 0</th>\n",
       "      <th>operation</th>\n",
       "      <th>property_type</th>\n",
       "      <th>place_name</th>\n",
       "      <th>place_with_parent_names</th>\n",
       "      <th>country_name</th>\n",
       "      <th>state_name</th>\n",
       "      <th>geonames_id</th>\n",
       "      <th>lat-lon</th>\n",
       "      <th>lat</th>\n",
       "      <th>...</th>\n",
       "      <th>rooms</th>\n",
       "      <th>expenses</th>\n",
       "      <th>properati_url</th>\n",
       "      <th>description</th>\n",
       "      <th>title</th>\n",
       "      <th>image_thumbnail</th>\n",
       "      <th>place_name_clean</th>\n",
       "      <th>surface_total_in_m2_clean</th>\n",
       "      <th>price_usd_en_m2</th>\n",
       "      <th>price_usd_en_m2_clean</th>\n",
       "    </tr>\n",
       "  </thead>\n",
       "  <tbody>\n",
       "    <tr>\n",
       "      <th>0</th>\n",
       "      <td>0</td>\n",
       "      <td>sell</td>\n",
       "      <td>PH</td>\n",
       "      <td>Mataderos</td>\n",
       "      <td>|Argentina|Capital Federal|Mataderos|</td>\n",
       "      <td>Argentina</td>\n",
       "      <td>Capital Federal</td>\n",
       "      <td>3430787.0</td>\n",
       "      <td>-34.6618237,-58.5088387</td>\n",
       "      <td>-34.661824</td>\n",
       "      <td>...</td>\n",
       "      <td>NaN</td>\n",
       "      <td>NaN</td>\n",
       "      <td>http://www.properati.com.ar/15bo8_venta_ph_mat...</td>\n",
       "      <td>2 AMBIENTES TIPO CASA PLANTA BAJA POR PASILLO,...</td>\n",
       "      <td>2 AMB TIPO CASA SIN EXPENSAS EN PB</td>\n",
       "      <td>https://thumbs4.properati.com/8/BluUYiHJLhgIIK...</td>\n",
       "      <td>Mataderos</td>\n",
       "      <td>55.0</td>\n",
       "      <td>1127.272727</td>\n",
       "      <td>1127.272727</td>\n",
       "    </tr>\n",
       "    <tr>\n",
       "      <th>1</th>\n",
       "      <td>1</td>\n",
       "      <td>sell</td>\n",
       "      <td>apartment</td>\n",
       "      <td>La Plata</td>\n",
       "      <td>|Argentina|Bs.As. G.B.A. Zona Sur|La Plata|</td>\n",
       "      <td>Argentina</td>\n",
       "      <td>Bs.As. G.B.A. Zona Sur</td>\n",
       "      <td>3432039.0</td>\n",
       "      <td>-34.9038831,-57.9643295</td>\n",
       "      <td>-34.903883</td>\n",
       "      <td>...</td>\n",
       "      <td>NaN</td>\n",
       "      <td>NaN</td>\n",
       "      <td>http://www.properati.com.ar/15bob_venta_depart...</td>\n",
       "      <td>Venta de departamento en décimo piso al frente...</td>\n",
       "      <td>VENTA Depto 2 dorm. a estrenar 7 e/ 36 y 37   ...</td>\n",
       "      <td>https://thumbs4.properati.com/7/ikpVBu2ztHA7jv...</td>\n",
       "      <td>La Plata</td>\n",
       "      <td>NaN</td>\n",
       "      <td>NaN</td>\n",
       "      <td>NaN</td>\n",
       "    </tr>\n",
       "    <tr>\n",
       "      <th>2</th>\n",
       "      <td>2</td>\n",
       "      <td>sell</td>\n",
       "      <td>apartment</td>\n",
       "      <td>Mataderos</td>\n",
       "      <td>|Argentina|Capital Federal|Mataderos|</td>\n",
       "      <td>Argentina</td>\n",
       "      <td>Capital Federal</td>\n",
       "      <td>3430787.0</td>\n",
       "      <td>-34.6522615,-58.5229825</td>\n",
       "      <td>-34.652262</td>\n",
       "      <td>...</td>\n",
       "      <td>NaN</td>\n",
       "      <td>NaN</td>\n",
       "      <td>http://www.properati.com.ar/15bod_venta_depart...</td>\n",
       "      <td>2 AMBIENTES 3ER PISO LATERAL LIVING COMEDOR AM...</td>\n",
       "      <td>2 AMB 3ER PISO CON ASCENSOR APTO CREDITO</td>\n",
       "      <td>https://thumbs4.properati.com/5/SXKr34F_IwG3W_...</td>\n",
       "      <td>Mataderos</td>\n",
       "      <td>55.0</td>\n",
       "      <td>1309.090909</td>\n",
       "      <td>1309.090909</td>\n",
       "    </tr>\n",
       "  </tbody>\n",
       "</table>\n",
       "<p>3 rows × 30 columns</p>\n",
       "</div>"
      ],
      "text/plain": [
       "   Unnamed: 0 operation property_type place_name  \\\n",
       "0           0      sell            PH  Mataderos   \n",
       "1           1      sell     apartment   La Plata   \n",
       "2           2      sell     apartment  Mataderos   \n",
       "\n",
       "                       place_with_parent_names country_name  \\\n",
       "0        |Argentina|Capital Federal|Mataderos|    Argentina   \n",
       "1  |Argentina|Bs.As. G.B.A. Zona Sur|La Plata|    Argentina   \n",
       "2        |Argentina|Capital Federal|Mataderos|    Argentina   \n",
       "\n",
       "               state_name  geonames_id                  lat-lon        lat  \\\n",
       "0         Capital Federal    3430787.0  -34.6618237,-58.5088387 -34.661824   \n",
       "1  Bs.As. G.B.A. Zona Sur    3432039.0  -34.9038831,-57.9643295 -34.903883   \n",
       "2         Capital Federal    3430787.0  -34.6522615,-58.5229825 -34.652262   \n",
       "\n",
       "   ...  rooms  expenses                                      properati_url  \\\n",
       "0  ...    NaN       NaN  http://www.properati.com.ar/15bo8_venta_ph_mat...   \n",
       "1  ...    NaN       NaN  http://www.properati.com.ar/15bob_venta_depart...   \n",
       "2  ...    NaN       NaN  http://www.properati.com.ar/15bod_venta_depart...   \n",
       "\n",
       "                                         description  \\\n",
       "0  2 AMBIENTES TIPO CASA PLANTA BAJA POR PASILLO,...   \n",
       "1  Venta de departamento en décimo piso al frente...   \n",
       "2  2 AMBIENTES 3ER PISO LATERAL LIVING COMEDOR AM...   \n",
       "\n",
       "                                               title  \\\n",
       "0                 2 AMB TIPO CASA SIN EXPENSAS EN PB   \n",
       "1  VENTA Depto 2 dorm. a estrenar 7 e/ 36 y 37   ...   \n",
       "2           2 AMB 3ER PISO CON ASCENSOR APTO CREDITO   \n",
       "\n",
       "                                     image_thumbnail  place_name_clean  \\\n",
       "0  https://thumbs4.properati.com/8/BluUYiHJLhgIIK...         Mataderos   \n",
       "1  https://thumbs4.properati.com/7/ikpVBu2ztHA7jv...          La Plata   \n",
       "2  https://thumbs4.properati.com/5/SXKr34F_IwG3W_...         Mataderos   \n",
       "\n",
       "   surface_total_in_m2_clean  price_usd_en_m2  price_usd_en_m2_clean  \n",
       "0                       55.0      1127.272727            1127.272727  \n",
       "1                        NaN              NaN                    NaN  \n",
       "2                       55.0      1309.090909            1309.090909  \n",
       "\n",
       "[3 rows x 30 columns]"
      ]
     },
     "execution_count": 136,
     "metadata": {},
     "output_type": "execute_result"
    }
   ],
   "source": [
    "#Creamos una columna que agrupa precios en dolares sin nulos y superficie total sin nulos y divide el primero por el segundo, sacando el valor \n",
    "#de un metro cuadrado de dicho inmueble.\n",
    "data['price_usd_en_m2'] = data['price_aprox_usd']/ data['surface_total_in_m2_clean']\n",
    "#en esta nueva columna, sabemos que los NaN y ceros, seran los numeros que no cuenten o con el valor en dolares o con superficie asignada\n",
    "data.head(3)\n"
   ]
  },
  {
   "cell_type": "code",
   "execution_count": 146,
   "metadata": {},
   "outputs": [
    {
     "name": "stdout",
     "output_type": "stream",
     "text": [
      "(108468, 30) (121220, 30)\n"
     ]
    },
    {
     "name": "stderr",
     "output_type": "stream",
     "text": [
      "C:\\Users\\pato-\\anaconda3\\envs\\dhdsblend\\lib\\site-packages\\ipykernel_launcher.py:3: SettingWithCopyWarning:\n",
      "\n",
      "\n",
      "A value is trying to be set on a copy of a slice from a DataFrame.\n",
      "Try using .loc[row_indexer,col_indexer] = value instead\n",
      "\n",
      "See the caveats in the documentation: https://pandas.pydata.org/pandas-docs/stable/user_guide/indexing.html#returning-a-view-versus-a-copy\n",
      "\n"
     ]
    }
   ],
   "source": [
    "data_2 = data[data['surface_total_in_m2_clean'] > 0]\n",
    "\n",
    "data_2['price_usd_en_m2'] = data_2['price_aprox_usd']/ data_2['surface_total_in_m2_clean']\n",
    "\n",
    "print(data_2.shape,data.shape )\n"
   ]
  },
  {
   "cell_type": "code",
   "execution_count": 138,
   "metadata": {},
   "outputs": [],
   "source": [
    "#data_price_usd_m2_clean = data_2.dropna(subset=['price_usd_en_m2'])\n",
    "#data_price_usd_m2_clean.head(3)\n"
   ]
  },
  {
   "cell_type": "code",
   "execution_count": 147,
   "metadata": {},
   "outputs": [
    {
     "data": {
      "text/html": [
       "<div>\n",
       "<style scoped>\n",
       "    .dataframe tbody tr th:only-of-type {\n",
       "        vertical-align: middle;\n",
       "    }\n",
       "\n",
       "    .dataframe tbody tr th {\n",
       "        vertical-align: top;\n",
       "    }\n",
       "\n",
       "    .dataframe thead th {\n",
       "        text-align: right;\n",
       "    }\n",
       "</style>\n",
       "<table border=\"1\" class=\"dataframe\">\n",
       "  <thead>\n",
       "    <tr style=\"text-align: right;\">\n",
       "      <th></th>\n",
       "      <th>Unnamed: 0</th>\n",
       "      <th>operation</th>\n",
       "      <th>property_type</th>\n",
       "      <th>place_name</th>\n",
       "      <th>place_with_parent_names</th>\n",
       "      <th>country_name</th>\n",
       "      <th>state_name</th>\n",
       "      <th>geonames_id</th>\n",
       "      <th>lat-lon</th>\n",
       "      <th>lat</th>\n",
       "      <th>...</th>\n",
       "      <th>floor</th>\n",
       "      <th>rooms</th>\n",
       "      <th>expenses</th>\n",
       "      <th>properati_url</th>\n",
       "      <th>description</th>\n",
       "      <th>title</th>\n",
       "      <th>image_thumbnail</th>\n",
       "      <th>surface_total_in_m2_clean</th>\n",
       "      <th>price_usd_en_m2</th>\n",
       "      <th>price_usd_en_m2_clean</th>\n",
       "    </tr>\n",
       "    <tr>\n",
       "      <th>place_name_clean</th>\n",
       "      <th></th>\n",
       "      <th></th>\n",
       "      <th></th>\n",
       "      <th></th>\n",
       "      <th></th>\n",
       "      <th></th>\n",
       "      <th></th>\n",
       "      <th></th>\n",
       "      <th></th>\n",
       "      <th></th>\n",
       "      <th></th>\n",
       "      <th></th>\n",
       "      <th></th>\n",
       "      <th></th>\n",
       "      <th></th>\n",
       "      <th></th>\n",
       "      <th></th>\n",
       "      <th></th>\n",
       "      <th></th>\n",
       "      <th></th>\n",
       "      <th></th>\n",
       "    </tr>\n",
       "  </thead>\n",
       "  <tbody>\n",
       "    <tr>\n",
       "      <th>Belgrano</th>\n",
       "      <td>2966</td>\n",
       "      <td>2966</td>\n",
       "      <td>2966</td>\n",
       "      <td>2966</td>\n",
       "      <td>2966</td>\n",
       "      <td>2966</td>\n",
       "      <td>2966</td>\n",
       "      <td>2966</td>\n",
       "      <td>1952</td>\n",
       "      <td>1952</td>\n",
       "      <td>...</td>\n",
       "      <td>190</td>\n",
       "      <td>1138</td>\n",
       "      <td>748</td>\n",
       "      <td>2966</td>\n",
       "      <td>2966</td>\n",
       "      <td>2966</td>\n",
       "      <td>2938</td>\n",
       "      <td>2966</td>\n",
       "      <td>2517</td>\n",
       "      <td>2517</td>\n",
       "    </tr>\n",
       "    <tr>\n",
       "      <th>Palermo</th>\n",
       "      <td>2831</td>\n",
       "      <td>2831</td>\n",
       "      <td>2831</td>\n",
       "      <td>2831</td>\n",
       "      <td>2831</td>\n",
       "      <td>2831</td>\n",
       "      <td>2831</td>\n",
       "      <td>2831</td>\n",
       "      <td>2045</td>\n",
       "      <td>2045</td>\n",
       "      <td>...</td>\n",
       "      <td>312</td>\n",
       "      <td>1216</td>\n",
       "      <td>809</td>\n",
       "      <td>2831</td>\n",
       "      <td>2831</td>\n",
       "      <td>2831</td>\n",
       "      <td>2810</td>\n",
       "      <td>2831</td>\n",
       "      <td>2478</td>\n",
       "      <td>2478</td>\n",
       "    </tr>\n",
       "    <tr>\n",
       "      <th>Caballito</th>\n",
       "      <td>2239</td>\n",
       "      <td>2239</td>\n",
       "      <td>2239</td>\n",
       "      <td>2239</td>\n",
       "      <td>2239</td>\n",
       "      <td>2239</td>\n",
       "      <td>2239</td>\n",
       "      <td>2239</td>\n",
       "      <td>1799</td>\n",
       "      <td>1799</td>\n",
       "      <td>...</td>\n",
       "      <td>331</td>\n",
       "      <td>1121</td>\n",
       "      <td>505</td>\n",
       "      <td>2239</td>\n",
       "      <td>2239</td>\n",
       "      <td>2239</td>\n",
       "      <td>2210</td>\n",
       "      <td>2239</td>\n",
       "      <td>2032</td>\n",
       "      <td>2032</td>\n",
       "    </tr>\n",
       "    <tr>\n",
       "      <th>Recoleta</th>\n",
       "      <td>1520</td>\n",
       "      <td>1520</td>\n",
       "      <td>1520</td>\n",
       "      <td>1520</td>\n",
       "      <td>1520</td>\n",
       "      <td>1520</td>\n",
       "      <td>1520</td>\n",
       "      <td>1520</td>\n",
       "      <td>1254</td>\n",
       "      <td>1254</td>\n",
       "      <td>...</td>\n",
       "      <td>142</td>\n",
       "      <td>873</td>\n",
       "      <td>366</td>\n",
       "      <td>1520</td>\n",
       "      <td>1520</td>\n",
       "      <td>1520</td>\n",
       "      <td>1493</td>\n",
       "      <td>1520</td>\n",
       "      <td>1403</td>\n",
       "      <td>1403</td>\n",
       "    </tr>\n",
       "    <tr>\n",
       "      <th>Villa Urquiza</th>\n",
       "      <td>1617</td>\n",
       "      <td>1617</td>\n",
       "      <td>1617</td>\n",
       "      <td>1617</td>\n",
       "      <td>1617</td>\n",
       "      <td>1617</td>\n",
       "      <td>1617</td>\n",
       "      <td>1617</td>\n",
       "      <td>1077</td>\n",
       "      <td>1077</td>\n",
       "      <td>...</td>\n",
       "      <td>116</td>\n",
       "      <td>552</td>\n",
       "      <td>184</td>\n",
       "      <td>1617</td>\n",
       "      <td>1617</td>\n",
       "      <td>1617</td>\n",
       "      <td>1581</td>\n",
       "      <td>1617</td>\n",
       "      <td>1350</td>\n",
       "      <td>1350</td>\n",
       "    </tr>\n",
       "    <tr>\n",
       "      <th>...</th>\n",
       "      <td>...</td>\n",
       "      <td>...</td>\n",
       "      <td>...</td>\n",
       "      <td>...</td>\n",
       "      <td>...</td>\n",
       "      <td>...</td>\n",
       "      <td>...</td>\n",
       "      <td>...</td>\n",
       "      <td>...</td>\n",
       "      <td>...</td>\n",
       "      <td>...</td>\n",
       "      <td>...</td>\n",
       "      <td>...</td>\n",
       "      <td>...</td>\n",
       "      <td>...</td>\n",
       "      <td>...</td>\n",
       "      <td>...</td>\n",
       "      <td>...</td>\n",
       "      <td>...</td>\n",
       "      <td>...</td>\n",
       "      <td>...</td>\n",
       "    </tr>\n",
       "    <tr>\n",
       "      <th>Agronomía</th>\n",
       "      <td>40</td>\n",
       "      <td>40</td>\n",
       "      <td>40</td>\n",
       "      <td>40</td>\n",
       "      <td>40</td>\n",
       "      <td>40</td>\n",
       "      <td>40</td>\n",
       "      <td>40</td>\n",
       "      <td>40</td>\n",
       "      <td>40</td>\n",
       "      <td>...</td>\n",
       "      <td>2</td>\n",
       "      <td>32</td>\n",
       "      <td>8</td>\n",
       "      <td>40</td>\n",
       "      <td>40</td>\n",
       "      <td>40</td>\n",
       "      <td>40</td>\n",
       "      <td>40</td>\n",
       "      <td>37</td>\n",
       "      <td>37</td>\n",
       "    </tr>\n",
       "    <tr>\n",
       "      <th>Velez Sarsfield</th>\n",
       "      <td>35</td>\n",
       "      <td>35</td>\n",
       "      <td>35</td>\n",
       "      <td>35</td>\n",
       "      <td>35</td>\n",
       "      <td>35</td>\n",
       "      <td>35</td>\n",
       "      <td>35</td>\n",
       "      <td>33</td>\n",
       "      <td>33</td>\n",
       "      <td>...</td>\n",
       "      <td>3</td>\n",
       "      <td>18</td>\n",
       "      <td>5</td>\n",
       "      <td>35</td>\n",
       "      <td>35</td>\n",
       "      <td>35</td>\n",
       "      <td>35</td>\n",
       "      <td>35</td>\n",
       "      <td>34</td>\n",
       "      <td>34</td>\n",
       "    </tr>\n",
       "    <tr>\n",
       "      <th>Villa Soldati</th>\n",
       "      <td>15</td>\n",
       "      <td>15</td>\n",
       "      <td>15</td>\n",
       "      <td>15</td>\n",
       "      <td>15</td>\n",
       "      <td>15</td>\n",
       "      <td>15</td>\n",
       "      <td>15</td>\n",
       "      <td>15</td>\n",
       "      <td>15</td>\n",
       "      <td>...</td>\n",
       "      <td>3</td>\n",
       "      <td>12</td>\n",
       "      <td>1</td>\n",
       "      <td>15</td>\n",
       "      <td>15</td>\n",
       "      <td>15</td>\n",
       "      <td>15</td>\n",
       "      <td>15</td>\n",
       "      <td>15</td>\n",
       "      <td>15</td>\n",
       "    </tr>\n",
       "    <tr>\n",
       "      <th>Villa Riachuelo</th>\n",
       "      <td>6</td>\n",
       "      <td>6</td>\n",
       "      <td>6</td>\n",
       "      <td>6</td>\n",
       "      <td>6</td>\n",
       "      <td>6</td>\n",
       "      <td>6</td>\n",
       "      <td>6</td>\n",
       "      <td>6</td>\n",
       "      <td>6</td>\n",
       "      <td>...</td>\n",
       "      <td>1</td>\n",
       "      <td>3</td>\n",
       "      <td>0</td>\n",
       "      <td>6</td>\n",
       "      <td>6</td>\n",
       "      <td>6</td>\n",
       "      <td>6</td>\n",
       "      <td>6</td>\n",
       "      <td>5</td>\n",
       "      <td>5</td>\n",
       "    </tr>\n",
       "    <tr>\n",
       "      <th>Catalinas</th>\n",
       "      <td>4</td>\n",
       "      <td>4</td>\n",
       "      <td>4</td>\n",
       "      <td>4</td>\n",
       "      <td>4</td>\n",
       "      <td>4</td>\n",
       "      <td>4</td>\n",
       "      <td>0</td>\n",
       "      <td>3</td>\n",
       "      <td>3</td>\n",
       "      <td>...</td>\n",
       "      <td>0</td>\n",
       "      <td>3</td>\n",
       "      <td>0</td>\n",
       "      <td>4</td>\n",
       "      <td>4</td>\n",
       "      <td>4</td>\n",
       "      <td>4</td>\n",
       "      <td>4</td>\n",
       "      <td>2</td>\n",
       "      <td>2</td>\n",
       "    </tr>\n",
       "  </tbody>\n",
       "</table>\n",
       "<p>62 rows × 29 columns</p>\n",
       "</div>"
      ],
      "text/plain": [
       "                  Unnamed: 0  operation  property_type  place_name  \\\n",
       "place_name_clean                                                     \n",
       "Belgrano                2966       2966           2966        2966   \n",
       "Palermo                 2831       2831           2831        2831   \n",
       "Caballito               2239       2239           2239        2239   \n",
       "Recoleta                1520       1520           1520        1520   \n",
       "Villa Urquiza           1617       1617           1617        1617   \n",
       "...                      ...        ...            ...         ...   \n",
       "Agronomía                 40         40             40          40   \n",
       "Velez Sarsfield           35         35             35          35   \n",
       "Villa Soldati             15         15             15          15   \n",
       "Villa Riachuelo            6          6              6           6   \n",
       "Catalinas                  4          4              4           4   \n",
       "\n",
       "                  place_with_parent_names  country_name  state_name  \\\n",
       "place_name_clean                                                      \n",
       "Belgrano                             2966          2966        2966   \n",
       "Palermo                              2831          2831        2831   \n",
       "Caballito                            2239          2239        2239   \n",
       "Recoleta                             1520          1520        1520   \n",
       "Villa Urquiza                        1617          1617        1617   \n",
       "...                                   ...           ...         ...   \n",
       "Agronomía                              40            40          40   \n",
       "Velez Sarsfield                        35            35          35   \n",
       "Villa Soldati                          15            15          15   \n",
       "Villa Riachuelo                         6             6           6   \n",
       "Catalinas                               4             4           4   \n",
       "\n",
       "                  geonames_id  lat-lon   lat  ...  floor  rooms  expenses  \\\n",
       "place_name_clean                              ...                           \n",
       "Belgrano                 2966     1952  1952  ...    190   1138       748   \n",
       "Palermo                  2831     2045  2045  ...    312   1216       809   \n",
       "Caballito                2239     1799  1799  ...    331   1121       505   \n",
       "Recoleta                 1520     1254  1254  ...    142    873       366   \n",
       "Villa Urquiza            1617     1077  1077  ...    116    552       184   \n",
       "...                       ...      ...   ...  ...    ...    ...       ...   \n",
       "Agronomía                  40       40    40  ...      2     32         8   \n",
       "Velez Sarsfield            35       33    33  ...      3     18         5   \n",
       "Villa Soldati              15       15    15  ...      3     12         1   \n",
       "Villa Riachuelo             6        6     6  ...      1      3         0   \n",
       "Catalinas                   0        3     3  ...      0      3         0   \n",
       "\n",
       "                  properati_url  description  title  image_thumbnail  \\\n",
       "place_name_clean                                                       \n",
       "Belgrano                   2966         2966   2966             2938   \n",
       "Palermo                    2831         2831   2831             2810   \n",
       "Caballito                  2239         2239   2239             2210   \n",
       "Recoleta                   1520         1520   1520             1493   \n",
       "Villa Urquiza              1617         1617   1617             1581   \n",
       "...                         ...          ...    ...              ...   \n",
       "Agronomía                    40           40     40               40   \n",
       "Velez Sarsfield              35           35     35               35   \n",
       "Villa Soldati                15           15     15               15   \n",
       "Villa Riachuelo               6            6      6                6   \n",
       "Catalinas                     4            4      4                4   \n",
       "\n",
       "                  surface_total_in_m2_clean  price_usd_en_m2  \\\n",
       "place_name_clean                                               \n",
       "Belgrano                               2966             2517   \n",
       "Palermo                                2831             2478   \n",
       "Caballito                              2239             2032   \n",
       "Recoleta                               1520             1403   \n",
       "Villa Urquiza                          1617             1350   \n",
       "...                                     ...              ...   \n",
       "Agronomía                                40               37   \n",
       "Velez Sarsfield                          35               34   \n",
       "Villa Soldati                            15               15   \n",
       "Villa Riachuelo                           6                5   \n",
       "Catalinas                                 4                2   \n",
       "\n",
       "                  price_usd_en_m2_clean  \n",
       "place_name_clean                         \n",
       "Belgrano                           2517  \n",
       "Palermo                            2478  \n",
       "Caballito                          2032  \n",
       "Recoleta                           1403  \n",
       "Villa Urquiza                      1350  \n",
       "...                                 ...  \n",
       "Agronomía                            37  \n",
       "Velez Sarsfield                      34  \n",
       "Villa Soldati                        15  \n",
       "Villa Riachuelo                       5  \n",
       "Catalinas                             2  \n",
       "\n",
       "[62 rows x 29 columns]"
      ]
     },
     "execution_count": 147,
     "metadata": {},
     "output_type": "execute_result"
    }
   ],
   "source": [
    "maskcapital = data_2.state_name == \"Capital Federal\"\n",
    "group_capital = data_2[maskcapital].groupby(['place_name_clean']).count().sort_values('price_per_m2', ascending=False)\n",
    "group_capital"
   ]
  },
  {
   "cell_type": "code",
   "execution_count": 148,
   "metadata": {},
   "outputs": [
    {
     "data": {
      "application/vnd.plotly.v1+json": {
       "config": {
        "plotlyServerURL": "https://plot.ly"
       },
       "data": [
        {
         "alignmentgroup": "True",
         "hovertemplate": "x=%{x}<br>Unnamed: 0=%{y}<extra></extra>",
         "legendgroup": "",
         "marker": {
          "color": "#636efa"
         },
         "name": "",
         "offsetgroup": "",
         "orientation": "v",
         "showlegend": false,
         "textposition": "auto",
         "type": "bar",
         "x": [
          "Belgrano",
          "Palermo",
          "Caballito",
          "Recoleta",
          "Villa Urquiza",
          "Flores",
          "Villa Crespo",
          "San Telmo",
          "Barrio Norte",
          "Almagro",
          "Capital Federal",
          "Boedo",
          "Nuñez",
          "Balvanera",
          "San Cristobal",
          "Puerto Madero",
          "Saavedra",
          "Monserrat",
          "Palermo Hollywood",
          "Villa del Parque",
          "Floresta",
          "Barracas",
          "Villa Devoto",
          "Colegiales",
          "Villa Luro",
          "Mataderos",
          "Palermo Soho",
          "Congreso",
          "Parque Patricios",
          "Liniers",
          "Coghlan",
          "Retiro",
          "Centro / Microcentro",
          "Chacarita",
          "Constitución",
          "Boca",
          "Palermo Chico",
          "Villa Lugano",
          "Villa Pueyrredón",
          "San Nicolás",
          "Paternal",
          "Once",
          "Parque Chacabuco",
          "Las Cañitas",
          "Abasto",
          "Villa Ortuzar",
          "Tribunales",
          "Monte Castro",
          "Parque Centenario",
          "Villa Santa Rita",
          "Pompeya",
          "Parque Avellaneda",
          "Versalles",
          "Villa General Mitre",
          "Parque Chas",
          "Palermo Viejo",
          "Villa Real",
          "Agronomía",
          "Velez Sarsfield",
          "Villa Soldati",
          "Villa Riachuelo",
          "Catalinas"
         ],
         "xaxis": "x",
         "y": [
          2966,
          2831,
          2239,
          1520,
          1617,
          1301,
          1321,
          1204,
          1119,
          1143,
          1248,
          880,
          767,
          652,
          605,
          633,
          537,
          527,
          525,
          480,
          504,
          409,
          395,
          347,
          362,
          363,
          387,
          300,
          315,
          313,
          254,
          243,
          223,
          221,
          207,
          217,
          232,
          190,
          172,
          179,
          165,
          194,
          143,
          141,
          110,
          86,
          95,
          76,
          67,
          55,
          58,
          54,
          55,
          47,
          44,
          40,
          37,
          40,
          35,
          15,
          6,
          4
         ],
         "yaxis": "y"
        }
       ],
       "layout": {
        "autosize": true,
        "barmode": "relative",
        "legend": {
         "tracegroupgap": 0
        },
        "margin": {
         "t": 60
        },
        "template": {
         "data": {
          "bar": [
           {
            "error_x": {
             "color": "#2a3f5f"
            },
            "error_y": {
             "color": "#2a3f5f"
            },
            "marker": {
             "line": {
              "color": "#E5ECF6",
              "width": 0.5
             }
            },
            "type": "bar"
           }
          ],
          "barpolar": [
           {
            "marker": {
             "line": {
              "color": "#E5ECF6",
              "width": 0.5
             }
            },
            "type": "barpolar"
           }
          ],
          "carpet": [
           {
            "aaxis": {
             "endlinecolor": "#2a3f5f",
             "gridcolor": "white",
             "linecolor": "white",
             "minorgridcolor": "white",
             "startlinecolor": "#2a3f5f"
            },
            "baxis": {
             "endlinecolor": "#2a3f5f",
             "gridcolor": "white",
             "linecolor": "white",
             "minorgridcolor": "white",
             "startlinecolor": "#2a3f5f"
            },
            "type": "carpet"
           }
          ],
          "choropleth": [
           {
            "colorbar": {
             "outlinewidth": 0,
             "ticks": ""
            },
            "type": "choropleth"
           }
          ],
          "contour": [
           {
            "colorbar": {
             "outlinewidth": 0,
             "ticks": ""
            },
            "colorscale": [
             [
              0,
              "#0d0887"
             ],
             [
              0.1111111111111111,
              "#46039f"
             ],
             [
              0.2222222222222222,
              "#7201a8"
             ],
             [
              0.3333333333333333,
              "#9c179e"
             ],
             [
              0.4444444444444444,
              "#bd3786"
             ],
             [
              0.5555555555555556,
              "#d8576b"
             ],
             [
              0.6666666666666666,
              "#ed7953"
             ],
             [
              0.7777777777777778,
              "#fb9f3a"
             ],
             [
              0.8888888888888888,
              "#fdca26"
             ],
             [
              1,
              "#f0f921"
             ]
            ],
            "type": "contour"
           }
          ],
          "contourcarpet": [
           {
            "colorbar": {
             "outlinewidth": 0,
             "ticks": ""
            },
            "type": "contourcarpet"
           }
          ],
          "heatmap": [
           {
            "colorbar": {
             "outlinewidth": 0,
             "ticks": ""
            },
            "colorscale": [
             [
              0,
              "#0d0887"
             ],
             [
              0.1111111111111111,
              "#46039f"
             ],
             [
              0.2222222222222222,
              "#7201a8"
             ],
             [
              0.3333333333333333,
              "#9c179e"
             ],
             [
              0.4444444444444444,
              "#bd3786"
             ],
             [
              0.5555555555555556,
              "#d8576b"
             ],
             [
              0.6666666666666666,
              "#ed7953"
             ],
             [
              0.7777777777777778,
              "#fb9f3a"
             ],
             [
              0.8888888888888888,
              "#fdca26"
             ],
             [
              1,
              "#f0f921"
             ]
            ],
            "type": "heatmap"
           }
          ],
          "heatmapgl": [
           {
            "colorbar": {
             "outlinewidth": 0,
             "ticks": ""
            },
            "colorscale": [
             [
              0,
              "#0d0887"
             ],
             [
              0.1111111111111111,
              "#46039f"
             ],
             [
              0.2222222222222222,
              "#7201a8"
             ],
             [
              0.3333333333333333,
              "#9c179e"
             ],
             [
              0.4444444444444444,
              "#bd3786"
             ],
             [
              0.5555555555555556,
              "#d8576b"
             ],
             [
              0.6666666666666666,
              "#ed7953"
             ],
             [
              0.7777777777777778,
              "#fb9f3a"
             ],
             [
              0.8888888888888888,
              "#fdca26"
             ],
             [
              1,
              "#f0f921"
             ]
            ],
            "type": "heatmapgl"
           }
          ],
          "histogram": [
           {
            "marker": {
             "colorbar": {
              "outlinewidth": 0,
              "ticks": ""
             }
            },
            "type": "histogram"
           }
          ],
          "histogram2d": [
           {
            "colorbar": {
             "outlinewidth": 0,
             "ticks": ""
            },
            "colorscale": [
             [
              0,
              "#0d0887"
             ],
             [
              0.1111111111111111,
              "#46039f"
             ],
             [
              0.2222222222222222,
              "#7201a8"
             ],
             [
              0.3333333333333333,
              "#9c179e"
             ],
             [
              0.4444444444444444,
              "#bd3786"
             ],
             [
              0.5555555555555556,
              "#d8576b"
             ],
             [
              0.6666666666666666,
              "#ed7953"
             ],
             [
              0.7777777777777778,
              "#fb9f3a"
             ],
             [
              0.8888888888888888,
              "#fdca26"
             ],
             [
              1,
              "#f0f921"
             ]
            ],
            "type": "histogram2d"
           }
          ],
          "histogram2dcontour": [
           {
            "colorbar": {
             "outlinewidth": 0,
             "ticks": ""
            },
            "colorscale": [
             [
              0,
              "#0d0887"
             ],
             [
              0.1111111111111111,
              "#46039f"
             ],
             [
              0.2222222222222222,
              "#7201a8"
             ],
             [
              0.3333333333333333,
              "#9c179e"
             ],
             [
              0.4444444444444444,
              "#bd3786"
             ],
             [
              0.5555555555555556,
              "#d8576b"
             ],
             [
              0.6666666666666666,
              "#ed7953"
             ],
             [
              0.7777777777777778,
              "#fb9f3a"
             ],
             [
              0.8888888888888888,
              "#fdca26"
             ],
             [
              1,
              "#f0f921"
             ]
            ],
            "type": "histogram2dcontour"
           }
          ],
          "mesh3d": [
           {
            "colorbar": {
             "outlinewidth": 0,
             "ticks": ""
            },
            "type": "mesh3d"
           }
          ],
          "parcoords": [
           {
            "line": {
             "colorbar": {
              "outlinewidth": 0,
              "ticks": ""
             }
            },
            "type": "parcoords"
           }
          ],
          "pie": [
           {
            "automargin": true,
            "type": "pie"
           }
          ],
          "scatter": [
           {
            "marker": {
             "colorbar": {
              "outlinewidth": 0,
              "ticks": ""
             }
            },
            "type": "scatter"
           }
          ],
          "scatter3d": [
           {
            "line": {
             "colorbar": {
              "outlinewidth": 0,
              "ticks": ""
             }
            },
            "marker": {
             "colorbar": {
              "outlinewidth": 0,
              "ticks": ""
             }
            },
            "type": "scatter3d"
           }
          ],
          "scattercarpet": [
           {
            "marker": {
             "colorbar": {
              "outlinewidth": 0,
              "ticks": ""
             }
            },
            "type": "scattercarpet"
           }
          ],
          "scattergeo": [
           {
            "marker": {
             "colorbar": {
              "outlinewidth": 0,
              "ticks": ""
             }
            },
            "type": "scattergeo"
           }
          ],
          "scattergl": [
           {
            "marker": {
             "colorbar": {
              "outlinewidth": 0,
              "ticks": ""
             }
            },
            "type": "scattergl"
           }
          ],
          "scattermapbox": [
           {
            "marker": {
             "colorbar": {
              "outlinewidth": 0,
              "ticks": ""
             }
            },
            "type": "scattermapbox"
           }
          ],
          "scatterpolar": [
           {
            "marker": {
             "colorbar": {
              "outlinewidth": 0,
              "ticks": ""
             }
            },
            "type": "scatterpolar"
           }
          ],
          "scatterpolargl": [
           {
            "marker": {
             "colorbar": {
              "outlinewidth": 0,
              "ticks": ""
             }
            },
            "type": "scatterpolargl"
           }
          ],
          "scatterternary": [
           {
            "marker": {
             "colorbar": {
              "outlinewidth": 0,
              "ticks": ""
             }
            },
            "type": "scatterternary"
           }
          ],
          "surface": [
           {
            "colorbar": {
             "outlinewidth": 0,
             "ticks": ""
            },
            "colorscale": [
             [
              0,
              "#0d0887"
             ],
             [
              0.1111111111111111,
              "#46039f"
             ],
             [
              0.2222222222222222,
              "#7201a8"
             ],
             [
              0.3333333333333333,
              "#9c179e"
             ],
             [
              0.4444444444444444,
              "#bd3786"
             ],
             [
              0.5555555555555556,
              "#d8576b"
             ],
             [
              0.6666666666666666,
              "#ed7953"
             ],
             [
              0.7777777777777778,
              "#fb9f3a"
             ],
             [
              0.8888888888888888,
              "#fdca26"
             ],
             [
              1,
              "#f0f921"
             ]
            ],
            "type": "surface"
           }
          ],
          "table": [
           {
            "cells": {
             "fill": {
              "color": "#EBF0F8"
             },
             "line": {
              "color": "white"
             }
            },
            "header": {
             "fill": {
              "color": "#C8D4E3"
             },
             "line": {
              "color": "white"
             }
            },
            "type": "table"
           }
          ]
         },
         "layout": {
          "annotationdefaults": {
           "arrowcolor": "#2a3f5f",
           "arrowhead": 0,
           "arrowwidth": 1
          },
          "coloraxis": {
           "colorbar": {
            "outlinewidth": 0,
            "ticks": ""
           }
          },
          "colorscale": {
           "diverging": [
            [
             0,
             "#8e0152"
            ],
            [
             0.1,
             "#c51b7d"
            ],
            [
             0.2,
             "#de77ae"
            ],
            [
             0.3,
             "#f1b6da"
            ],
            [
             0.4,
             "#fde0ef"
            ],
            [
             0.5,
             "#f7f7f7"
            ],
            [
             0.6,
             "#e6f5d0"
            ],
            [
             0.7,
             "#b8e186"
            ],
            [
             0.8,
             "#7fbc41"
            ],
            [
             0.9,
             "#4d9221"
            ],
            [
             1,
             "#276419"
            ]
           ],
           "sequential": [
            [
             0,
             "#0d0887"
            ],
            [
             0.1111111111111111,
             "#46039f"
            ],
            [
             0.2222222222222222,
             "#7201a8"
            ],
            [
             0.3333333333333333,
             "#9c179e"
            ],
            [
             0.4444444444444444,
             "#bd3786"
            ],
            [
             0.5555555555555556,
             "#d8576b"
            ],
            [
             0.6666666666666666,
             "#ed7953"
            ],
            [
             0.7777777777777778,
             "#fb9f3a"
            ],
            [
             0.8888888888888888,
             "#fdca26"
            ],
            [
             1,
             "#f0f921"
            ]
           ],
           "sequentialminus": [
            [
             0,
             "#0d0887"
            ],
            [
             0.1111111111111111,
             "#46039f"
            ],
            [
             0.2222222222222222,
             "#7201a8"
            ],
            [
             0.3333333333333333,
             "#9c179e"
            ],
            [
             0.4444444444444444,
             "#bd3786"
            ],
            [
             0.5555555555555556,
             "#d8576b"
            ],
            [
             0.6666666666666666,
             "#ed7953"
            ],
            [
             0.7777777777777778,
             "#fb9f3a"
            ],
            [
             0.8888888888888888,
             "#fdca26"
            ],
            [
             1,
             "#f0f921"
            ]
           ]
          },
          "colorway": [
           "#636efa",
           "#EF553B",
           "#00cc96",
           "#ab63fa",
           "#FFA15A",
           "#19d3f3",
           "#FF6692",
           "#B6E880",
           "#FF97FF",
           "#FECB52"
          ],
          "font": {
           "color": "#2a3f5f"
          },
          "geo": {
           "bgcolor": "white",
           "lakecolor": "white",
           "landcolor": "#E5ECF6",
           "showlakes": true,
           "showland": true,
           "subunitcolor": "white"
          },
          "hoverlabel": {
           "align": "left"
          },
          "hovermode": "closest",
          "mapbox": {
           "style": "light"
          },
          "paper_bgcolor": "white",
          "plot_bgcolor": "#E5ECF6",
          "polar": {
           "angularaxis": {
            "gridcolor": "white",
            "linecolor": "white",
            "ticks": ""
           },
           "bgcolor": "#E5ECF6",
           "radialaxis": {
            "gridcolor": "white",
            "linecolor": "white",
            "ticks": ""
           }
          },
          "scene": {
           "xaxis": {
            "backgroundcolor": "#E5ECF6",
            "gridcolor": "white",
            "gridwidth": 2,
            "linecolor": "white",
            "showbackground": true,
            "ticks": "",
            "zerolinecolor": "white"
           },
           "yaxis": {
            "backgroundcolor": "#E5ECF6",
            "gridcolor": "white",
            "gridwidth": 2,
            "linecolor": "white",
            "showbackground": true,
            "ticks": "",
            "zerolinecolor": "white"
           },
           "zaxis": {
            "backgroundcolor": "#E5ECF6",
            "gridcolor": "white",
            "gridwidth": 2,
            "linecolor": "white",
            "showbackground": true,
            "ticks": "",
            "zerolinecolor": "white"
           }
          },
          "shapedefaults": {
           "line": {
            "color": "#2a3f5f"
           }
          },
          "ternary": {
           "aaxis": {
            "gridcolor": "white",
            "linecolor": "white",
            "ticks": ""
           },
           "baxis": {
            "gridcolor": "white",
            "linecolor": "white",
            "ticks": ""
           },
           "bgcolor": "#E5ECF6",
           "caxis": {
            "gridcolor": "white",
            "linecolor": "white",
            "ticks": ""
           }
          },
          "title": {
           "x": 0.05
          },
          "xaxis": {
           "automargin": true,
           "gridcolor": "white",
           "linecolor": "white",
           "ticks": "",
           "title": {
            "standoff": 15
           },
           "zerolinecolor": "white",
           "zerolinewidth": 2
          },
          "yaxis": {
           "automargin": true,
           "gridcolor": "white",
           "linecolor": "white",
           "ticks": "",
           "title": {
            "standoff": 15
           },
           "zerolinecolor": "white",
           "zerolinewidth": 2
          }
         }
        },
        "xaxis": {
         "anchor": "y",
         "autorange": true,
         "domain": [
          0,
          1
         ],
         "range": [
          -0.5,
          61.5
         ],
         "title": {
          "text": "x"
         },
         "type": "category"
        },
        "yaxis": {
         "anchor": "x",
         "autorange": true,
         "domain": [
          0,
          1
         ],
         "range": [
          0,
          3122.1052631578946
         ],
         "title": {
          "text": "Unnamed: 0"
         },
         "type": "linear"
        }
       }
      },
      "image/png": "[encoded data removed]",
      "text/html": [
       "<div>\n",
       "        \n",
       "        \n",
       "            <div id=\"43f32762-716b-40df-b166-5cf8a689a051\" class=\"plotly-graph-div\" style=\"height:525px; width:100%;\"></div>\n",
       "            <script type=\"text/javascript\">\n",
       "                require([\"plotly\"], function(Plotly) {\n",
       "                    window.PLOTLYENV=window.PLOTLYENV || {};\n",
       "                    \n",
       "                if (document.getElementById(\"43f32762-716b-40df-b166-5cf8a689a051\")) {\n",
       "                    Plotly.newPlot(\n",
       "                        '43f32762-716b-40df-b166-5cf8a689a051',\n",
       "                        [{\"alignmentgroup\": \"True\", \"hovertemplate\": \"x=%{x}<br>Unnamed: 0=%{y}<extra></extra>\", \"legendgroup\": \"\", \"marker\": {\"color\": \"#636efa\"}, \"name\": \"\", \"offsetgroup\": \"\", \"orientation\": \"v\", \"showlegend\": false, \"textposition\": \"auto\", \"type\": \"bar\", \"x\": [\"Belgrano\", \"Palermo\", \"Caballito\", \"Recoleta\", \"Villa Urquiza\", \"Flores\", \"Villa Crespo\", \"San Telmo\", \"Barrio Norte\", \"Almagro\", \"Capital Federal\", \"Boedo\", \"Nu\\u00f1ez\", \"Balvanera\", \"San Cristobal\", \"Puerto Madero\", \"Saavedra\", \"Monserrat\", \"Palermo Hollywood\", \"Villa del Parque\", \"Floresta\", \"Barracas\", \"Villa Devoto\", \"Colegiales\", \"Villa Luro\", \"Mataderos\", \"Palermo Soho\", \"Congreso\", \"Parque Patricios\", \"Liniers\", \"Coghlan\", \"Retiro\", \"Centro / Microcentro\", \"Chacarita\", \"Constituci\\u00f3n\", \"Boca\", \"Palermo Chico\", \"Villa Lugano\", \"Villa Pueyrred\\u00f3n\", \"San Nicol\\u00e1s\", \"Paternal\", \"Once\", \"Parque Chacabuco\", \"Las Ca\\u00f1itas\", \"Abasto\", \"Villa Ortuzar\", \"Tribunales\", \"Monte Castro\", \"Parque Centenario\", \"Villa Santa Rita\", \"Pompeya\", \"Parque Avellaneda\", \"Versalles\", \"Villa General Mitre\", \"Parque Chas\", \"Palermo Viejo\", \"Villa Real\", \"Agronom\\u00eda\", \"Velez Sarsfield\", \"Villa Soldati\", \"Villa Riachuelo\", \"Catalinas\"], \"xaxis\": \"x\", \"y\": [2966, 2831, 2239, 1520, 1617, 1301, 1321, 1204, 1119, 1143, 1248, 880, 767, 652, 605, 633, 537, 527, 525, 480, 504, 409, 395, 347, 362, 363, 387, 300, 315, 313, 254, 243, 223, 221, 207, 217, 232, 190, 172, 179, 165, 194, 143, 141, 110, 86, 95, 76, 67, 55, 58, 54, 55, 47, 44, 40, 37, 40, 35, 15, 6, 4], \"yaxis\": \"y\"}],\n",
       "                        {\"barmode\": \"relative\", \"legend\": {\"tracegroupgap\": 0}, \"margin\": {\"t\": 60}, \"template\": {\"data\": {\"bar\": [{\"error_x\": {\"color\": \"#2a3f5f\"}, \"error_y\": {\"color\": \"#2a3f5f\"}, \"marker\": {\"line\": {\"color\": \"#E5ECF6\", \"width\": 0.5}}, \"type\": \"bar\"}], \"barpolar\": [{\"marker\": {\"line\": {\"color\": \"#E5ECF6\", \"width\": 0.5}}, \"type\": \"barpolar\"}], \"carpet\": [{\"aaxis\": {\"endlinecolor\": \"#2a3f5f\", \"gridcolor\": \"white\", \"linecolor\": \"white\", \"minorgridcolor\": \"white\", \"startlinecolor\": \"#2a3f5f\"}, \"baxis\": {\"endlinecolor\": \"#2a3f5f\", \"gridcolor\": \"white\", \"linecolor\": \"white\", \"minorgridcolor\": \"white\", \"startlinecolor\": \"#2a3f5f\"}, \"type\": \"carpet\"}], \"choropleth\": [{\"colorbar\": {\"outlinewidth\": 0, \"ticks\": \"\"}, \"type\": \"choropleth\"}], \"contour\": [{\"colorbar\": {\"outlinewidth\": 0, \"ticks\": \"\"}, \"colorscale\": [[0.0, \"#0d0887\"], [0.1111111111111111, \"#46039f\"], [0.2222222222222222, \"#7201a8\"], [0.3333333333333333, \"#9c179e\"], [0.4444444444444444, \"#bd3786\"], [0.5555555555555556, \"#d8576b\"], [0.6666666666666666, \"#ed7953\"], [0.7777777777777778, \"#fb9f3a\"], [0.8888888888888888, \"#fdca26\"], [1.0, \"#f0f921\"]], \"type\": \"contour\"}], \"contourcarpet\": [{\"colorbar\": {\"outlinewidth\": 0, \"ticks\": \"\"}, \"type\": \"contourcarpet\"}], \"heatmap\": [{\"colorbar\": {\"outlinewidth\": 0, \"ticks\": \"\"}, \"colorscale\": [[0.0, \"#0d0887\"], [0.1111111111111111, \"#46039f\"], [0.2222222222222222, \"#7201a8\"], [0.3333333333333333, \"#9c179e\"], [0.4444444444444444, \"#bd3786\"], [0.5555555555555556, \"#d8576b\"], [0.6666666666666666, \"#ed7953\"], [0.7777777777777778, \"#fb9f3a\"], [0.8888888888888888, \"#fdca26\"], [1.0, \"#f0f921\"]], \"type\": \"heatmap\"}], \"heatmapgl\": [{\"colorbar\": {\"outlinewidth\": 0, \"ticks\": \"\"}, \"colorscale\": [[0.0, \"#0d0887\"], [0.1111111111111111, \"#46039f\"], [0.2222222222222222, \"#7201a8\"], [0.3333333333333333, \"#9c179e\"], [0.4444444444444444, \"#bd3786\"], [0.5555555555555556, \"#d8576b\"], [0.6666666666666666, \"#ed7953\"], [0.7777777777777778, \"#fb9f3a\"], [0.8888888888888888, \"#fdca26\"], [1.0, \"#f0f921\"]], \"type\": \"heatmapgl\"}], \"histogram\": [{\"marker\": {\"colorbar\": {\"outlinewidth\": 0, \"ticks\": \"\"}}, \"type\": \"histogram\"}], \"histogram2d\": [{\"colorbar\": {\"outlinewidth\": 0, \"ticks\": \"\"}, \"colorscale\": [[0.0, \"#0d0887\"], [0.1111111111111111, \"#46039f\"], [0.2222222222222222, \"#7201a8\"], [0.3333333333333333, \"#9c179e\"], [0.4444444444444444, \"#bd3786\"], [0.5555555555555556, \"#d8576b\"], [0.6666666666666666, \"#ed7953\"], [0.7777777777777778, \"#fb9f3a\"], [0.8888888888888888, \"#fdca26\"], [1.0, \"#f0f921\"]], \"type\": \"histogram2d\"}], \"histogram2dcontour\": [{\"colorbar\": {\"outlinewidth\": 0, \"ticks\": \"\"}, \"colorscale\": [[0.0, \"#0d0887\"], [0.1111111111111111, \"#46039f\"], [0.2222222222222222, \"#7201a8\"], [0.3333333333333333, \"#9c179e\"], [0.4444444444444444, \"#bd3786\"], [0.5555555555555556, \"#d8576b\"], [0.6666666666666666, \"#ed7953\"], [0.7777777777777778, \"#fb9f3a\"], [0.8888888888888888, \"#fdca26\"], [1.0, \"#f0f921\"]], \"type\": \"histogram2dcontour\"}], \"mesh3d\": [{\"colorbar\": {\"outlinewidth\": 0, \"ticks\": \"\"}, \"type\": \"mesh3d\"}], \"parcoords\": [{\"line\": {\"colorbar\": {\"outlinewidth\": 0, \"ticks\": \"\"}}, \"type\": \"parcoords\"}], \"pie\": [{\"automargin\": true, \"type\": \"pie\"}], \"scatter\": [{\"marker\": {\"colorbar\": {\"outlinewidth\": 0, \"ticks\": \"\"}}, \"type\": \"scatter\"}], \"scatter3d\": [{\"line\": {\"colorbar\": {\"outlinewidth\": 0, \"ticks\": \"\"}}, \"marker\": {\"colorbar\": {\"outlinewidth\": 0, \"ticks\": \"\"}}, \"type\": \"scatter3d\"}], \"scattercarpet\": [{\"marker\": {\"colorbar\": {\"outlinewidth\": 0, \"ticks\": \"\"}}, \"type\": \"scattercarpet\"}], \"scattergeo\": [{\"marker\": {\"colorbar\": {\"outlinewidth\": 0, \"ticks\": \"\"}}, \"type\": \"scattergeo\"}], \"scattergl\": [{\"marker\": {\"colorbar\": {\"outlinewidth\": 0, \"ticks\": \"\"}}, \"type\": \"scattergl\"}], \"scattermapbox\": [{\"marker\": {\"colorbar\": {\"outlinewidth\": 0, \"ticks\": \"\"}}, \"type\": \"scattermapbox\"}], \"scatterpolar\": [{\"marker\": {\"colorbar\": {\"outlinewidth\": 0, \"ticks\": \"\"}}, \"type\": \"scatterpolar\"}], \"scatterpolargl\": [{\"marker\": {\"colorbar\": {\"outlinewidth\": 0, \"ticks\": \"\"}}, \"type\": \"scatterpolargl\"}], \"scatterternary\": [{\"marker\": {\"colorbar\": {\"outlinewidth\": 0, \"ticks\": \"\"}}, \"type\": \"scatterternary\"}], \"surface\": [{\"colorbar\": {\"outlinewidth\": 0, \"ticks\": \"\"}, \"colorscale\": [[0.0, \"#0d0887\"], [0.1111111111111111, \"#46039f\"], [0.2222222222222222, \"#7201a8\"], [0.3333333333333333, \"#9c179e\"], [0.4444444444444444, \"#bd3786\"], [0.5555555555555556, \"#d8576b\"], [0.6666666666666666, \"#ed7953\"], [0.7777777777777778, \"#fb9f3a\"], [0.8888888888888888, \"#fdca26\"], [1.0, \"#f0f921\"]], \"type\": \"surface\"}], \"table\": [{\"cells\": {\"fill\": {\"color\": \"#EBF0F8\"}, \"line\": {\"color\": \"white\"}}, \"header\": {\"fill\": {\"color\": \"#C8D4E3\"}, \"line\": {\"color\": \"white\"}}, \"type\": \"table\"}]}, \"layout\": {\"annotationdefaults\": {\"arrowcolor\": \"#2a3f5f\", \"arrowhead\": 0, \"arrowwidth\": 1}, \"coloraxis\": {\"colorbar\": {\"outlinewidth\": 0, \"ticks\": \"\"}}, \"colorscale\": {\"diverging\": [[0, \"#8e0152\"], [0.1, \"#c51b7d\"], [0.2, \"#de77ae\"], [0.3, \"#f1b6da\"], [0.4, \"#fde0ef\"], [0.5, \"#f7f7f7\"], [0.6, \"#e6f5d0\"], [0.7, \"#b8e186\"], [0.8, \"#7fbc41\"], [0.9, \"#4d9221\"], [1, \"#276419\"]], \"sequential\": [[0.0, \"#0d0887\"], [0.1111111111111111, \"#46039f\"], [0.2222222222222222, \"#7201a8\"], [0.3333333333333333, \"#9c179e\"], [0.4444444444444444, \"#bd3786\"], [0.5555555555555556, \"#d8576b\"], [0.6666666666666666, \"#ed7953\"], [0.7777777777777778, \"#fb9f3a\"], [0.8888888888888888, \"#fdca26\"], [1.0, \"#f0f921\"]], \"sequentialminus\": [[0.0, \"#0d0887\"], [0.1111111111111111, \"#46039f\"], [0.2222222222222222, \"#7201a8\"], [0.3333333333333333, \"#9c179e\"], [0.4444444444444444, \"#bd3786\"], [0.5555555555555556, \"#d8576b\"], [0.6666666666666666, \"#ed7953\"], [0.7777777777777778, \"#fb9f3a\"], [0.8888888888888888, \"#fdca26\"], [1.0, \"#f0f921\"]]}, \"colorway\": [\"#636efa\", \"#EF553B\", \"#00cc96\", \"#ab63fa\", \"#FFA15A\", \"#19d3f3\", \"#FF6692\", \"#B6E880\", \"#FF97FF\", \"#FECB52\"], \"font\": {\"color\": \"#2a3f5f\"}, \"geo\": {\"bgcolor\": \"white\", \"lakecolor\": \"white\", \"landcolor\": \"#E5ECF6\", \"showlakes\": true, \"showland\": true, \"subunitcolor\": \"white\"}, \"hoverlabel\": {\"align\": \"left\"}, \"hovermode\": \"closest\", \"mapbox\": {\"style\": \"light\"}, \"paper_bgcolor\": \"white\", \"plot_bgcolor\": \"#E5ECF6\", \"polar\": {\"angularaxis\": {\"gridcolor\": \"white\", \"linecolor\": \"white\", \"ticks\": \"\"}, \"bgcolor\": \"#E5ECF6\", \"radialaxis\": {\"gridcolor\": \"white\", \"linecolor\": \"white\", \"ticks\": \"\"}}, \"scene\": {\"xaxis\": {\"backgroundcolor\": \"#E5ECF6\", \"gridcolor\": \"white\", \"gridwidth\": 2, \"linecolor\": \"white\", \"showbackground\": true, \"ticks\": \"\", \"zerolinecolor\": \"white\"}, \"yaxis\": {\"backgroundcolor\": \"#E5ECF6\", \"gridcolor\": \"white\", \"gridwidth\": 2, \"linecolor\": \"white\", \"showbackground\": true, \"ticks\": \"\", \"zerolinecolor\": \"white\"}, \"zaxis\": {\"backgroundcolor\": \"#E5ECF6\", \"gridcolor\": \"white\", \"gridwidth\": 2, \"linecolor\": \"white\", \"showbackground\": true, \"ticks\": \"\", \"zerolinecolor\": \"white\"}}, \"shapedefaults\": {\"line\": {\"color\": \"#2a3f5f\"}}, \"ternary\": {\"aaxis\": {\"gridcolor\": \"white\", \"linecolor\": \"white\", \"ticks\": \"\"}, \"baxis\": {\"gridcolor\": \"white\", \"linecolor\": \"white\", \"ticks\": \"\"}, \"bgcolor\": \"#E5ECF6\", \"caxis\": {\"gridcolor\": \"white\", \"linecolor\": \"white\", \"ticks\": \"\"}}, \"title\": {\"x\": 0.05}, \"xaxis\": {\"automargin\": true, \"gridcolor\": \"white\", \"linecolor\": \"white\", \"ticks\": \"\", \"title\": {\"standoff\": 15}, \"zerolinecolor\": \"white\", \"zerolinewidth\": 2}, \"yaxis\": {\"automargin\": true, \"gridcolor\": \"white\", \"linecolor\": \"white\", \"ticks\": \"\", \"title\": {\"standoff\": 15}, \"zerolinecolor\": \"white\", \"zerolinewidth\": 2}}}, \"xaxis\": {\"anchor\": \"y\", \"domain\": [0.0, 1.0], \"title\": {\"text\": \"x\"}}, \"yaxis\": {\"anchor\": \"x\", \"domain\": [0.0, 1.0], \"title\": {\"text\": \"Unnamed: 0\"}}},\n",
       "                        {\"responsive\": true}\n",
       "                    ).then(function(){\n",
       "                            \n",
       "var gd = document.getElementById('43f32762-716b-40df-b166-5cf8a689a051');\n",
       "var x = new MutationObserver(function (mutations, observer) {{\n",
       "        var display = window.getComputedStyle(gd).display;\n",
       "        if (!display || display === 'none') {{\n",
       "            console.log([gd, 'removed!']);\n",
       "            Plotly.purge(gd);\n",
       "            observer.disconnect();\n",
       "        }}\n",
       "}});\n",
       "\n",
       "// Listen for the removal of the full notebook cells\n",
       "var notebookContainer = gd.closest('#notebook-container');\n",
       "if (notebookContainer) {{\n",
       "    x.observe(notebookContainer, {childList: true});\n",
       "}}\n",
       "\n",
       "// Listen for the clearing of the current output cell\n",
       "var outputEl = gd.closest('.output');\n",
       "if (outputEl) {{\n",
       "    x.observe(outputEl, {childList: true});\n",
       "}}\n",
       "\n",
       "                        })\n",
       "                };\n",
       "                });\n",
       "            </script>\n",
       "        </div>"
      ]
     },
     "metadata": {},
     "output_type": "display_data"
    }
   ],
   "source": [
    "fig = px.bar(group_capital, x=group_capital.index, y='Unnamed: 0')\n",
    "fig.show()\n"
   ]
  },
  {
   "cell_type": "code",
   "execution_count": 149,
   "metadata": {},
   "outputs": [
    {
     "data": {
      "text/html": [
       "<div>\n",
       "<style scoped>\n",
       "    .dataframe tbody tr th:only-of-type {\n",
       "        vertical-align: middle;\n",
       "    }\n",
       "\n",
       "    .dataframe tbody tr th {\n",
       "        vertical-align: top;\n",
       "    }\n",
       "\n",
       "    .dataframe thead th {\n",
       "        text-align: right;\n",
       "    }\n",
       "</style>\n",
       "<table border=\"1\" class=\"dataframe\">\n",
       "  <thead>\n",
       "    <tr style=\"text-align: right;\">\n",
       "      <th></th>\n",
       "      <th>Unnamed: 0</th>\n",
       "      <th>geonames_id</th>\n",
       "      <th>lat</th>\n",
       "      <th>lon</th>\n",
       "      <th>price</th>\n",
       "      <th>price_aprox_local_currency</th>\n",
       "      <th>price_aprox_usd</th>\n",
       "      <th>surface_total_in_m2</th>\n",
       "      <th>surface_covered_in_m2</th>\n",
       "      <th>price_usd_per_m2</th>\n",
       "      <th>price_per_m2</th>\n",
       "      <th>floor</th>\n",
       "      <th>rooms</th>\n",
       "      <th>expenses</th>\n",
       "      <th>surface_total_in_m2_clean</th>\n",
       "      <th>price_usd_en_m2</th>\n",
       "      <th>price_usd_en_m2_clean</th>\n",
       "    </tr>\n",
       "    <tr>\n",
       "      <th>place_name_clean</th>\n",
       "      <th></th>\n",
       "      <th></th>\n",
       "      <th></th>\n",
       "      <th></th>\n",
       "      <th></th>\n",
       "      <th></th>\n",
       "      <th></th>\n",
       "      <th></th>\n",
       "      <th></th>\n",
       "      <th></th>\n",
       "      <th></th>\n",
       "      <th></th>\n",
       "      <th></th>\n",
       "      <th></th>\n",
       "      <th></th>\n",
       "      <th></th>\n",
       "      <th></th>\n",
       "    </tr>\n",
       "  </thead>\n",
       "  <tbody>\n",
       "    <tr>\n",
       "      <th>Villa Santa Rita</th>\n",
       "      <td>39447.054545</td>\n",
       "      <td>6693230.0</td>\n",
       "      <td>-34.615428</td>\n",
       "      <td>-58.480472</td>\n",
       "      <td>179595.454545</td>\n",
       "      <td>3.168872e+06</td>\n",
       "      <td>179595.454545</td>\n",
       "      <td>126.518519</td>\n",
       "      <td>62.109091</td>\n",
       "      <td>1889.186620</td>\n",
       "      <td>37884.728484</td>\n",
       "      <td>5.636364</td>\n",
       "      <td>2.589744</td>\n",
       "      <td>1000.000000</td>\n",
       "      <td>85.236364</td>\n",
       "      <td>25849.907667</td>\n",
       "      <td>25849.907667</td>\n",
       "    </tr>\n",
       "    <tr>\n",
       "      <th>Versalles</th>\n",
       "      <td>52066.254545</td>\n",
       "      <td>3427510.0</td>\n",
       "      <td>-34.629243</td>\n",
       "      <td>-58.520120</td>\n",
       "      <td>234094.230769</td>\n",
       "      <td>4.130476e+06</td>\n",
       "      <td>234094.230769</td>\n",
       "      <td>158.413793</td>\n",
       "      <td>96.415094</td>\n",
       "      <td>1542.378777</td>\n",
       "      <td>17875.944028</td>\n",
       "      <td>5.000000</td>\n",
       "      <td>3.550000</td>\n",
       "      <td>2300.000000</td>\n",
       "      <td>126.018182</td>\n",
       "      <td>17020.175116</td>\n",
       "      <td>17020.175116</td>\n",
       "    </tr>\n",
       "    <tr>\n",
       "      <th>Puerto Madero</th>\n",
       "      <td>56961.300158</td>\n",
       "      <td>3429760.0</td>\n",
       "      <td>-34.614029</td>\n",
       "      <td>-58.362750</td>\n",
       "      <td>917347.108156</td>\n",
       "      <td>1.595045e+07</td>\n",
       "      <td>903990.127252</td>\n",
       "      <td>153.357782</td>\n",
       "      <td>140.828720</td>\n",
       "      <td>6029.687303</td>\n",
       "      <td>11619.878052</td>\n",
       "      <td>169.294118</td>\n",
       "      <td>3.071247</td>\n",
       "      <td>8382.628571</td>\n",
       "      <td>148.826224</td>\n",
       "      <td>10669.089705</td>\n",
       "      <td>10669.089705</td>\n",
       "    </tr>\n",
       "    <tr>\n",
       "      <th>Boedo</th>\n",
       "      <td>36034.587500</td>\n",
       "      <td>3436003.0</td>\n",
       "      <td>-34.625545</td>\n",
       "      <td>-58.417333</td>\n",
       "      <td>412662.809412</td>\n",
       "      <td>6.286890e+06</td>\n",
       "      <td>356308.783753</td>\n",
       "      <td>49.192771</td>\n",
       "      <td>45.978286</td>\n",
       "      <td>10697.513056</td>\n",
       "      <td>12173.159707</td>\n",
       "      <td>4.000000</td>\n",
       "      <td>1.394631</td>\n",
       "      <td>1772.052632</td>\n",
       "      <td>51.389773</td>\n",
       "      <td>10276.668722</td>\n",
       "      <td>10276.668722</td>\n",
       "    </tr>\n",
       "    <tr>\n",
       "      <th>San Cristobal</th>\n",
       "      <td>42370.047934</td>\n",
       "      <td>3429153.0</td>\n",
       "      <td>-34.622917</td>\n",
       "      <td>-58.401407</td>\n",
       "      <td>386637.036778</td>\n",
       "      <td>6.456385e+06</td>\n",
       "      <td>365914.871384</td>\n",
       "      <td>74.875000</td>\n",
       "      <td>69.494915</td>\n",
       "      <td>9952.388570</td>\n",
       "      <td>9272.067081</td>\n",
       "      <td>4.894118</td>\n",
       "      <td>2.127021</td>\n",
       "      <td>2315.184211</td>\n",
       "      <td>75.163636</td>\n",
       "      <td>8591.907611</td>\n",
       "      <td>8591.907611</td>\n",
       "    </tr>\n",
       "    <tr>\n",
       "      <th>...</th>\n",
       "      <td>...</td>\n",
       "      <td>...</td>\n",
       "      <td>...</td>\n",
       "      <td>...</td>\n",
       "      <td>...</td>\n",
       "      <td>...</td>\n",
       "      <td>...</td>\n",
       "      <td>...</td>\n",
       "      <td>...</td>\n",
       "      <td>...</td>\n",
       "      <td>...</td>\n",
       "      <td>...</td>\n",
       "      <td>...</td>\n",
       "      <td>...</td>\n",
       "      <td>...</td>\n",
       "      <td>...</td>\n",
       "      <td>...</td>\n",
       "    </tr>\n",
       "    <tr>\n",
       "      <th>Capital Federal</th>\n",
       "      <td>57821.928686</td>\n",
       "      <td>3433955.0</td>\n",
       "      <td>-34.626820</td>\n",
       "      <td>-58.436014</td>\n",
       "      <td>458605.754555</td>\n",
       "      <td>7.603071e+06</td>\n",
       "      <td>430903.164212</td>\n",
       "      <td>383.899556</td>\n",
       "      <td>197.652552</td>\n",
       "      <td>1772.903875</td>\n",
       "      <td>2828.254453</td>\n",
       "      <td>2.457627</td>\n",
       "      <td>2.711538</td>\n",
       "      <td>2723.789157</td>\n",
       "      <td>360.029647</td>\n",
       "      <td>1826.331976</td>\n",
       "      <td>1826.331976</td>\n",
       "    </tr>\n",
       "    <tr>\n",
       "      <th>Constitución</th>\n",
       "      <td>50729.188406</td>\n",
       "      <td>3435257.0</td>\n",
       "      <td>-34.624014</td>\n",
       "      <td>-58.384466</td>\n",
       "      <td>193307.341463</td>\n",
       "      <td>2.181913e+06</td>\n",
       "      <td>123659.669512</td>\n",
       "      <td>73.975460</td>\n",
       "      <td>70.408867</td>\n",
       "      <td>1794.471533</td>\n",
       "      <td>4107.089525</td>\n",
       "      <td>4.450000</td>\n",
       "      <td>2.179856</td>\n",
       "      <td>1471.521739</td>\n",
       "      <td>76.632850</td>\n",
       "      <td>1816.503354</td>\n",
       "      <td>1816.503354</td>\n",
       "    </tr>\n",
       "    <tr>\n",
       "      <th>Mataderos</th>\n",
       "      <td>64503.889807</td>\n",
       "      <td>3430787.0</td>\n",
       "      <td>-34.668666</td>\n",
       "      <td>-58.521774</td>\n",
       "      <td>180115.766854</td>\n",
       "      <td>3.178053e+06</td>\n",
       "      <td>180115.766854</td>\n",
       "      <td>152.377551</td>\n",
       "      <td>121.755418</td>\n",
       "      <td>1552.250025</td>\n",
       "      <td>2007.635900</td>\n",
       "      <td>4.714286</td>\n",
       "      <td>3.321101</td>\n",
       "      <td>988.743590</td>\n",
       "      <td>151.112948</td>\n",
       "      <td>1700.004990</td>\n",
       "      <td>1700.004990</td>\n",
       "    </tr>\n",
       "    <tr>\n",
       "      <th>Villa Real</th>\n",
       "      <td>53966.108108</td>\n",
       "      <td>3427383.0</td>\n",
       "      <td>-34.620126</td>\n",
       "      <td>-58.524726</td>\n",
       "      <td>187378.378378</td>\n",
       "      <td>3.306198e+06</td>\n",
       "      <td>187378.378378</td>\n",
       "      <td>153.888889</td>\n",
       "      <td>102.945946</td>\n",
       "      <td>1467.577619</td>\n",
       "      <td>2034.242961</td>\n",
       "      <td>NaN</td>\n",
       "      <td>3.294118</td>\n",
       "      <td>3750.000000</td>\n",
       "      <td>135.405405</td>\n",
       "      <td>1611.421900</td>\n",
       "      <td>1611.421900</td>\n",
       "    </tr>\n",
       "    <tr>\n",
       "      <th>Villa Soldati</th>\n",
       "      <td>48018.666667</td>\n",
       "      <td>3427366.0</td>\n",
       "      <td>-34.662963</td>\n",
       "      <td>-58.445299</td>\n",
       "      <td>718674.066667</td>\n",
       "      <td>1.158142e+07</td>\n",
       "      <td>656375.589333</td>\n",
       "      <td>2852.857143</td>\n",
       "      <td>884.285714</td>\n",
       "      <td>743.666758</td>\n",
       "      <td>2087.779978</td>\n",
       "      <td>4.666667</td>\n",
       "      <td>3.833333</td>\n",
       "      <td>1.000000</td>\n",
       "      <td>1376.066667</td>\n",
       "      <td>882.092731</td>\n",
       "      <td>882.092731</td>\n",
       "    </tr>\n",
       "  </tbody>\n",
       "</table>\n",
       "<p>62 rows × 17 columns</p>\n",
       "</div>"
      ],
      "text/plain": [
       "                    Unnamed: 0  geonames_id        lat        lon  \\\n",
       "place_name_clean                                                    \n",
       "Villa Santa Rita  39447.054545    6693230.0 -34.615428 -58.480472   \n",
       "Versalles         52066.254545    3427510.0 -34.629243 -58.520120   \n",
       "Puerto Madero     56961.300158    3429760.0 -34.614029 -58.362750   \n",
       "Boedo             36034.587500    3436003.0 -34.625545 -58.417333   \n",
       "San Cristobal     42370.047934    3429153.0 -34.622917 -58.401407   \n",
       "...                        ...          ...        ...        ...   \n",
       "Capital Federal   57821.928686    3433955.0 -34.626820 -58.436014   \n",
       "Constitución      50729.188406    3435257.0 -34.624014 -58.384466   \n",
       "Mataderos         64503.889807    3430787.0 -34.668666 -58.521774   \n",
       "Villa Real        53966.108108    3427383.0 -34.620126 -58.524726   \n",
       "Villa Soldati     48018.666667    3427366.0 -34.662963 -58.445299   \n",
       "\n",
       "                          price  price_aprox_local_currency  price_aprox_usd  \\\n",
       "place_name_clean                                                               \n",
       "Villa Santa Rita  179595.454545                3.168872e+06    179595.454545   \n",
       "Versalles         234094.230769                4.130476e+06    234094.230769   \n",
       "Puerto Madero     917347.108156                1.595045e+07    903990.127252   \n",
       "Boedo             412662.809412                6.286890e+06    356308.783753   \n",
       "San Cristobal     386637.036778                6.456385e+06    365914.871384   \n",
       "...                         ...                         ...              ...   \n",
       "Capital Federal   458605.754555                7.603071e+06    430903.164212   \n",
       "Constitución      193307.341463                2.181913e+06    123659.669512   \n",
       "Mataderos         180115.766854                3.178053e+06    180115.766854   \n",
       "Villa Real        187378.378378                3.306198e+06    187378.378378   \n",
       "Villa Soldati     718674.066667                1.158142e+07    656375.589333   \n",
       "\n",
       "                  surface_total_in_m2  surface_covered_in_m2  \\\n",
       "place_name_clean                                               \n",
       "Villa Santa Rita           126.518519              62.109091   \n",
       "Versalles                  158.413793              96.415094   \n",
       "Puerto Madero              153.357782             140.828720   \n",
       "Boedo                       49.192771              45.978286   \n",
       "San Cristobal               74.875000              69.494915   \n",
       "...                               ...                    ...   \n",
       "Capital Federal            383.899556             197.652552   \n",
       "Constitución                73.975460              70.408867   \n",
       "Mataderos                  152.377551             121.755418   \n",
       "Villa Real                 153.888889             102.945946   \n",
       "Villa Soldati             2852.857143             884.285714   \n",
       "\n",
       "                  price_usd_per_m2  price_per_m2       floor     rooms  \\\n",
       "place_name_clean                                                         \n",
       "Villa Santa Rita       1889.186620  37884.728484    5.636364  2.589744   \n",
       "Versalles              1542.378777  17875.944028    5.000000  3.550000   \n",
       "Puerto Madero          6029.687303  11619.878052  169.294118  3.071247   \n",
       "Boedo                 10697.513056  12173.159707    4.000000  1.394631   \n",
       "San Cristobal          9952.388570   9272.067081    4.894118  2.127021   \n",
       "...                            ...           ...         ...       ...   \n",
       "Capital Federal        1772.903875   2828.254453    2.457627  2.711538   \n",
       "Constitución           1794.471533   4107.089525    4.450000  2.179856   \n",
       "Mataderos              1552.250025   2007.635900    4.714286  3.321101   \n",
       "Villa Real             1467.577619   2034.242961         NaN  3.294118   \n",
       "Villa Soldati           743.666758   2087.779978    4.666667  3.833333   \n",
       "\n",
       "                     expenses  surface_total_in_m2_clean  price_usd_en_m2  \\\n",
       "place_name_clean                                                            \n",
       "Villa Santa Rita  1000.000000                  85.236364     25849.907667   \n",
       "Versalles         2300.000000                 126.018182     17020.175116   \n",
       "Puerto Madero     8382.628571                 148.826224     10669.089705   \n",
       "Boedo             1772.052632                  51.389773     10276.668722   \n",
       "San Cristobal     2315.184211                  75.163636      8591.907611   \n",
       "...                       ...                        ...              ...   \n",
       "Capital Federal   2723.789157                 360.029647      1826.331976   \n",
       "Constitución      1471.521739                  76.632850      1816.503354   \n",
       "Mataderos          988.743590                 151.112948      1700.004990   \n",
       "Villa Real        3750.000000                 135.405405      1611.421900   \n",
       "Villa Soldati        1.000000                1376.066667       882.092731   \n",
       "\n",
       "                  price_usd_en_m2_clean  \n",
       "place_name_clean                         \n",
       "Villa Santa Rita           25849.907667  \n",
       "Versalles                  17020.175116  \n",
       "Puerto Madero              10669.089705  \n",
       "Boedo                      10276.668722  \n",
       "San Cristobal               8591.907611  \n",
       "...                                 ...  \n",
       "Capital Federal             1826.331976  \n",
       "Constitución                1816.503354  \n",
       "Mataderos                   1700.004990  \n",
       "Villa Real                  1611.421900  \n",
       "Villa Soldati                882.092731  \n",
       "\n",
       "[62 rows x 17 columns]"
      ]
     },
     "execution_count": 149,
     "metadata": {},
     "output_type": "execute_result"
    }
   ],
   "source": [
    "group_capital_mean = data_2[maskcapital].groupby(['place_name_clean']).mean().sort_values('price_usd_en_m2_clean', ascending=False)\n",
    "group_capital_mean"
   ]
  },
  {
   "cell_type": "code",
   "execution_count": 159,
   "metadata": {},
   "outputs": [
    {
     "data": {
      "text/plain": [
       "<AxesSubplot:xlabel='place_name_clean', ylabel='price_usd_en_m2_clean'>"
      ]
     },
     "execution_count": 159,
     "metadata": {},
     "output_type": "execute_result"
    },
    {
     "data": {
      "image/png": "[encoded data removed]",
      "text/plain": [
       "<Figure size 432x288 with 1 Axes>"
      ]
     },
     "metadata": {
      "needs_background": "light"
     },
     "output_type": "display_data"
    }
   ],
   "source": [
    "sns.boxplot( x=group_capital_mean.index, y=group_capital_mean['price_usd_en_m2_clean'], data=group_capital_mean)\n",
    "\n",
    "\n"
   ]
  },
  {
   "cell_type": "code",
   "execution_count": 150,
   "metadata": {},
   "outputs": [
    {
     "data": {
      "application/vnd.plotly.v1+json": {
       "config": {
        "plotlyServerURL": "https://plot.ly"
       },
       "data": [
        {
         "alignmentgroup": "True",
         "hovertemplate": "x=%{x}<br>Unnamed: 0=%{y}<extra></extra>",
         "legendgroup": "",
         "marker": {
          "color": "#636efa"
         },
         "name": "",
         "offsetgroup": "",
         "orientation": "v",
         "showlegend": false,
         "textposition": "auto",
         "type": "bar",
         "x": [
          "Belgrano",
          "Palermo",
          "Caballito",
          "Recoleta",
          "Villa Urquiza",
          "Flores",
          "Villa Crespo",
          "San Telmo",
          "Barrio Norte",
          "Almagro",
          "Capital Federal",
          "Boedo",
          "Nuñez",
          "Balvanera",
          "San Cristobal",
          "Puerto Madero",
          "Saavedra",
          "Monserrat",
          "Palermo Hollywood",
          "Villa del Parque",
          "Floresta",
          "Barracas",
          "Villa Devoto",
          "Colegiales",
          "Villa Luro",
          "Mataderos",
          "Palermo Soho",
          "Congreso",
          "Parque Patricios",
          "Liniers",
          "Coghlan",
          "Retiro",
          "Centro / Microcentro",
          "Chacarita",
          "Constitución",
          "Boca",
          "Palermo Chico",
          "Villa Lugano",
          "Villa Pueyrredón",
          "San Nicolás",
          "Paternal",
          "Once",
          "Parque Chacabuco",
          "Las Cañitas",
          "Abasto",
          "Villa Ortuzar",
          "Tribunales",
          "Monte Castro",
          "Parque Centenario",
          "Villa Santa Rita",
          "Pompeya",
          "Parque Avellaneda",
          "Versalles",
          "Villa General Mitre",
          "Parque Chas",
          "Palermo Viejo",
          "Villa Real",
          "Agronomía",
          "Velez Sarsfield",
          "Villa Soldati",
          "Villa Riachuelo",
          "Catalinas"
         ],
         "xaxis": "x",
         "y": [
          2966,
          2831,
          2239,
          1520,
          1617,
          1301,
          1321,
          1204,
          1119,
          1143,
          1248,
          880,
          767,
          652,
          605,
          633,
          537,
          527,
          525,
          480,
          504,
          409,
          395,
          347,
          362,
          363,
          387,
          300,
          315,
          313,
          254,
          243,
          223,
          221,
          207,
          217,
          232,
          190,
          172,
          179,
          165,
          194,
          143,
          141,
          110,
          86,
          95,
          76,
          67,
          55,
          58,
          54,
          55,
          47,
          44,
          40,
          37,
          40,
          35,
          15,
          6,
          4
         ],
         "yaxis": "y"
        }
       ],
       "layout": {
        "autosize": true,
        "barmode": "relative",
        "legend": {
         "tracegroupgap": 0
        },
        "margin": {
         "t": 60
        },
        "template": {
         "data": {
          "bar": [
           {
            "error_x": {
             "color": "#2a3f5f"
            },
            "error_y": {
             "color": "#2a3f5f"
            },
            "marker": {
             "line": {
              "color": "#E5ECF6",
              "width": 0.5
             }
            },
            "type": "bar"
           }
          ],
          "barpolar": [
           {
            "marker": {
             "line": {
              "color": "#E5ECF6",
              "width": 0.5
             }
            },
            "type": "barpolar"
           }
          ],
          "carpet": [
           {
            "aaxis": {
             "endlinecolor": "#2a3f5f",
             "gridcolor": "white",
             "linecolor": "white",
             "minorgridcolor": "white",
             "startlinecolor": "#2a3f5f"
            },
            "baxis": {
             "endlinecolor": "#2a3f5f",
             "gridcolor": "white",
             "linecolor": "white",
             "minorgridcolor": "white",
             "startlinecolor": "#2a3f5f"
            },
            "type": "carpet"
           }
          ],
          "choropleth": [
           {
            "colorbar": {
             "outlinewidth": 0,
             "ticks": ""
            },
            "type": "choropleth"
           }
          ],
          "contour": [
           {
            "colorbar": {
             "outlinewidth": 0,
             "ticks": ""
            },
            "colorscale": [
             [
              0,
              "#0d0887"
             ],
             [
              0.1111111111111111,
              "#46039f"
             ],
             [
              0.2222222222222222,
              "#7201a8"
             ],
             [
              0.3333333333333333,
              "#9c179e"
             ],
             [
              0.4444444444444444,
              "#bd3786"
             ],
             [
              0.5555555555555556,
              "#d8576b"
             ],
             [
              0.6666666666666666,
              "#ed7953"
             ],
             [
              0.7777777777777778,
              "#fb9f3a"
             ],
             [
              0.8888888888888888,
              "#fdca26"
             ],
             [
              1,
              "#f0f921"
             ]
            ],
            "type": "contour"
           }
          ],
          "contourcarpet": [
           {
            "colorbar": {
             "outlinewidth": 0,
             "ticks": ""
            },
            "type": "contourcarpet"
           }
          ],
          "heatmap": [
           {
            "colorbar": {
             "outlinewidth": 0,
             "ticks": ""
            },
            "colorscale": [
             [
              0,
              "#0d0887"
             ],
             [
              0.1111111111111111,
              "#46039f"
             ],
             [
              0.2222222222222222,
              "#7201a8"
             ],
             [
              0.3333333333333333,
              "#9c179e"
             ],
             [
              0.4444444444444444,
              "#bd3786"
             ],
             [
              0.5555555555555556,
              "#d8576b"
             ],
             [
              0.6666666666666666,
              "#ed7953"
             ],
             [
              0.7777777777777778,
              "#fb9f3a"
             ],
             [
              0.8888888888888888,
              "#fdca26"
             ],
             [
              1,
              "#f0f921"
             ]
            ],
            "type": "heatmap"
           }
          ],
          "heatmapgl": [
           {
            "colorbar": {
             "outlinewidth": 0,
             "ticks": ""
            },
            "colorscale": [
             [
              0,
              "#0d0887"
             ],
             [
              0.1111111111111111,
              "#46039f"
             ],
             [
              0.2222222222222222,
              "#7201a8"
             ],
             [
              0.3333333333333333,
              "#9c179e"
             ],
             [
              0.4444444444444444,
              "#bd3786"
             ],
             [
              0.5555555555555556,
              "#d8576b"
             ],
             [
              0.6666666666666666,
              "#ed7953"
             ],
             [
              0.7777777777777778,
              "#fb9f3a"
             ],
             [
              0.8888888888888888,
              "#fdca26"
             ],
             [
              1,
              "#f0f921"
             ]
            ],
            "type": "heatmapgl"
           }
          ],
          "histogram": [
           {
            "marker": {
             "colorbar": {
              "outlinewidth": 0,
              "ticks": ""
             }
            },
            "type": "histogram"
           }
          ],
          "histogram2d": [
           {
            "colorbar": {
             "outlinewidth": 0,
             "ticks": ""
            },
            "colorscale": [
             [
              0,
              "#0d0887"
             ],
             [
              0.1111111111111111,
              "#46039f"
             ],
             [
              0.2222222222222222,
              "#7201a8"
             ],
             [
              0.3333333333333333,
              "#9c179e"
             ],
             [
              0.4444444444444444,
              "#bd3786"
             ],
             [
              0.5555555555555556,
              "#d8576b"
             ],
             [
              0.6666666666666666,
              "#ed7953"
             ],
             [
              0.7777777777777778,
              "#fb9f3a"
             ],
             [
              0.8888888888888888,
              "#fdca26"
             ],
             [
              1,
              "#f0f921"
             ]
            ],
            "type": "histogram2d"
           }
          ],
          "histogram2dcontour": [
           {
            "colorbar": {
             "outlinewidth": 0,
             "ticks": ""
            },
            "colorscale": [
             [
              0,
              "#0d0887"
             ],
             [
              0.1111111111111111,
              "#46039f"
             ],
             [
              0.2222222222222222,
              "#7201a8"
             ],
             [
              0.3333333333333333,
              "#9c179e"
             ],
             [
              0.4444444444444444,
              "#bd3786"
             ],
             [
              0.5555555555555556,
              "#d8576b"
             ],
             [
              0.6666666666666666,
              "#ed7953"
             ],
             [
              0.7777777777777778,
              "#fb9f3a"
             ],
             [
              0.8888888888888888,
              "#fdca26"
             ],
             [
              1,
              "#f0f921"
             ]
            ],
            "type": "histogram2dcontour"
           }
          ],
          "mesh3d": [
           {
            "colorbar": {
             "outlinewidth": 0,
             "ticks": ""
            },
            "type": "mesh3d"
           }
          ],
          "parcoords": [
           {
            "line": {
             "colorbar": {
              "outlinewidth": 0,
              "ticks": ""
             }
            },
            "type": "parcoords"
           }
          ],
          "pie": [
           {
            "automargin": true,
            "type": "pie"
           }
          ],
          "scatter": [
           {
            "marker": {
             "colorbar": {
              "outlinewidth": 0,
              "ticks": ""
             }
            },
            "type": "scatter"
           }
          ],
          "scatter3d": [
           {
            "line": {
             "colorbar": {
              "outlinewidth": 0,
              "ticks": ""
             }
            },
            "marker": {
             "colorbar": {
              "outlinewidth": 0,
              "ticks": ""
             }
            },
            "type": "scatter3d"
           }
          ],
          "scattercarpet": [
           {
            "marker": {
             "colorbar": {
              "outlinewidth": 0,
              "ticks": ""
             }
            },
            "type": "scattercarpet"
           }
          ],
          "scattergeo": [
           {
            "marker": {
             "colorbar": {
              "outlinewidth": 0,
              "ticks": ""
             }
            },
            "type": "scattergeo"
           }
          ],
          "scattergl": [
           {
            "marker": {
             "colorbar": {
              "outlinewidth": 0,
              "ticks": ""
             }
            },
            "type": "scattergl"
           }
          ],
          "scattermapbox": [
           {
            "marker": {
             "colorbar": {
              "outlinewidth": 0,
              "ticks": ""
             }
            },
            "type": "scattermapbox"
           }
          ],
          "scatterpolar": [
           {
            "marker": {
             "colorbar": {
              "outlinewidth": 0,
              "ticks": ""
             }
            },
            "type": "scatterpolar"
           }
          ],
          "scatterpolargl": [
           {
            "marker": {
             "colorbar": {
              "outlinewidth": 0,
              "ticks": ""
             }
            },
            "type": "scatterpolargl"
           }
          ],
          "scatterternary": [
           {
            "marker": {
             "colorbar": {
              "outlinewidth": 0,
              "ticks": ""
             }
            },
            "type": "scatterternary"
           }
          ],
          "surface": [
           {
            "colorbar": {
             "outlinewidth": 0,
             "ticks": ""
            },
            "colorscale": [
             [
              0,
              "#0d0887"
             ],
             [
              0.1111111111111111,
              "#46039f"
             ],
             [
              0.2222222222222222,
              "#7201a8"
             ],
             [
              0.3333333333333333,
              "#9c179e"
             ],
             [
              0.4444444444444444,
              "#bd3786"
             ],
             [
              0.5555555555555556,
              "#d8576b"
             ],
             [
              0.6666666666666666,
              "#ed7953"
             ],
             [
              0.7777777777777778,
              "#fb9f3a"
             ],
             [
              0.8888888888888888,
              "#fdca26"
             ],
             [
              1,
              "#f0f921"
             ]
            ],
            "type": "surface"
           }
          ],
          "table": [
           {
            "cells": {
             "fill": {
              "color": "#EBF0F8"
             },
             "line": {
              "color": "white"
             }
            },
            "header": {
             "fill": {
              "color": "#C8D4E3"
             },
             "line": {
              "color": "white"
             }
            },
            "type": "table"
           }
          ]
         },
         "layout": {
          "annotationdefaults": {
           "arrowcolor": "#2a3f5f",
           "arrowhead": 0,
           "arrowwidth": 1
          },
          "coloraxis": {
           "colorbar": {
            "outlinewidth": 0,
            "ticks": ""
           }
          },
          "colorscale": {
           "diverging": [
            [
             0,
             "#8e0152"
            ],
            [
             0.1,
             "#c51b7d"
            ],
            [
             0.2,
             "#de77ae"
            ],
            [
             0.3,
             "#f1b6da"
            ],
            [
             0.4,
             "#fde0ef"
            ],
            [
             0.5,
             "#f7f7f7"
            ],
            [
             0.6,
             "#e6f5d0"
            ],
            [
             0.7,
             "#b8e186"
            ],
            [
             0.8,
             "#7fbc41"
            ],
            [
             0.9,
             "#4d9221"
            ],
            [
             1,
             "#276419"
            ]
           ],
           "sequential": [
            [
             0,
             "#0d0887"
            ],
            [
             0.1111111111111111,
             "#46039f"
            ],
            [
             0.2222222222222222,
             "#7201a8"
            ],
            [
             0.3333333333333333,
             "#9c179e"
            ],
            [
             0.4444444444444444,
             "#bd3786"
            ],
            [
             0.5555555555555556,
             "#d8576b"
            ],
            [
             0.6666666666666666,
             "#ed7953"
            ],
            [
             0.7777777777777778,
             "#fb9f3a"
            ],
            [
             0.8888888888888888,
             "#fdca26"
            ],
            [
             1,
             "#f0f921"
            ]
           ],
           "sequentialminus": [
            [
             0,
             "#0d0887"
            ],
            [
             0.1111111111111111,
             "#46039f"
            ],
            [
             0.2222222222222222,
             "#7201a8"
            ],
            [
             0.3333333333333333,
             "#9c179e"
            ],
            [
             0.4444444444444444,
             "#bd3786"
            ],
            [
             0.5555555555555556,
             "#d8576b"
            ],
            [
             0.6666666666666666,
             "#ed7953"
            ],
            [
             0.7777777777777778,
             "#fb9f3a"
            ],
            [
             0.8888888888888888,
             "#fdca26"
            ],
            [
             1,
             "#f0f921"
            ]
           ]
          },
          "colorway": [
           "#636efa",
           "#EF553B",
           "#00cc96",
           "#ab63fa",
           "#FFA15A",
           "#19d3f3",
           "#FF6692",
           "#B6E880",
           "#FF97FF",
           "#FECB52"
          ],
          "font": {
           "color": "#2a3f5f"
          },
          "geo": {
           "bgcolor": "white",
           "lakecolor": "white",
           "landcolor": "#E5ECF6",
           "showlakes": true,
           "showland": true,
           "subunitcolor": "white"
          },
          "hoverlabel": {
           "align": "left"
          },
          "hovermode": "closest",
          "mapbox": {
           "style": "light"
          },
          "paper_bgcolor": "white",
          "plot_bgcolor": "#E5ECF6",
          "polar": {
           "angularaxis": {
            "gridcolor": "white",
            "linecolor": "white",
            "ticks": ""
           },
           "bgcolor": "#E5ECF6",
           "radialaxis": {
            "gridcolor": "white",
            "linecolor": "white",
            "ticks": ""
           }
          },
          "scene": {
           "xaxis": {
            "backgroundcolor": "#E5ECF6",
            "gridcolor": "white",
            "gridwidth": 2,
            "linecolor": "white",
            "showbackground": true,
            "ticks": "",
            "zerolinecolor": "white"
           },
           "yaxis": {
            "backgroundcolor": "#E5ECF6",
            "gridcolor": "white",
            "gridwidth": 2,
            "linecolor": "white",
            "showbackground": true,
            "ticks": "",
            "zerolinecolor": "white"
           },
           "zaxis": {
            "backgroundcolor": "#E5ECF6",
            "gridcolor": "white",
            "gridwidth": 2,
            "linecolor": "white",
            "showbackground": true,
            "ticks": "",
            "zerolinecolor": "white"
           }
          },
          "shapedefaults": {
           "line": {
            "color": "#2a3f5f"
           }
          },
          "ternary": {
           "aaxis": {
            "gridcolor": "white",
            "linecolor": "white",
            "ticks": ""
           },
           "baxis": {
            "gridcolor": "white",
            "linecolor": "white",
            "ticks": ""
           },
           "bgcolor": "#E5ECF6",
           "caxis": {
            "gridcolor": "white",
            "linecolor": "white",
            "ticks": ""
           }
          },
          "title": {
           "x": 0.05
          },
          "xaxis": {
           "automargin": true,
           "gridcolor": "white",
           "linecolor": "white",
           "ticks": "",
           "title": {
            "standoff": 15
           },
           "zerolinecolor": "white",
           "zerolinewidth": 2
          },
          "yaxis": {
           "automargin": true,
           "gridcolor": "white",
           "linecolor": "white",
           "ticks": "",
           "title": {
            "standoff": 15
           },
           "zerolinecolor": "white",
           "zerolinewidth": 2
          }
         }
        },
        "xaxis": {
         "anchor": "y",
         "autorange": true,
         "domain": [
          0,
          1
         ],
         "range": [
          -0.5,
          61.5
         ],
         "title": {
          "text": "x"
         },
         "type": "category"
        },
        "yaxis": {
         "anchor": "x",
         "autorange": true,
         "domain": [
          0,
          1
         ],
         "range": [
          0,
          3122.1052631578946
         ],
         "title": {
          "text": "Unnamed: 0"
         },
         "type": "linear"
        }
       }
      },
      "image/png": "[encoded data removed]",
      "text/html": [
       "<div>\n",
       "        \n",
       "        \n",
       "            <div id=\"9fa43ca4-de35-4c3e-8945-a40ed8470a05\" class=\"plotly-graph-div\" style=\"height:525px; width:100%;\"></div>\n",
       "            <script type=\"text/javascript\">\n",
       "                require([\"plotly\"], function(Plotly) {\n",
       "                    window.PLOTLYENV=window.PLOTLYENV || {};\n",
       "                    \n",
       "                if (document.getElementById(\"9fa43ca4-de35-4c3e-8945-a40ed8470a05\")) {\n",
       "                    Plotly.newPlot(\n",
       "                        '9fa43ca4-de35-4c3e-8945-a40ed8470a05',\n",
       "                        [{\"alignmentgroup\": \"True\", \"hovertemplate\": \"x=%{x}<br>Unnamed: 0=%{y}<extra></extra>\", \"legendgroup\": \"\", \"marker\": {\"color\": \"#636efa\"}, \"name\": \"\", \"offsetgroup\": \"\", \"orientation\": \"v\", \"showlegend\": false, \"textposition\": \"auto\", \"type\": \"bar\", \"x\": [\"Belgrano\", \"Palermo\", \"Caballito\", \"Recoleta\", \"Villa Urquiza\", \"Flores\", \"Villa Crespo\", \"San Telmo\", \"Barrio Norte\", \"Almagro\", \"Capital Federal\", \"Boedo\", \"Nu\\u00f1ez\", \"Balvanera\", \"San Cristobal\", \"Puerto Madero\", \"Saavedra\", \"Monserrat\", \"Palermo Hollywood\", \"Villa del Parque\", \"Floresta\", \"Barracas\", \"Villa Devoto\", \"Colegiales\", \"Villa Luro\", \"Mataderos\", \"Palermo Soho\", \"Congreso\", \"Parque Patricios\", \"Liniers\", \"Coghlan\", \"Retiro\", \"Centro / Microcentro\", \"Chacarita\", \"Constituci\\u00f3n\", \"Boca\", \"Palermo Chico\", \"Villa Lugano\", \"Villa Pueyrred\\u00f3n\", \"San Nicol\\u00e1s\", \"Paternal\", \"Once\", \"Parque Chacabuco\", \"Las Ca\\u00f1itas\", \"Abasto\", \"Villa Ortuzar\", \"Tribunales\", \"Monte Castro\", \"Parque Centenario\", \"Villa Santa Rita\", \"Pompeya\", \"Parque Avellaneda\", \"Versalles\", \"Villa General Mitre\", \"Parque Chas\", \"Palermo Viejo\", \"Villa Real\", \"Agronom\\u00eda\", \"Velez Sarsfield\", \"Villa Soldati\", \"Villa Riachuelo\", \"Catalinas\"], \"xaxis\": \"x\", \"y\": [2966, 2831, 2239, 1520, 1617, 1301, 1321, 1204, 1119, 1143, 1248, 880, 767, 652, 605, 633, 537, 527, 525, 480, 504, 409, 395, 347, 362, 363, 387, 300, 315, 313, 254, 243, 223, 221, 207, 217, 232, 190, 172, 179, 165, 194, 143, 141, 110, 86, 95, 76, 67, 55, 58, 54, 55, 47, 44, 40, 37, 40, 35, 15, 6, 4], \"yaxis\": \"y\"}],\n",
       "                        {\"barmode\": \"relative\", \"legend\": {\"tracegroupgap\": 0}, \"margin\": {\"t\": 60}, \"template\": {\"data\": {\"bar\": [{\"error_x\": {\"color\": \"#2a3f5f\"}, \"error_y\": {\"color\": \"#2a3f5f\"}, \"marker\": {\"line\": {\"color\": \"#E5ECF6\", \"width\": 0.5}}, \"type\": \"bar\"}], \"barpolar\": [{\"marker\": {\"line\": {\"color\": \"#E5ECF6\", \"width\": 0.5}}, \"type\": \"barpolar\"}], \"carpet\": [{\"aaxis\": {\"endlinecolor\": \"#2a3f5f\", \"gridcolor\": \"white\", \"linecolor\": \"white\", \"minorgridcolor\": \"white\", \"startlinecolor\": \"#2a3f5f\"}, \"baxis\": {\"endlinecolor\": \"#2a3f5f\", \"gridcolor\": \"white\", \"linecolor\": \"white\", \"minorgridcolor\": \"white\", \"startlinecolor\": \"#2a3f5f\"}, \"type\": \"carpet\"}], \"choropleth\": [{\"colorbar\": {\"outlinewidth\": 0, \"ticks\": \"\"}, \"type\": \"choropleth\"}], \"contour\": [{\"colorbar\": {\"outlinewidth\": 0, \"ticks\": \"\"}, \"colorscale\": [[0.0, \"#0d0887\"], [0.1111111111111111, \"#46039f\"], [0.2222222222222222, \"#7201a8\"], [0.3333333333333333, \"#9c179e\"], [0.4444444444444444, \"#bd3786\"], [0.5555555555555556, \"#d8576b\"], [0.6666666666666666, \"#ed7953\"], [0.7777777777777778, \"#fb9f3a\"], [0.8888888888888888, \"#fdca26\"], [1.0, \"#f0f921\"]], \"type\": \"contour\"}], \"contourcarpet\": [{\"colorbar\": {\"outlinewidth\": 0, \"ticks\": \"\"}, \"type\": \"contourcarpet\"}], \"heatmap\": [{\"colorbar\": {\"outlinewidth\": 0, \"ticks\": \"\"}, \"colorscale\": [[0.0, \"#0d0887\"], [0.1111111111111111, \"#46039f\"], [0.2222222222222222, \"#7201a8\"], [0.3333333333333333, \"#9c179e\"], [0.4444444444444444, \"#bd3786\"], [0.5555555555555556, \"#d8576b\"], [0.6666666666666666, \"#ed7953\"], [0.7777777777777778, \"#fb9f3a\"], [0.8888888888888888, \"#fdca26\"], [1.0, \"#f0f921\"]], \"type\": \"heatmap\"}], \"heatmapgl\": [{\"colorbar\": {\"outlinewidth\": 0, \"ticks\": \"\"}, \"colorscale\": [[0.0, \"#0d0887\"], [0.1111111111111111, \"#46039f\"], [0.2222222222222222, \"#7201a8\"], [0.3333333333333333, \"#9c179e\"], [0.4444444444444444, \"#bd3786\"], [0.5555555555555556, \"#d8576b\"], [0.6666666666666666, \"#ed7953\"], [0.7777777777777778, \"#fb9f3a\"], [0.8888888888888888, \"#fdca26\"], [1.0, \"#f0f921\"]], \"type\": \"heatmapgl\"}], \"histogram\": [{\"marker\": {\"colorbar\": {\"outlinewidth\": 0, \"ticks\": \"\"}}, \"type\": \"histogram\"}], \"histogram2d\": [{\"colorbar\": {\"outlinewidth\": 0, \"ticks\": \"\"}, \"colorscale\": [[0.0, \"#0d0887\"], [0.1111111111111111, \"#46039f\"], [0.2222222222222222, \"#7201a8\"], [0.3333333333333333, \"#9c179e\"], [0.4444444444444444, \"#bd3786\"], [0.5555555555555556, \"#d8576b\"], [0.6666666666666666, \"#ed7953\"], [0.7777777777777778, \"#fb9f3a\"], [0.8888888888888888, \"#fdca26\"], [1.0, \"#f0f921\"]], \"type\": \"histogram2d\"}], \"histogram2dcontour\": [{\"colorbar\": {\"outlinewidth\": 0, \"ticks\": \"\"}, \"colorscale\": [[0.0, \"#0d0887\"], [0.1111111111111111, \"#46039f\"], [0.2222222222222222, \"#7201a8\"], [0.3333333333333333, \"#9c179e\"], [0.4444444444444444, \"#bd3786\"], [0.5555555555555556, \"#d8576b\"], [0.6666666666666666, \"#ed7953\"], [0.7777777777777778, \"#fb9f3a\"], [0.8888888888888888, \"#fdca26\"], [1.0, \"#f0f921\"]], \"type\": \"histogram2dcontour\"}], \"mesh3d\": [{\"colorbar\": {\"outlinewidth\": 0, \"ticks\": \"\"}, \"type\": \"mesh3d\"}], \"parcoords\": [{\"line\": {\"colorbar\": {\"outlinewidth\": 0, \"ticks\": \"\"}}, \"type\": \"parcoords\"}], \"pie\": [{\"automargin\": true, \"type\": \"pie\"}], \"scatter\": [{\"marker\": {\"colorbar\": {\"outlinewidth\": 0, \"ticks\": \"\"}}, \"type\": \"scatter\"}], \"scatter3d\": [{\"line\": {\"colorbar\": {\"outlinewidth\": 0, \"ticks\": \"\"}}, \"marker\": {\"colorbar\": {\"outlinewidth\": 0, \"ticks\": \"\"}}, \"type\": \"scatter3d\"}], \"scattercarpet\": [{\"marker\": {\"colorbar\": {\"outlinewidth\": 0, \"ticks\": \"\"}}, \"type\": \"scattercarpet\"}], \"scattergeo\": [{\"marker\": {\"colorbar\": {\"outlinewidth\": 0, \"ticks\": \"\"}}, \"type\": \"scattergeo\"}], \"scattergl\": [{\"marker\": {\"colorbar\": {\"outlinewidth\": 0, \"ticks\": \"\"}}, \"type\": \"scattergl\"}], \"scattermapbox\": [{\"marker\": {\"colorbar\": {\"outlinewidth\": 0, \"ticks\": \"\"}}, \"type\": \"scattermapbox\"}], \"scatterpolar\": [{\"marker\": {\"colorbar\": {\"outlinewidth\": 0, \"ticks\": \"\"}}, \"type\": \"scatterpolar\"}], \"scatterpolargl\": [{\"marker\": {\"colorbar\": {\"outlinewidth\": 0, \"ticks\": \"\"}}, \"type\": \"scatterpolargl\"}], \"scatterternary\": [{\"marker\": {\"colorbar\": {\"outlinewidth\": 0, \"ticks\": \"\"}}, \"type\": \"scatterternary\"}], \"surface\": [{\"colorbar\": {\"outlinewidth\": 0, \"ticks\": \"\"}, \"colorscale\": [[0.0, \"#0d0887\"], [0.1111111111111111, \"#46039f\"], [0.2222222222222222, \"#7201a8\"], [0.3333333333333333, \"#9c179e\"], [0.4444444444444444, \"#bd3786\"], [0.5555555555555556, \"#d8576b\"], [0.6666666666666666, \"#ed7953\"], [0.7777777777777778, \"#fb9f3a\"], [0.8888888888888888, \"#fdca26\"], [1.0, \"#f0f921\"]], \"type\": \"surface\"}], \"table\": [{\"cells\": {\"fill\": {\"color\": \"#EBF0F8\"}, \"line\": {\"color\": \"white\"}}, \"header\": {\"fill\": {\"color\": \"#C8D4E3\"}, \"line\": {\"color\": \"white\"}}, \"type\": \"table\"}]}, \"layout\": {\"annotationdefaults\": {\"arrowcolor\": \"#2a3f5f\", \"arrowhead\": 0, \"arrowwidth\": 1}, \"coloraxis\": {\"colorbar\": {\"outlinewidth\": 0, \"ticks\": \"\"}}, \"colorscale\": {\"diverging\": [[0, \"#8e0152\"], [0.1, \"#c51b7d\"], [0.2, \"#de77ae\"], [0.3, \"#f1b6da\"], [0.4, \"#fde0ef\"], [0.5, \"#f7f7f7\"], [0.6, \"#e6f5d0\"], [0.7, \"#b8e186\"], [0.8, \"#7fbc41\"], [0.9, \"#4d9221\"], [1, \"#276419\"]], \"sequential\": [[0.0, \"#0d0887\"], [0.1111111111111111, \"#46039f\"], [0.2222222222222222, \"#7201a8\"], [0.3333333333333333, \"#9c179e\"], [0.4444444444444444, \"#bd3786\"], [0.5555555555555556, \"#d8576b\"], [0.6666666666666666, \"#ed7953\"], [0.7777777777777778, \"#fb9f3a\"], [0.8888888888888888, \"#fdca26\"], [1.0, \"#f0f921\"]], \"sequentialminus\": [[0.0, \"#0d0887\"], [0.1111111111111111, \"#46039f\"], [0.2222222222222222, \"#7201a8\"], [0.3333333333333333, \"#9c179e\"], [0.4444444444444444, \"#bd3786\"], [0.5555555555555556, \"#d8576b\"], [0.6666666666666666, \"#ed7953\"], [0.7777777777777778, \"#fb9f3a\"], [0.8888888888888888, \"#fdca26\"], [1.0, \"#f0f921\"]]}, \"colorway\": [\"#636efa\", \"#EF553B\", \"#00cc96\", \"#ab63fa\", \"#FFA15A\", \"#19d3f3\", \"#FF6692\", \"#B6E880\", \"#FF97FF\", \"#FECB52\"], \"font\": {\"color\": \"#2a3f5f\"}, \"geo\": {\"bgcolor\": \"white\", \"lakecolor\": \"white\", \"landcolor\": \"#E5ECF6\", \"showlakes\": true, \"showland\": true, \"subunitcolor\": \"white\"}, \"hoverlabel\": {\"align\": \"left\"}, \"hovermode\": \"closest\", \"mapbox\": {\"style\": \"light\"}, \"paper_bgcolor\": \"white\", \"plot_bgcolor\": \"#E5ECF6\", \"polar\": {\"angularaxis\": {\"gridcolor\": \"white\", \"linecolor\": \"white\", \"ticks\": \"\"}, \"bgcolor\": \"#E5ECF6\", \"radialaxis\": {\"gridcolor\": \"white\", \"linecolor\": \"white\", \"ticks\": \"\"}}, \"scene\": {\"xaxis\": {\"backgroundcolor\": \"#E5ECF6\", \"gridcolor\": \"white\", \"gridwidth\": 2, \"linecolor\": \"white\", \"showbackground\": true, \"ticks\": \"\", \"zerolinecolor\": \"white\"}, \"yaxis\": {\"backgroundcolor\": \"#E5ECF6\", \"gridcolor\": \"white\", \"gridwidth\": 2, \"linecolor\": \"white\", \"showbackground\": true, \"ticks\": \"\", \"zerolinecolor\": \"white\"}, \"zaxis\": {\"backgroundcolor\": \"#E5ECF6\", \"gridcolor\": \"white\", \"gridwidth\": 2, \"linecolor\": \"white\", \"showbackground\": true, \"ticks\": \"\", \"zerolinecolor\": \"white\"}}, \"shapedefaults\": {\"line\": {\"color\": \"#2a3f5f\"}}, \"ternary\": {\"aaxis\": {\"gridcolor\": \"white\", \"linecolor\": \"white\", \"ticks\": \"\"}, \"baxis\": {\"gridcolor\": \"white\", \"linecolor\": \"white\", \"ticks\": \"\"}, \"bgcolor\": \"#E5ECF6\", \"caxis\": {\"gridcolor\": \"white\", \"linecolor\": \"white\", \"ticks\": \"\"}}, \"title\": {\"x\": 0.05}, \"xaxis\": {\"automargin\": true, \"gridcolor\": \"white\", \"linecolor\": \"white\", \"ticks\": \"\", \"title\": {\"standoff\": 15}, \"zerolinecolor\": \"white\", \"zerolinewidth\": 2}, \"yaxis\": {\"automargin\": true, \"gridcolor\": \"white\", \"linecolor\": \"white\", \"ticks\": \"\", \"title\": {\"standoff\": 15}, \"zerolinecolor\": \"white\", \"zerolinewidth\": 2}}}, \"xaxis\": {\"anchor\": \"y\", \"domain\": [0.0, 1.0], \"title\": {\"text\": \"x\"}}, \"yaxis\": {\"anchor\": \"x\", \"domain\": [0.0, 1.0], \"title\": {\"text\": \"Unnamed: 0\"}}},\n",
       "                        {\"responsive\": true}\n",
       "                    ).then(function(){\n",
       "                            \n",
       "var gd = document.getElementById('9fa43ca4-de35-4c3e-8945-a40ed8470a05');\n",
       "var x = new MutationObserver(function (mutations, observer) {{\n",
       "        var display = window.getComputedStyle(gd).display;\n",
       "        if (!display || display === 'none') {{\n",
       "            console.log([gd, 'removed!']);\n",
       "            Plotly.purge(gd);\n",
       "            observer.disconnect();\n",
       "        }}\n",
       "}});\n",
       "\n",
       "// Listen for the removal of the full notebook cells\n",
       "var notebookContainer = gd.closest('#notebook-container');\n",
       "if (notebookContainer) {{\n",
       "    x.observe(notebookContainer, {childList: true});\n",
       "}}\n",
       "\n",
       "// Listen for the clearing of the current output cell\n",
       "var outputEl = gd.closest('.output');\n",
       "if (outputEl) {{\n",
       "    x.observe(outputEl, {childList: true});\n",
       "}}\n",
       "\n",
       "                        })\n",
       "                };\n",
       "                });\n",
       "            </script>\n",
       "        </div>"
      ]
     },
     "metadata": {},
     "output_type": "display_data"
    },
    {
     "name": "stderr",
     "output_type": "stream",
     "text": [
      "C:\\Users\\pato-\\anaconda3\\envs\\dhdsblend\\lib\\site-packages\\ipykernel_launcher.py:4: UserWarning:\n",
      "\n",
      "Boolean Series key will be reindexed to match DataFrame index.\n",
      "\n"
     ]
    },
    {
     "ename": "IndexingError",
     "evalue": "Unalignable boolean Series provided as indexer (index of the boolean Series and of the indexed object do not match).",
     "output_type": "error",
     "traceback": [
      "\u001b[1;31m---------------------------------------------------------------------------\u001b[0m",
      "\u001b[1;31mIndexingError\u001b[0m                             Traceback (most recent call last)",
      "\u001b[1;32m<ipython-input-150-af1433487e9b>\u001b[0m in \u001b[0;36m<module>\u001b[1;34m\u001b[0m\n\u001b[0;32m      2\u001b[0m \u001b[0mfig\u001b[0m\u001b[1;33m.\u001b[0m\u001b[0mshow\u001b[0m\u001b[1;33m(\u001b[0m\u001b[1;33m)\u001b[0m\u001b[1;33m\u001b[0m\u001b[1;33m\u001b[0m\u001b[0m\n\u001b[0;32m      3\u001b[0m \u001b[1;33m\u001b[0m\u001b[0m\n\u001b[1;32m----> 4\u001b[1;33m \u001b[0mdata_price_usd_m2_clean\u001b[0m\u001b[1;33m[\u001b[0m\u001b[0mmaskcapital\u001b[0m\u001b[1;33m]\u001b[0m\u001b[1;33m.\u001b[0m\u001b[0minfo\u001b[0m\u001b[1;33m(\u001b[0m\u001b[1;33m)\u001b[0m\u001b[1;33m\u001b[0m\u001b[1;33m\u001b[0m\u001b[0m\n\u001b[0m\u001b[0;32m      5\u001b[0m \u001b[0mdata\u001b[0m\u001b[1;33m.\u001b[0m\u001b[0mcorr\u001b[0m\u001b[1;33m(\u001b[0m\u001b[1;33m)\u001b[0m\u001b[1;33m\u001b[0m\u001b[1;33m\u001b[0m\u001b[0m\n",
      "\u001b[1;32m~\\anaconda3\\envs\\dhdsblend\\lib\\site-packages\\pandas\\core\\frame.py\u001b[0m in \u001b[0;36m__getitem__\u001b[1;34m(self, key)\u001b[0m\n\u001b[0;32m   2789\u001b[0m         \u001b[1;31m# Do we have a (boolean) 1d indexer?\u001b[0m\u001b[1;33m\u001b[0m\u001b[1;33m\u001b[0m\u001b[1;33m\u001b[0m\u001b[0m\n\u001b[0;32m   2790\u001b[0m         \u001b[1;32mif\u001b[0m \u001b[0mcom\u001b[0m\u001b[1;33m.\u001b[0m\u001b[0mis_bool_indexer\u001b[0m\u001b[1;33m(\u001b[0m\u001b[0mkey\u001b[0m\u001b[1;33m)\u001b[0m\u001b[1;33m:\u001b[0m\u001b[1;33m\u001b[0m\u001b[1;33m\u001b[0m\u001b[0m\n\u001b[1;32m-> 2791\u001b[1;33m             \u001b[1;32mreturn\u001b[0m \u001b[0mself\u001b[0m\u001b[1;33m.\u001b[0m\u001b[0m_getitem_bool_array\u001b[0m\u001b[1;33m(\u001b[0m\u001b[0mkey\u001b[0m\u001b[1;33m)\u001b[0m\u001b[1;33m\u001b[0m\u001b[1;33m\u001b[0m\u001b[0m\n\u001b[0m\u001b[0;32m   2792\u001b[0m \u001b[1;33m\u001b[0m\u001b[0m\n\u001b[0;32m   2793\u001b[0m         \u001b[1;31m# We are left with two options: a single key, and a collection of keys,\u001b[0m\u001b[1;33m\u001b[0m\u001b[1;33m\u001b[0m\u001b[1;33m\u001b[0m\u001b[0m\n",
      "\u001b[1;32m~\\anaconda3\\envs\\dhdsblend\\lib\\site-packages\\pandas\\core\\frame.py\u001b[0m in \u001b[0;36m_getitem_bool_array\u001b[1;34m(self, key)\u001b[0m\n\u001b[0;32m   2841\u001b[0m         \u001b[1;31m# check_bool_indexer will throw exception if Series key cannot\u001b[0m\u001b[1;33m\u001b[0m\u001b[1;33m\u001b[0m\u001b[1;33m\u001b[0m\u001b[0m\n\u001b[0;32m   2842\u001b[0m         \u001b[1;31m# be reindexed to match DataFrame rows\u001b[0m\u001b[1;33m\u001b[0m\u001b[1;33m\u001b[0m\u001b[1;33m\u001b[0m\u001b[0m\n\u001b[1;32m-> 2843\u001b[1;33m         \u001b[0mkey\u001b[0m \u001b[1;33m=\u001b[0m \u001b[0mcheck_bool_indexer\u001b[0m\u001b[1;33m(\u001b[0m\u001b[0mself\u001b[0m\u001b[1;33m.\u001b[0m\u001b[0mindex\u001b[0m\u001b[1;33m,\u001b[0m \u001b[0mkey\u001b[0m\u001b[1;33m)\u001b[0m\u001b[1;33m\u001b[0m\u001b[1;33m\u001b[0m\u001b[0m\n\u001b[0m\u001b[0;32m   2844\u001b[0m         \u001b[0mindexer\u001b[0m \u001b[1;33m=\u001b[0m \u001b[0mkey\u001b[0m\u001b[1;33m.\u001b[0m\u001b[0mnonzero\u001b[0m\u001b[1;33m(\u001b[0m\u001b[1;33m)\u001b[0m\u001b[1;33m[\u001b[0m\u001b[1;36m0\u001b[0m\u001b[1;33m]\u001b[0m\u001b[1;33m\u001b[0m\u001b[1;33m\u001b[0m\u001b[0m\n\u001b[0;32m   2845\u001b[0m         \u001b[1;32mreturn\u001b[0m \u001b[0mself\u001b[0m\u001b[1;33m.\u001b[0m\u001b[0m_take_with_is_copy\u001b[0m\u001b[1;33m(\u001b[0m\u001b[0mindexer\u001b[0m\u001b[1;33m,\u001b[0m \u001b[0maxis\u001b[0m\u001b[1;33m=\u001b[0m\u001b[1;36m0\u001b[0m\u001b[1;33m)\u001b[0m\u001b[1;33m\u001b[0m\u001b[1;33m\u001b[0m\u001b[0m\n",
      "\u001b[1;32m~\\anaconda3\\envs\\dhdsblend\\lib\\site-packages\\pandas\\core\\indexing.py\u001b[0m in \u001b[0;36mcheck_bool_indexer\u001b[1;34m(index, key)\u001b[0m\n\u001b[0;32m   2316\u001b[0m         \u001b[1;32mif\u001b[0m \u001b[0mmask\u001b[0m\u001b[1;33m.\u001b[0m\u001b[0many\u001b[0m\u001b[1;33m(\u001b[0m\u001b[1;33m)\u001b[0m\u001b[1;33m:\u001b[0m\u001b[1;33m\u001b[0m\u001b[1;33m\u001b[0m\u001b[0m\n\u001b[0;32m   2317\u001b[0m             raise IndexingError(\n\u001b[1;32m-> 2318\u001b[1;33m                 \u001b[1;34m\"Unalignable boolean Series provided as \"\u001b[0m\u001b[1;33m\u001b[0m\u001b[1;33m\u001b[0m\u001b[0m\n\u001b[0m\u001b[0;32m   2319\u001b[0m                 \u001b[1;34m\"indexer (index of the boolean Series and of \"\u001b[0m\u001b[1;33m\u001b[0m\u001b[1;33m\u001b[0m\u001b[0m\n\u001b[0;32m   2320\u001b[0m                 \u001b[1;34m\"the indexed object do not match).\"\u001b[0m\u001b[1;33m\u001b[0m\u001b[1;33m\u001b[0m\u001b[0m\n",
      "\u001b[1;31mIndexingError\u001b[0m: Unalignable boolean Series provided as indexer (index of the boolean Series and of the indexed object do not match)."
     ]
    }
   ],
   "source": [
    "ig = px.bar(group_capital_mean, x=group_capital_mean.price, y='price_usd_per_m2')\n",
    "fig.show() \n",
    "\n",
    "data_price_usd_m2_clean[maskcapital].info()\n",
    "data.corr()\n"
   ]
  },
  {
   "cell_type": "code",
   "execution_count": null,
   "metadata": {},
   "outputs": [],
   "source": []
  }
 ],
 "metadata": {
  "kernelspec": {
   "display_name": "Python 3",
   "language": "python",
   "name": "python3"
  },
  "language_info": {
   "codemirror_mode": {
    "name": "ipython",
    "version": 3
   },
   "file_extension": ".py",
   "mimetype": "text/x-python",
   "name": "python",
   "nbconvert_exporter": "python",
   "pygments_lexer": "ipython3",
   "version": "3.7.9"
  }
 },
 "nbformat": 4,
 "nbformat_minor": 4
}
